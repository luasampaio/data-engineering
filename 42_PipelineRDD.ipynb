{
  "nbformat": 4,
  "nbformat_minor": 0,
  "metadata": {
    "colab": {
      "provenance": [],
      "authorship_tag": "ABX9TyMp7hYqTjNKgajcfu4iQHZR",
      "include_colab_link": true
    },
    "kernelspec": {
      "name": "python3",
      "display_name": "Python 3"
    },
    "language_info": {
      "name": "python"
    }
  },
  "cells": [
    {
      "cell_type": "markdown",
      "metadata": {
        "id": "view-in-github",
        "colab_type": "text"
      },
      "source": [
        "<a href=\"https://colab.research.google.com/github/luasampaio/data-engineering/blob/main/42_PipelineRDD.ipynb\" target=\"_parent\"><img src=\"https://colab.research.google.com/assets/colab-badge.svg\" alt=\"Open In Colab\"/></a>"
      ]
    },
    {
      "cell_type": "markdown",
      "source": [
        "## RDD\n",
        "\n",
        "\n",
        "Os RDDs podem ser criados de duas maneiras:\n",
        "- 1.Transformando um RDD existente.\n",
        "- 2.De um objeto SparkContext ou SparkSession."
      ],
      "metadata": {
        "id": "jylvh2svt2bj"
      }
    },
    {
      "cell_type": "markdown",
      "source": [
        "### **Quando usar RDDs?**\n",
        "- Quando você precisa de **controle total** sobre as operações.\n",
        "- Para dados **não estruturados** ou semi-estruturados.\n",
        "- Para tarefas que envolvem **operações complexas** que não são suportadas por DataFrames ou Datasets."
      ],
      "metadata": {
        "id": "I5ieISup7CAP"
      }
    },
    {
      "cell_type": "markdown",
      "source": [
        "- Luciana Sampaio\n",
        "- 13.03.25"
      ],
      "metadata": {
        "id": "NboHqbHeBDtV"
      }
    },
    {
      "cell_type": "code",
      "execution_count": 16,
      "metadata": {
        "id": "pdFJHloUn3BQ"
      },
      "outputs": [],
      "source": [
        "from pyspark.sql import SparkSession\n",
        "spark = SparkSession.builder \\\n",
        "                    .appName('LucianaRDD') \\\n",
        "                    .getOrCreate()\n",
        "\n",
        "data = [('Luciana','Sampaio','F',30),\n",
        "       ('Steve','Jobs','M',41),\n",
        "       ('Bill','Gates','M',62),\n",
        "]"
      ]
    },
    {
      "cell_type": "code",
      "source": [
        "print(data)"
      ],
      "metadata": {
        "colab": {
          "base_uri": "https://localhost:8080/"
        },
        "id": "shzSewkJoKq8",
        "outputId": "da4f3cb0-1205-4934-bdbe-97ebe69fe8e0"
      },
      "execution_count": 17,
      "outputs": [
        {
          "output_type": "stream",
          "name": "stdout",
          "text": [
            "[('Luciana', 'Sampaio', 'F', 30), ('Steve', 'Jobs', 'M', 41), ('Bill', 'Gates', 'M', 62)]\n"
          ]
        }
      ]
    },
    {
      "cell_type": "markdown",
      "source": [
        "Verificando o tipo"
      ],
      "metadata": {
        "id": "59VDMsGluVXA"
      }
    },
    {
      "cell_type": "code",
      "source": [
        "print(type(data))"
      ],
      "metadata": {
        "colab": {
          "base_uri": "https://localhost:8080/"
        },
        "id": "6ngPdWySoWMm",
        "outputId": "04e708b7-9cbf-4a39-94e8-b2591cf2b301"
      },
      "execution_count": 18,
      "outputs": [
        {
          "output_type": "stream",
          "name": "stdout",
          "text": [
            "<class 'list'>\n"
          ]
        }
      ]
    },
    {
      "cell_type": "markdown",
      "source": [
        "declarar as colunas  e Criando Dataframe"
      ],
      "metadata": {
        "id": "kXINsc41obNu"
      }
    },
    {
      "cell_type": "code",
      "source": [
        "columns = [\"PrimeiroNome\",\"Sobrenome\",\"Genero\",\"Salario\"]\n",
        "df = spark.createDataFrame(data=data, schema = columns)\n",
        "df.show()"
      ],
      "metadata": {
        "colab": {
          "base_uri": "https://localhost:8080/"
        },
        "id": "JZGjQlbKoYSF",
        "outputId": "26c81238-419b-48fe-be4d-46df8c8a1241"
      },
      "execution_count": 19,
      "outputs": [
        {
          "output_type": "stream",
          "name": "stdout",
          "text": [
            "+------------+---------+------+-------+\n",
            "|PrimeiroNome|Sobrenome|Genero|Salario|\n",
            "+------------+---------+------+-------+\n",
            "|     Luciana|  Sampaio|     F|     30|\n",
            "|       Steve|     Jobs|     M|     41|\n",
            "|        Bill|    Gates|     M|     62|\n",
            "+------------+---------+------+-------+\n",
            "\n"
          ]
        }
      ]
    },
    {
      "cell_type": "markdown",
      "source": [
        "Novo Salario"
      ],
      "metadata": {
        "id": "CmBMOsYXo-lH"
      }
    },
    {
      "cell_type": "code",
      "source": [
        "from pyspark.sql.functions import concat_ws,col,lit\n",
        "df.select(concat_ws(\",\",df.PrimeiroNome,df.Sobrenome).alias(\"Nome\"), \\\n",
        "        df.Genero,lit(df.Salario*2).alias(\"novoSalario\")).show()"
      ],
      "metadata": {
        "colab": {
          "base_uri": "https://localhost:8080/"
        },
        "id": "3fw_tB6vojXw",
        "outputId": "edf04848-467d-4b6b-a536-7d06300ba908"
      },
      "execution_count": 20,
      "outputs": [
        {
          "output_type": "stream",
          "name": "stdout",
          "text": [
            "+---------------+------+-----------+\n",
            "|           Nome|Genero|novoSalario|\n",
            "+---------------+------+-----------+\n",
            "|Luciana,Sampaio|     F|         60|\n",
            "|     Steve,Jobs|     M|         82|\n",
            "|     Bill,Gates|     M|        124|\n",
            "+---------------+------+-----------+\n",
            "\n"
          ]
        }
      ]
    },
    {
      "cell_type": "code",
      "source": [
        "print(df.collect())\n",
        "rdd=df.rdd.map(lambda x:\n",
        "    (x[0]+\",\"+x[1],x[2],x[3]*2)\n",
        "    )\n",
        "df2=rdd.toDF([\"Nome\",\"Genero\",\"novoSalario\"]   )\n",
        "df2.show()"
      ],
      "metadata": {
        "colab": {
          "base_uri": "https://localhost:8080/"
        },
        "id": "E9y5-EAao4eA",
        "outputId": "21a5def7-87aa-4bac-cfa0-d72093840f77"
      },
      "execution_count": 21,
      "outputs": [
        {
          "output_type": "stream",
          "name": "stdout",
          "text": [
            "[Row(PrimeiroNome='Luciana', Sobrenome='Sampaio', Genero='F', Salario=30), Row(PrimeiroNome='Steve', Sobrenome='Jobs', Genero='M', Salario=41), Row(PrimeiroNome='Bill', Sobrenome='Gates', Genero='M', Salario=62)]\n",
            "+---------------+------+-----------+\n",
            "|           Nome|Genero|novoSalario|\n",
            "+---------------+------+-----------+\n",
            "|Luciana,Sampaio|     F|         60|\n",
            "|     Steve,Jobs|     M|         82|\n",
            "|     Bill,Gates|     M|        124|\n",
            "+---------------+------+-----------+\n",
            "\n"
          ]
        }
      ]
    },
    {
      "cell_type": "code",
      "source": [
        "# Coleta todos os elementos e retorna como lista\n",
        "print(rdd.collect())"
      ],
      "metadata": {
        "colab": {
          "base_uri": "https://localhost:8080/"
        },
        "id": "pGYG78yts-mI",
        "outputId": "6a6cbb40-9d1d-47d1-e877-8be165e45316"
      },
      "execution_count": 22,
      "outputs": [
        {
          "output_type": "stream",
          "name": "stdout",
          "text": [
            "[('Luciana,Sampaio', 'F', 60), ('Steve,Jobs', 'M', 82), ('Bill,Gates', 'M', 124)]\n"
          ]
        }
      ]
    },
    {
      "cell_type": "code",
      "source": [
        "#Usando função lambda para o novo salario direto\n",
        "rdd2=df.rdd.map(lambda x:\n",
        "    (x.PrimeiroNome+\",\"+x.Sobrenome,x.Genero,x.Salario*2)\n",
        "    )"
      ],
      "metadata": {
        "id": "o0R_yThltC4d"
      },
      "execution_count": 24,
      "outputs": []
    },
    {
      "cell_type": "code",
      "source": [
        "rdd2.collect()"
      ],
      "metadata": {
        "colab": {
          "base_uri": "https://localhost:8080/"
        },
        "id": "NjUwuwYfvqG1",
        "outputId": "5bdbb319-3aa1-462b-ad9f-ef99db94df21"
      },
      "execution_count": 25,
      "outputs": [
        {
          "output_type": "execute_result",
          "data": {
            "text/plain": [
              "[('Luciana,Sampaio', 'F', 60),\n",
              " ('Steve,Jobs', 'M', 82),\n",
              " ('Bill,Gates', 'M', 124)]"
            ]
          },
          "metadata": {},
          "execution_count": 25
        }
      ]
    },
    {
      "cell_type": "markdown",
      "source": [
        "Fazendo por Função a transformacao direta de um novo salario"
      ],
      "metadata": {
        "id": "jjNU43ccw_1h"
      }
    },
    {
      "cell_type": "code",
      "source": [
        "def func1(x):\n",
        "    PrimeiroNome=x.PrimeiroNome\n",
        "    Sobrenome=x.Sobrenome\n",
        "    Nome=PrimeiroNome+\",\"+Sobrenome\n",
        "    Genero=x.Genero.lower()\n",
        "    Salario=x.Salario*2\n",
        "    return (Nome,Genero,Salario)\n",
        "\n",
        "rdd3=df.rdd.map(lambda x: func1(x))"
      ],
      "metadata": {
        "id": "LQuLow-GvyNt"
      },
      "execution_count": 27,
      "outputs": []
    },
    {
      "cell_type": "code",
      "source": [
        "rdd3.collect()"
      ],
      "metadata": {
        "colab": {
          "base_uri": "https://localhost:8080/"
        },
        "id": "gDfQg6RVw_bT",
        "outputId": "94710189-9da3-4d4b-dd9f-735851e7a05f"
      },
      "execution_count": 28,
      "outputs": [
        {
          "output_type": "execute_result",
          "data": {
            "text/plain": [
              "[('Luciana,Sampaio', 'f', 60),\n",
              " ('Steve,Jobs', 'm', 82),\n",
              " ('Bill,Gates', 'm', 124)]"
            ]
          },
          "metadata": {},
          "execution_count": 28
        }
      ]
    },
    {
      "cell_type": "code",
      "source": [
        "def f(x): print(x)\n",
        "df.rdd.foreach(f)"
      ],
      "metadata": {
        "id": "pEHbA5rzxRbW"
      },
      "execution_count": 29,
      "outputs": []
    },
    {
      "cell_type": "code",
      "source": [
        "df.rdd.foreach(lambda x:\n",
        "    print(\"Data ==>\"+x[\"PrimeiroNome\"]+\",\"+x[\"Sobrenome\"]+\",\"+x[\"Genero\"]+\",\"+str(x[\"Salario\"]*2))\n",
        "    )"
      ],
      "metadata": {
        "id": "bhzdqYpuxXH-"
      },
      "execution_count": 30,
      "outputs": []
    },
    {
      "cell_type": "code",
      "source": [
        "df.collect()"
      ],
      "metadata": {
        "colab": {
          "base_uri": "https://localhost:8080/"
        },
        "id": "JsAtEUcJxsNd",
        "outputId": "378b6b24-51fd-48ac-92c1-d4603436d25b"
      },
      "execution_count": 32,
      "outputs": [
        {
          "output_type": "execute_result",
          "data": {
            "text/plain": [
              "[Row(PrimeiroNome='Luciana', Sobrenome='Sampaio', Genero='F', Salario=30),\n",
              " Row(PrimeiroNome='Steve', Sobrenome='Jobs', Genero='M', Salario=41),\n",
              " Row(PrimeiroNome='Bill', Sobrenome='Gates', Genero='M', Salario=62)]"
            ]
          },
          "metadata": {},
          "execution_count": 32
        }
      ]
    },
    {
      "cell_type": "markdown",
      "source": [
        "Iterando com Collect"
      ],
      "metadata": {
        "id": "fM6jMEKzx9oX"
      }
    },
    {
      "cell_type": "code",
      "source": [
        "dataCollect = df.collect()\n",
        "for row in dataCollect:\n",
        "    print(row['PrimeiroNome'] + \",\" +row['Sobrenome'])"
      ],
      "metadata": {
        "colab": {
          "base_uri": "https://localhost:8080/"
        },
        "id": "5mwRpeknxkCO",
        "outputId": "14eef782-e541-432c-a8c3-ab47d92e6603"
      },
      "execution_count": 33,
      "outputs": [
        {
          "output_type": "stream",
          "name": "stdout",
          "text": [
            "Luciana,Sampaio\n",
            "Steve,Jobs\n",
            "Bill,Gates\n"
          ]
        }
      ]
    },
    {
      "cell_type": "code",
      "source": [
        "dataCollect=df.rdd.toLocalIterator()\n",
        "for row in dataCollect:\n",
        "    print(row['PrimeiroNome'] + \",\" +row['Sobrenome'])"
      ],
      "metadata": {
        "colab": {
          "base_uri": "https://localhost:8080/"
        },
        "id": "lnaKuSCGyAOM",
        "outputId": "61a38fcf-0fb3-4c40-82e9-46a89b40810b"
      },
      "execution_count": 34,
      "outputs": [
        {
          "output_type": "stream",
          "name": "stdout",
          "text": [
            "Luciana,Sampaio\n",
            "Steve,Jobs\n",
            "Bill,Gates\n"
          ]
        }
      ]
    },
    {
      "cell_type": "code",
      "source": [
        "import pandas as pd\n",
        "pandasDF = df.toPandas()\n",
        "for index, row in pandasDF.iterrows():\n",
        "    print(row['PrimeiroNome'] + \",\" +row['Sobrenome'])"
      ],
      "metadata": {
        "colab": {
          "base_uri": "https://localhost:8080/"
        },
        "id": "N6_-4LCEyTi9",
        "outputId": "42ab27de-75f7-488a-db56-c4ba4286d5b6"
      },
      "execution_count": 35,
      "outputs": [
        {
          "output_type": "stream",
          "name": "stdout",
          "text": [
            "Luciana,Sampaio\n",
            "Steve,Jobs\n",
            "Bill,Gates\n"
          ]
        }
      ]
    },
    {
      "cell_type": "code",
      "source": [
        "rdd4=spark.sparkContext.parallelize(data)"
      ],
      "metadata": {
        "id": "Wt6iI2c_yZUn"
      },
      "execution_count": 37,
      "outputs": []
    },
    {
      "cell_type": "code",
      "source": [
        "rdd4.collect()"
      ],
      "metadata": {
        "colab": {
          "base_uri": "https://localhost:8080/"
        },
        "id": "mkYTQSWWyoP7",
        "outputId": "f296df28-1010-4f95-e296-be58d079d7ec"
      },
      "execution_count": 39,
      "outputs": [
        {
          "output_type": "execute_result",
          "data": {
            "text/plain": [
              "[('Luciana', 'Sampaio', 'F', 30),\n",
              " ('Steve', 'Jobs', 'M', 41),\n",
              " ('Bill', 'Gates', 'M', 62)]"
            ]
          },
          "metadata": {},
          "execution_count": 39
        }
      ]
    },
    {
      "cell_type": "code",
      "source": [
        "rdd4.count()"
      ],
      "metadata": {
        "colab": {
          "base_uri": "https://localhost:8080/"
        },
        "id": "LjM1M80-yrKz",
        "outputId": "36c8fa3a-5aaf-4ff5-d996-b526edc98421"
      },
      "execution_count": 40,
      "outputs": [
        {
          "output_type": "execute_result",
          "data": {
            "text/plain": [
              "3"
            ]
          },
          "metadata": {},
          "execution_count": 40
        }
      ]
    },
    {
      "cell_type": "code",
      "source": [
        "rdd4.take(1)"
      ],
      "metadata": {
        "colab": {
          "base_uri": "https://localhost:8080/"
        },
        "id": "frYuh22513s6",
        "outputId": "eaff2afb-2ce0-457b-9975-f3d9c62a651d"
      },
      "execution_count": 41,
      "outputs": [
        {
          "output_type": "execute_result",
          "data": {
            "text/plain": [
              "[('Luciana', 'Sampaio', 'F', 30)]"
            ]
          },
          "metadata": {},
          "execution_count": 41
        }
      ]
    },
    {
      "cell_type": "code",
      "source": [],
      "metadata": {
        "id": "Zz6NdmX42dFc"
      },
      "execution_count": null,
      "outputs": []
    },
    {
      "cell_type": "code",
      "source": [
        "rdd5 = rdd4.map(lambda x: (x[0]+\",\"+x[1],x[2],x[3]*2))"
      ],
      "metadata": {
        "id": "MXYPiVUz2Ait"
      },
      "execution_count": 42,
      "outputs": []
    },
    {
      "cell_type": "code",
      "source": [
        "rdd5.collect()"
      ],
      "metadata": {
        "colab": {
          "base_uri": "https://localhost:8080/"
        },
        "id": "zS1UQxs52PgM",
        "outputId": "8286e55a-188c-4249-c391-8dee5cf78af5"
      },
      "execution_count": 44,
      "outputs": [
        {
          "output_type": "execute_result",
          "data": {
            "text/plain": [
              "[('Luciana,Sampaio', 'F', 60),\n",
              " ('Steve,Jobs', 'M', 82),\n",
              " ('Bill,Gates', 'M', 124)]"
            ]
          },
          "metadata": {},
          "execution_count": 44
        }
      ]
    },
    {
      "cell_type": "code",
      "source": [
        "rdd7 = spark.sparkContext.parallelize([1, 2, 3, 4, 5, 6, 7, 8, 9, 10])"
      ],
      "metadata": {
        "id": "k2f-Dxn72eLf"
      },
      "execution_count": 46,
      "outputs": []
    },
    {
      "cell_type": "code",
      "source": [
        "rdd7.collect()"
      ],
      "metadata": {
        "colab": {
          "base_uri": "https://localhost:8080/"
        },
        "id": "VddP6Y5T2ibz",
        "outputId": "486cc65b-0577-4ed9-c3d4-d37cbd929848"
      },
      "execution_count": 48,
      "outputs": [
        {
          "output_type": "execute_result",
          "data": {
            "text/plain": [
              "[1, 2, 3, 4, 5, 6, 7, 8, 9, 10]"
            ]
          },
          "metadata": {},
          "execution_count": 48
        }
      ]
    },
    {
      "cell_type": "markdown",
      "source": [
        "Filtrando com RDD e lambda"
      ],
      "metadata": {
        "id": "5PEX3wRE6Jg_"
      }
    },
    {
      "cell_type": "code",
      "source": [
        "rddfiltro = rdd7.filter(lambda x: x  == 8)"
      ],
      "metadata": {
        "id": "1DoeWdDh2nKY"
      },
      "execution_count": 51,
      "outputs": []
    },
    {
      "cell_type": "code",
      "source": [
        "rddfiltro.collect()"
      ],
      "metadata": {
        "colab": {
          "base_uri": "https://localhost:8080/"
        },
        "id": "P-3ysECy5_6b",
        "outputId": "206a8d6f-be1e-43bd-bbd6-c1db0ead9643"
      },
      "execution_count": 52,
      "outputs": [
        {
          "output_type": "execute_result",
          "data": {
            "text/plain": [
              "[8]"
            ]
          },
          "metadata": {},
          "execution_count": 52
        }
      ]
    },
    {
      "cell_type": "code",
      "source": [
        "## rddfiltro.persist()"
      ],
      "metadata": {
        "id": "pwUa0D3p6Myi"
      },
      "execution_count": 55,
      "outputs": []
    },
    {
      "cell_type": "code",
      "source": [
        "rddfiltro.collect()"
      ],
      "metadata": {
        "colab": {
          "base_uri": "https://localhost:8080/"
        },
        "id": "74YaOGqb6Xc-",
        "outputId": "66fbb031-3727-4952-df54-9e8bfb48eadc"
      },
      "execution_count": 56,
      "outputs": [
        {
          "output_type": "execute_result",
          "data": {
            "text/plain": [
              "[8]"
            ]
          },
          "metadata": {},
          "execution_count": 56
        }
      ]
    }
  ]
}