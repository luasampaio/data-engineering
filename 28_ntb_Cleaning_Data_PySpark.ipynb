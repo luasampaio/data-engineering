{
  "nbformat": 4,
  "nbformat_minor": 0,
  "metadata": {
    "colab": {
      "provenance": [],
      "authorship_tag": "ABX9TyM0tlit2eUkK5dRZtLcjbKD",
      "include_colab_link": true
    },
    "kernelspec": {
      "name": "python3",
      "display_name": "Python 3"
    },
    "language_info": {
      "name": "python"
    }
  },
  "cells": [
    {
      "cell_type": "markdown",
      "metadata": {
        "id": "view-in-github",
        "colab_type": "text"
      },
      "source": [
        "<a href=\"https://colab.research.google.com/github/luasampaio/data-engineering/blob/main/28_ntb_Cleaning_Data_PySpark.ipynb\" target=\"_parent\"><img src=\"https://colab.research.google.com/assets/colab-badge.svg\" alt=\"Open In Colab\"/></a>"
      ]
    },
    {
      "cell_type": "markdown",
      "source": [
        "**Configurações Iniciais e Importações**\n",
        "\n",
        "*Criado em 21.03.23*\n",
        "- Por: Luciana Sampaio\n",
        "- **Email: luciana.sampaio84@gmail.com**\n",
        "\n",
        "LinkedIn: [Luciana Sampaio ](https://www.linkedin.com/in/luciana-sampaio/)"
      ],
      "metadata": {
        "id": "MIfC1eBzBE4F"
      }
    },
    {
      "source": [
        "# Import necessary libraries\n",
        "!pip install pyspark\n",
        "from pyspark.sql import SparkSession\n",
        "from pyspark.ml import Pipeline\n",
        "from pyspark.ml.feature import VectorAssembler, StandardScaler, StringIndexer, OneHotEncoder\n",
        "from pyspark.ml.classification import RandomForestClassifier\n",
        "from pyspark.ml.tuning import CrossValidator, ParamGridBuilder\n",
        "from pyspark.ml.evaluation import BinaryClassificationEvaluator\n",
        "from pyspark.ml.evaluation import MulticlassClassificationEvaluator\n",
        "from pyspark.mllib.evaluation import MulticlassMetrics\n",
        "import pandas as pd\n",
        "import matplotlib.pyplot as plt\n",
        "import seaborn as sns\n",
        "import warnings\n",
        "warnings.filterwarnings('ignore')\n",
        "\n",
        "# Ensure inline plotting\n",
        "%matplotlib inline"
      ],
      "cell_type": "code",
      "metadata": {
        "colab": {
          "base_uri": "https://localhost:8080/"
        },
        "id": "MgpW5WkklQ_2",
        "outputId": "9540e6e3-674a-4cc4-ee70-95b6b48940d3"
      },
      "execution_count": 1,
      "outputs": [
        {
          "output_type": "stream",
          "name": "stdout",
          "text": [
            "Requirement already satisfied: pyspark in /usr/local/lib/python3.11/dist-packages (3.5.4)\n",
            "Requirement already satisfied: py4j==0.10.9.7 in /usr/local/lib/python3.11/dist-packages (from pyspark) (0.10.9.7)\n"
          ]
        }
      ]
    },
    {
      "cell_type": "markdown",
      "source": [
        "-  Lendo a URL\n"
      ],
      "metadata": {
        "id": "ZNFv396BAyJQ"
      }
    },
    {
      "cell_type": "code",
      "source": [
        "# Create a SparkSession\n",
        "spark = SparkSession.builder.appName(\"LucianaSampaioApp\").getOrCreate()\n",
        "\n",
        "# URL para o conteúdo bruto do arquivo CSV\n",
        "url = 'https://raw.githubusercontent.com/luasampaio/datasets/main/products.csv'"
      ],
      "metadata": {
        "id": "FjKjatb5lXtv"
      },
      "execution_count": 2,
      "outputs": []
    },
    {
      "cell_type": "markdown",
      "source": [
        "### Convert para pandas"
      ],
      "metadata": {
        "id": "A4vTBPoAfCuE"
      }
    },
    {
      "cell_type": "code",
      "source": [
        "# Lê o arquivo CSV diretamente do URL using pandas\n",
        "pandas_df = pd.read_csv(url)"
      ],
      "metadata": {
        "id": "USq_X0Fn9HK9"
      },
      "execution_count": 3,
      "outputs": []
    },
    {
      "cell_type": "code",
      "source": [
        "# Create a Spark DataFrame from the pandas DataFrame\n",
        "df = spark.createDataFrame(pandas_df)"
      ],
      "metadata": {
        "id": "zd8axB-G9JbJ"
      },
      "execution_count": 4,
      "outputs": []
    },
    {
      "cell_type": "code",
      "source": [
        "display(df)"
      ],
      "metadata": {
        "colab": {
          "base_uri": "https://localhost:8080/",
          "height": 35
        },
        "id": "ux3IClgafqeX",
        "outputId": "51fc9fab-d5c3-414d-8428-2f64b54b998d"
      },
      "execution_count": 5,
      "outputs": [
        {
          "output_type": "display_data",
          "data": {
            "text/plain": [
              "DataFrame[product_id: bigint, product_name: string, brand_id: bigint, category_id: bigint, model_year: bigint, list_price: double]"
            ]
          },
          "metadata": {}
        }
      ]
    },
    {
      "cell_type": "code",
      "source": [
        "df.printSchema()"
      ],
      "metadata": {
        "colab": {
          "base_uri": "https://localhost:8080/"
        },
        "id": "sNBQ_9kOfuFw",
        "outputId": "6a5b3c31-710f-4fcb-a90c-0e457d1db32d"
      },
      "execution_count": 6,
      "outputs": [
        {
          "output_type": "stream",
          "name": "stdout",
          "text": [
            "root\n",
            " |-- product_id: long (nullable = true)\n",
            " |-- product_name: string (nullable = true)\n",
            " |-- brand_id: long (nullable = true)\n",
            " |-- category_id: long (nullable = true)\n",
            " |-- model_year: long (nullable = true)\n",
            " |-- list_price: double (nullable = true)\n",
            "\n"
          ]
        }
      ]
    },
    {
      "cell_type": "code",
      "source": [
        "df.describe()"
      ],
      "metadata": {
        "colab": {
          "base_uri": "https://localhost:8080/"
        },
        "id": "miRQXtYMf2oJ",
        "outputId": "ab3deb16-53df-47a6-bda0-641471d1c4ef"
      },
      "execution_count": 7,
      "outputs": [
        {
          "output_type": "execute_result",
          "data": {
            "text/plain": [
              "DataFrame[summary: string, product_id: string, product_name: string, brand_id: string, category_id: string, model_year: string, list_price: string]"
            ]
          },
          "metadata": {},
          "execution_count": 7
        }
      ]
    },
    {
      "cell_type": "markdown",
      "source": [
        "Remoção de Linhas com Valores Nulos"
      ],
      "metadata": {
        "id": "tNRXr7uvgqKa"
      }
    },
    {
      "cell_type": "code",
      "source": [
        "df = df.dropna()  # Handle missing values"
      ],
      "metadata": {
        "id": "mjNSR_K9Viam"
      },
      "execution_count": 8,
      "outputs": []
    },
    {
      "cell_type": "code",
      "source": [
        "# Quando tiver dúvida do tipo do dataframe.\n",
        "\n",
        "print(type(df))"
      ],
      "metadata": {
        "colab": {
          "base_uri": "https://localhost:8080/"
        },
        "id": "zd-pgM6KGI1X",
        "outputId": "acd61b53-b92e-45f1-908a-b0949a939cdd"
      },
      "execution_count": 9,
      "outputs": [
        {
          "output_type": "stream",
          "name": "stdout",
          "text": [
            "<class 'pyspark.sql.dataframe.DataFrame'>\n"
          ]
        }
      ]
    },
    {
      "cell_type": "code",
      "source": [
        "df.columns"
      ],
      "metadata": {
        "colab": {
          "base_uri": "https://localhost:8080/"
        },
        "id": "fNc_WM2wWIVu",
        "outputId": "c7742a53-1c5e-4e35-bdfe-c509ad232a95"
      },
      "execution_count": 10,
      "outputs": [
        {
          "output_type": "execute_result",
          "data": {
            "text/plain": [
              "['product_id',\n",
              " 'product_name',\n",
              " 'brand_id',\n",
              " 'category_id',\n",
              " 'model_year',\n",
              " 'list_price']"
            ]
          },
          "metadata": {},
          "execution_count": 10
        }
      ]
    },
    {
      "source": [
        "df.show()"
      ],
      "cell_type": "code",
      "metadata": {
        "colab": {
          "base_uri": "https://localhost:8080/"
        },
        "id": "OZlfmIaQYI9X",
        "outputId": "421fc6b7-55f8-45e5-a543-5b151a8951b5"
      },
      "execution_count": 11,
      "outputs": [
        {
          "output_type": "stream",
          "name": "stdout",
          "text": [
            "+----------+--------------------+--------+-----------+----------+----------+\n",
            "|product_id|        product_name|brand_id|category_id|model_year|list_price|\n",
            "+----------+--------------------+--------+-----------+----------+----------+\n",
            "|         1|     Trek 820 - 2016|       9|          6|      2016|    379.99|\n",
            "|         2|Ritchey Timberwol...|       5|          6|      2016|    749.99|\n",
            "|         3|Surly Wednesday F...|       8|          6|      2016|    999.99|\n",
            "|         4|Trek Fuel EX 8 29...|       9|          6|      2016|   2899.99|\n",
            "|         5|Heller Shagamaw F...|       3|          6|      2016|   1320.99|\n",
            "|         6|Surly Ice Cream T...|       8|          6|      2016|    469.99|\n",
            "|         7|Trek Slash 8 27.5...|       9|          6|      2016|   3999.99|\n",
            "|         8|Trek Remedy 29 Ca...|       9|          6|      2016|   1799.99|\n",
            "|         9|Trek Conduit+ - 2016|       9|          5|      2016|   2999.99|\n",
            "|        10|Surly Straggler -...|       8|          4|      2016|    1549.0|\n",
            "|        11|Surly Straggler 6...|       8|          4|      2016|   1680.99|\n",
            "|        12|Electra Townie Or...|       1|          3|      2016|    549.99|\n",
            "|        13|Electra Cruiser 1...|       1|          3|      2016|    269.99|\n",
            "|        14|Electra Girl's Ha...|       1|          3|      2016|    269.99|\n",
            "|        15|Electra Moto 1 - ...|       1|          3|      2016|    529.99|\n",
            "|        16|Electra Townie Or...|       1|          3|      2016|    599.99|\n",
            "|        17|Pure Cycles Vine ...|       4|          3|      2016|     429.0|\n",
            "|        18|Pure Cycles Weste...|       4|          3|      2016|     449.0|\n",
            "|        19|Pure Cycles Willi...|       4|          3|      2016|     449.0|\n",
            "|        20|Electra Townie Or...|       1|          3|      2016|    599.99|\n",
            "+----------+--------------------+--------+-----------+----------+----------+\n",
            "only showing top 20 rows\n",
            "\n"
          ]
        }
      ]
    },
    {
      "source": [
        "# Ver os nomes das colunas\n",
        "df.columns"
      ],
      "cell_type": "code",
      "metadata": {
        "colab": {
          "base_uri": "https://localhost:8080/"
        },
        "id": "1XDjphCIIjMu",
        "outputId": "9d8dd350-c0e1-403e-e486-ba7adcd51833"
      },
      "execution_count": 12,
      "outputs": [
        {
          "output_type": "execute_result",
          "data": {
            "text/plain": [
              "['product_id',\n",
              " 'product_name',\n",
              " 'brand_id',\n",
              " 'category_id',\n",
              " 'model_year',\n",
              " 'list_price']"
            ]
          },
          "metadata": {},
          "execution_count": 12
        }
      ]
    },
    {
      "cell_type": "code",
      "source": [
        "df.dtypes"
      ],
      "metadata": {
        "id": "8J74LGzPI6XN",
        "colab": {
          "base_uri": "https://localhost:8080/"
        },
        "outputId": "9b5aad69-9f33-42fe-932f-7600fc448acd"
      },
      "execution_count": 13,
      "outputs": [
        {
          "output_type": "execute_result",
          "data": {
            "text/plain": [
              "[('product_id', 'bigint'),\n",
              " ('product_name', 'string'),\n",
              " ('brand_id', 'bigint'),\n",
              " ('category_id', 'bigint'),\n",
              " ('model_year', 'bigint'),\n",
              " ('list_price', 'double')]"
            ]
          },
          "metadata": {},
          "execution_count": 13
        }
      ]
    },
    {
      "source": [
        "TotalAno = df.groupby('model_year').count()"
      ],
      "cell_type": "code",
      "metadata": {
        "id": "zRew_LKCYYa5"
      },
      "execution_count": 14,
      "outputs": []
    },
    {
      "cell_type": "markdown",
      "source": [
        "###  Usando .value_counts() (mais direto para contagens simples)"
      ],
      "metadata": {
        "id": "Aw_N_VZ9lNxL"
      }
    },
    {
      "source": [
        "# Group by 'model_year' and count occurrences\n",
        "counts = df.groupBy('model_year').count().toPandas()\n",
        "\n",
        "# Convert the result to a pandas Series for easier plotting\n",
        "counts = counts.set_index('model_year')['count']\n",
        "\n",
        "# Exibir o resultado\n",
        "print(counts)"
      ],
      "cell_type": "code",
      "metadata": {
        "colab": {
          "base_uri": "https://localhost:8080/"
        },
        "id": "5yeSpWy7Ylo1",
        "outputId": "d6c9fd6a-2df4-46d6-ebe2-3e4a1acff609"
      },
      "execution_count": 15,
      "outputs": [
        {
          "output_type": "stream",
          "name": "stdout",
          "text": [
            "model_year\n",
            "2016     26\n",
            "2018    204\n",
            "2017     85\n",
            "2019      6\n",
            "Name: count, dtype: int64\n"
          ]
        }
      ]
    },
    {
      "cell_type": "code",
      "source": [
        "# Criando um gráfico de barras\n",
        "plt.figure(figsize=(8, 5))\n",
        "counts.plot(kind='bar')\n",
        "plt.title(\"Quantidade Ano\")\n",
        "plt.xlabel(\"Ano\")\n",
        "plt.ylabel(\"Quantidade\")\n",
        "plt.xticks(rotation=45)\n",
        "plt.grid(axis='y', linestyle='--', alpha=0.7)\n",
        "plt.show()"
      ],
      "metadata": {
        "colab": {
          "base_uri": "https://localhost:8080/",
          "height": 508
        },
        "id": "ISTBlqTqlXDH",
        "outputId": "e327b139-2313-4e11-9487-72430f84f870"
      },
      "execution_count": 16,
      "outputs": [
        {
          "output_type": "display_data",
          "data": {
            "text/plain": [
              "<Figure size 800x500 with 1 Axes>"
            ],
            "image/png": "[encoded data removed]"
          },
          "metadata": {}
        }
      ]
    },
    {
      "cell_type": "code",
      "source": [
        "# Feature Engineering and Preprocessing\n",
        "# Convert 'model_year' to numeric (if it's not already)\n",
        "from pyspark.sql.functions import col\n",
        "df = df.withColumn(\"model_year\", col(\"model_year\").cast(\"integer\"))\n"
      ],
      "metadata": {
        "id": "jJmbwqq4ZD2R"
      },
      "execution_count": 17,
      "outputs": []
    },
    {
      "cell_type": "code",
      "source": [
        "\n",
        "feature_cols = [\"model_year\", \"price\"]  # Add other relevant features here\n",
        "assembler = VectorAssembler(inputCols=feature_cols, outputCol=\"features\")\n",
        "scaler = StandardScaler(inputCol=\"features\", outputCol=\"scaledFeatures\", withStd=True, withMean=True)"
      ],
      "metadata": {
        "id": "CNtGx9vmZF1V"
      },
      "execution_count": 18,
      "outputs": []
    },
    {
      "source": [
        "# Import necessary libraries\n",
        "!pip install pyspark\n",
        "from pyspark.sql import SparkSession\n",
        "from pyspark.ml import Pipeline\n",
        "from pyspark.ml.feature import VectorAssembler, StandardScaler, StringIndexer, OneHotEncoder\n",
        "from pyspark.ml.classification import RandomForestClassifier\n",
        "from pyspark.ml.tuning import CrossValidator, ParamGridBuilder\n",
        "from pyspark.ml.evaluation import BinaryClassificationEvaluator\n",
        "from pyspark.ml.evaluation import MulticlassClassificationEvaluator\n",
        "from pyspark.mllib.evaluation import MulticlassMetrics\n",
        "import pandas as pd\n",
        "import matplotlib.pyplot as plt\n",
        "import seaborn as sns\n",
        "import warnings\n",
        "warnings.filterwarnings('ignore')\n",
        "\n",
        "# Ensure inline plotting\n",
        "%matplotlib inline\n",
        "\n",
        "# Create a SparkSession\n",
        "spark = SparkSession.builder.appName(\"LucianaSampaioApp\").getOrCreate()\n",
        "\n",
        "# URL para o conteúdo bruto do arquivo CSV\n",
        "url = 'https://raw.githubusercontent.com/luasampaio/datasets/main/products.csv'\n",
        "\n",
        "# Lê o arquivo CSV diretamente do URL using pandas\n",
        "pandas_df = pd.read_csv(url)\n",
        "\n",
        "# Create a Spark DataFrame from the pandas DataFrame\n",
        "df = spark.createDataFrame(pandas_df)\n",
        "\n",
        "# Remove rows with null values\n",
        "df = df.dropna()\n",
        "\n",
        "# Convert 'model_year' to numeric\n",
        "from pyspark.sql.functions import col\n",
        "df = df.withColumn(\"model_year\", col(\"model_year\").cast(\"integer\"))\n",
        "\n",
        "# Rename the \"list_price\" column to \"price\"\n",
        "df = df.withColumnRenamed(\"list_price\", \"price\")\n",
        "\n",
        "# Feature Engineering and Preprocessing\n",
        "feature_cols = [\"model_year\", \"price\"]  # Add other relevant features here\n",
        "assembler = VectorAssembler(inputCols=feature_cols, outputCol=\"features\")\n",
        "scaler = StandardScaler(inputCol=\"features\", outputCol=\"scaledFeatures\", withStd=True, withMean=True)\n",
        "\n"
      ],
      "cell_type": "code",
      "metadata": {
        "colab": {
          "base_uri": "https://localhost:8080/"
        },
        "id": "XG3w1i5NZw9J",
        "outputId": "f2de6875-708c-47db-e89c-f94f051a1e18"
      },
      "execution_count": 19,
      "outputs": [
        {
          "output_type": "stream",
          "name": "stdout",
          "text": [
            "Requirement already satisfied: pyspark in /usr/local/lib/python3.11/dist-packages (3.5.4)\n",
            "Requirement already satisfied: py4j==0.10.9.7 in /usr/local/lib/python3.11/dist-packages (from pyspark) (0.10.9.7)\n"
          ]
        }
      ]
    },
    {
      "cell_type": "code",
      "source": [
        "stages = []\n"
      ],
      "metadata": {
        "id": "j3oQe4W5aWt_"
      },
      "execution_count": 22,
      "outputs": []
    },
    {
      "cell_type": "code",
      "source": [
        "# Feature engineering\n",
        "categorical_cols = [\"model_year\", \"price\"]\n",
        "numeric_cols = [\"brand_id\"]"
      ],
      "metadata": {
        "id": "-nfBeXgzanvk"
      },
      "execution_count": 24,
      "outputs": []
    },
    {
      "cell_type": "code",
      "source": [
        "for cat_col in categorical_cols:\n",
        "    stringIndexer = StringIndexer(inputCol=cat_col, outputCol=cat_col + \"_index\")\n",
        "    encoder = OneHotEncoder(inputCols=[stringIndexer.getOutputCol()], outputCols=[cat_col + \"_onehot\"])\n",
        "    stages += [stringIndexer, encoder]"
      ],
      "metadata": {
        "id": "ZIAiUAYXaew2"
      },
      "execution_count": 25,
      "outputs": []
    },
    {
      "cell_type": "code",
      "source": [
        "assembler_inputs = [c + \"_onehot\" for c in categorical_cols] + numeric_cols\n",
        "assembler = VectorAssembler(inputCols=assembler_inputs, outputCol=\"assembled_features\")\n",
        "scaler = StandardScaler(inputCol=\"assembled_features\", outputCol=\"features\")\n",
        "\n",
        "stages += [assembler, scaler]"
      ],
      "metadata": {
        "id": "dGQ8B4esa7x_"
      },
      "execution_count": 26,
      "outputs": []
    },
    {
      "cell_type": "code",
      "source": [
        "from pyspark.sql.functions import when\n",
        "\n",
        "df = df.withColumn(\"label\", when(df[\"price\"] > 10000, 1).otherwise(0))\n",
        "\n",
        "# Show the DataFrame with the new 'label' column\n",
        "df.show()"
      ],
      "metadata": {
        "colab": {
          "base_uri": "https://localhost:8080/"
        },
        "id": "objB0457bARm",
        "outputId": "a22721d2-e113-4206-a515-9a34076549e3"
      },
      "execution_count": 27,
      "outputs": [
        {
          "output_type": "stream",
          "name": "stdout",
          "text": [
            "+----------+--------------------+--------+-----------+----------+-------+-----+\n",
            "|product_id|        product_name|brand_id|category_id|model_year|  price|label|\n",
            "+----------+--------------------+--------+-----------+----------+-------+-----+\n",
            "|         1|     Trek 820 - 2016|       9|          6|      2016| 379.99|    0|\n",
            "|         2|Ritchey Timberwol...|       5|          6|      2016| 749.99|    0|\n",
            "|         3|Surly Wednesday F...|       8|          6|      2016| 999.99|    0|\n",
            "|         4|Trek Fuel EX 8 29...|       9|          6|      2016|2899.99|    0|\n",
            "|         5|Heller Shagamaw F...|       3|          6|      2016|1320.99|    0|\n",
            "|         6|Surly Ice Cream T...|       8|          6|      2016| 469.99|    0|\n",
            "|         7|Trek Slash 8 27.5...|       9|          6|      2016|3999.99|    0|\n",
            "|         8|Trek Remedy 29 Ca...|       9|          6|      2016|1799.99|    0|\n",
            "|         9|Trek Conduit+ - 2016|       9|          5|      2016|2999.99|    0|\n",
            "|        10|Surly Straggler -...|       8|          4|      2016| 1549.0|    0|\n",
            "|        11|Surly Straggler 6...|       8|          4|      2016|1680.99|    0|\n",
            "|        12|Electra Townie Or...|       1|          3|      2016| 549.99|    0|\n",
            "|        13|Electra Cruiser 1...|       1|          3|      2016| 269.99|    0|\n",
            "|        14|Electra Girl's Ha...|       1|          3|      2016| 269.99|    0|\n",
            "|        15|Electra Moto 1 - ...|       1|          3|      2016| 529.99|    0|\n",
            "|        16|Electra Townie Or...|       1|          3|      2016| 599.99|    0|\n",
            "|        17|Pure Cycles Vine ...|       4|          3|      2016|  429.0|    0|\n",
            "|        18|Pure Cycles Weste...|       4|          3|      2016|  449.0|    0|\n",
            "|        19|Pure Cycles Willi...|       4|          3|      2016|  449.0|    0|\n",
            "|        20|Electra Townie Or...|       1|          3|      2016| 599.99|    0|\n",
            "+----------+--------------------+--------+-----------+----------+-------+-----+\n",
            "only showing top 20 rows\n",
            "\n"
          ]
        }
      ]
    },
    {
      "cell_type": "code",
      "source": [
        "# Create pipeline\n",
        "rf = RandomForestClassifier(labelCol=\"label\", featuresCol=\"features\")\n",
        "pipeline = Pipeline(stages=stages + [rf])"
      ],
      "metadata": {
        "id": "rcR1YXgebKPt"
      },
      "execution_count": 28,
      "outputs": []
    },
    {
      "cell_type": "code",
      "source": [
        "# Hyperparameter tuning\n",
        "paramGrid = ParamGridBuilder() \\\n",
        "    .addGrid(rf.numTrees, [10, 100]) \\\n",
        "    .addGrid(rf.maxDepth, [5, 10]) \\\n",
        "    .build()\n",
        "\n",
        "evaluator = BinaryClassificationEvaluator(labelCol=\"label\")\n"
      ],
      "metadata": {
        "id": "Y6ovOlWgbLbr"
      },
      "execution_count": 31,
      "outputs": []
    },
    {
      "cell_type": "code",
      "source": [
        "# crossval\n",
        "crossval = CrossValidator(estimator=pipeline,\n",
        "                        estimatorParamMaps=paramGrid,\n",
        "                        evaluator=evaluator,\n",
        "                        numFolds=3)"
      ],
      "metadata": {
        "id": "sWCO7qjabnZn"
      },
      "execution_count": 32,
      "outputs": []
    },
    {
      "cell_type": "code",
      "source": [
        "# Split data\n",
        "train_data, test_data = df.randomSplit([0.8, 0.2], seed=42)"
      ],
      "metadata": {
        "id": "cE-2DRXIbwLj"
      },
      "execution_count": 33,
      "outputs": []
    },
    {
      "cell_type": "code",
      "source": [],
      "metadata": {
        "id": "pslPiZHrcoNS"
      },
      "execution_count": null,
      "outputs": []
    }
  ]
}