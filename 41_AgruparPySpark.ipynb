{
  "nbformat": 4,
  "nbformat_minor": 0,
  "metadata": {
    "colab": {
      "provenance": [],
      "authorship_tag": "ABX9TyNkx5F089eNl/afJ8U1b1mX",
      "include_colab_link": true
    },
    "kernelspec": {
      "name": "python3",
      "display_name": "Python 3"
    },
    "language_info": {
      "name": "python"
    }
  },
  "cells": [
    {
      "cell_type": "markdown",
      "metadata": {
        "id": "view-in-github",
        "colab_type": "text"
      },
      "source": [
        "<a href=\"https://colab.research.google.com/github/luasampaio/data-engineering/blob/main/41_AgruparPySpark.ipynb\" target=\"_parent\"><img src=\"https://colab.research.google.com/assets/colab-badge.svg\" alt=\"Open In Colab\"/></a>"
      ]
    },
    {
      "cell_type": "markdown",
      "source": [
        "\n",
        "Qual Ideia desse Código em Pyspark?\n",
        "\n",
        "- Agrupar\n"
      ],
      "metadata": {
        "id": "I3jUiiNCZ-4a"
      }
    },
    {
      "source": [
        "from pyspark.sql.types import *\n",
        "from pyspark.sql import SparkSession\n",
        "\n",
        "# Create a SparkSession\n",
        "# Assessments (avaliações)\n",
        "spark = SparkSession.builder.appName(\"Assessments\").getOrCreate()\n",
        "\n",
        "# Define the schema\n",
        "schema = StructType([\n",
        "    StructField(\"id\", IntegerType(), True),\n",
        "    StructField(\"experience\", IntegerType(), True),\n",
        "    StructField(\"sql\", IntegerType(), True),\n",
        "    StructField(\"algo\", IntegerType(), True),\n",
        "    StructField(\"bug_fixing\", IntegerType(), True)\n",
        "])\n",
        "\n",
        "# Define the data\n",
        "data = [\n",
        "    (1, 3, 100, None, 50),\n",
        "    (2, 5, None, 100, 100),\n",
        "    (3, 1, 100, 100, 100),\n",
        "    (4, 5, 100, 50, None),\n",
        "    (5, 5, 100, 100, 100)\n",
        "]\n",
        "\n",
        "# Create the DataFrame\n",
        "assessments_df = spark.createDataFrame(data, schema)\n",
        "\n",
        "# display the DataFrame\n",
        "assessments_df.show()"
      ],
      "cell_type": "code",
      "metadata": {
        "colab": {
          "base_uri": "https://localhost:8080/"
        },
        "id": "j88amQZhF2cX",
        "outputId": "210fea24-e3bf-485e-840a-5fa9821c4624"
      },
      "execution_count": null,
      "outputs": [
        {
          "output_type": "stream",
          "name": "stdout",
          "text": [
            "+---+----------+----+----+----------+\n",
            "| id|experience| sql|algo|bug_fixing|\n",
            "+---+----------+----+----+----------+\n",
            "|  1|         3| 100|NULL|        50|\n",
            "|  2|         5|NULL| 100|       100|\n",
            "|  3|         1| 100| 100|       100|\n",
            "|  4|         5| 100|  50|      NULL|\n",
            "|  5|         5| 100| 100|       100|\n",
            "+---+----------+----+----+----------+\n",
            "\n"
          ]
        }
      ]
    },
    {
      "cell_type": "markdown",
      "source": [],
      "metadata": {
        "id": "dbb_OETmZ9kl"
      }
    },
    {
      "cell_type": "code",
      "source": [
        "from pyspark.sql import functions as F\n",
        "\n",
        "# adicionando a flag maxima pontuacao\n",
        "result_df = assessments_df.groupBy(\"experience\").agg(\n",
        "    F.count(\"*\").alias(\"total_candidate\"),\n",
        "    F.count(\n",
        "        F.when(\n",
        "            ((F.col(\"sql\").eqNullSafe(100) | F.col(\"sql\").isNull()) &\n",
        "             (F.col(\"algo\").eqNullSafe(100) | F.col(\"algo\").isNull()) &\n",
        "             (F.col(\"bug_fixing\").eqNullSafe(100) | F.col(\"bug_fixing\").isNull())),\n",
        "            1\n",
        "        )\n",
        "    ).alias(\"max_score_flag\")\n",
        ").orderBy(\"experience\")\n",
        "\n",
        "# display the results\n",
        "result_df.show()"
      ],
      "metadata": {
        "colab": {
          "base_uri": "https://localhost:8080/"
        },
        "id": "ZDcDtzOFGT3s",
        "outputId": "656a77bc-6033-44ea-a8be-5edb14cb4f59"
      },
      "execution_count": null,
      "outputs": [
        {
          "output_type": "stream",
          "name": "stdout",
          "text": [
            "+----------+---------------+--------------+\n",
            "|experience|total_candidate|max_score_flag|\n",
            "+----------+---------------+--------------+\n",
            "|         1|              1|             1|\n",
            "|         3|              1|             0|\n",
            "|         5|              3|             2|\n",
            "+----------+---------------+--------------+\n",
            "\n"
          ]
        }
      ]
    },
    {
      "cell_type": "code",
      "source": [
        "# cria uma view temporario com o nome de avaliacao\n",
        "assessments_df.createOrReplaceTempView(\"assessments\")"
      ],
      "metadata": {
        "id": "sHdI5zwBG3Sc"
      },
      "execution_count": null,
      "outputs": []
    },
    {
      "cell_type": "markdown",
      "source": [
        "Em SQL"
      ],
      "metadata": {
        "id": "32LKQpP_HCdS"
      }
    },
    {
      "cell_type": "code",
      "source": [
        "# Spark SQL query\n",
        "query = \"\"\"\n",
        "SELECT\n",
        "    experience,\n",
        "    COUNT(*) AS total_candidate,\n",
        "    COUNT(\n",
        "        CASE\n",
        "            WHEN\n",
        "                (sql = 100 OR sql IS NULL) AND\n",
        "                (algo = 100 OR algo IS NULL) AND\n",
        "                (bug_fixing = 100 OR bug_fixing IS NULL)\n",
        "            THEN 1\n",
        "        END\n",
        "    ) AS max_score_flag\n",
        "FROM assessments\n",
        "GROUP BY experience\n",
        "ORDER BY experience asc\n",
        "\"\"\"\n",
        "\n",
        "# Execute the query\n",
        "result_df = spark.sql(query)\n",
        "\n",
        "# display the results\n",
        "result_df.show()"
      ],
      "metadata": {
        "colab": {
          "base_uri": "https://localhost:8080/"
        },
        "id": "OFbQ8qDrG-fQ",
        "outputId": "f5f83a9c-389a-442f-8c4d-cf1ea6050fa8"
      },
      "execution_count": null,
      "outputs": [
        {
          "output_type": "stream",
          "name": "stdout",
          "text": [
            "+----------+---------------+--------------+\n",
            "|experience|total_candidate|max_score_flag|\n",
            "+----------+---------------+--------------+\n",
            "|         1|              1|             1|\n",
            "|         3|              1|             0|\n",
            "|         5|              3|             2|\n",
            "+----------+---------------+--------------+\n",
            "\n"
          ]
        }
      ]
    },
    {
      "cell_type": "code",
      "source": [
        "result_df.printSchema()"
      ],
      "metadata": {
        "colab": {
          "base_uri": "https://localhost:8080/"
        },
        "id": "j_LCPGnPHHV7",
        "outputId": "923e2fdb-d5d2-4252-9ad9-2cb2332dab40"
      },
      "execution_count": null,
      "outputs": [
        {
          "output_type": "stream",
          "name": "stdout",
          "text": [
            "root\n",
            " |-- experience: integer (nullable = true)\n",
            " |-- total_candidate: long (nullable = false)\n",
            " |-- max_score_flag: long (nullable = false)\n",
            "\n"
          ]
        }
      ]
    },
    {
      "cell_type": "markdown",
      "source": [
        "Convertendo para inteiro os campos\n"
      ],
      "metadata": {
        "id": "vGP_DLAaIFli"
      }
    },
    {
      "cell_type": "code",
      "source": [
        "result_df = result_df.withColumn(\"max_score_flag\", result_df[\"max_score_flag\"].cast(\"int\"))\n",
        "result_df = result_df.withColumn(\"total_candidate\", result_df[\"total_candidate\"].cast(\"int\"))\n",
        "result_df.printSchema()"
      ],
      "metadata": {
        "colab": {
          "base_uri": "https://localhost:8080/"
        },
        "id": "U63DEoufH4mM",
        "outputId": "d06a1700-f877-4641-8be9-f97c31f79b0c"
      },
      "execution_count": null,
      "outputs": [
        {
          "output_type": "stream",
          "name": "stdout",
          "text": [
            "root\n",
            " |-- experience: integer (nullable = true)\n",
            " |-- total_candidate: integer (nullable = false)\n",
            " |-- max_score_flag: integer (nullable = false)\n",
            "\n"
          ]
        }
      ]
    },
    {
      "cell_type": "code",
      "source": [
        "result_df.show()"
      ],
      "metadata": {
        "colab": {
          "base_uri": "https://localhost:8080/"
        },
        "id": "N0Wg_--OIDBC",
        "outputId": "d0e80eac-3004-4381-f935-fac15e7e1e76"
      },
      "execution_count": null,
      "outputs": [
        {
          "output_type": "stream",
          "name": "stdout",
          "text": [
            "+----------+---------------+--------------+\n",
            "|experience|total_candidate|max_score_flag|\n",
            "+----------+---------------+--------------+\n",
            "|         1|              1|             1|\n",
            "|         3|              1|             0|\n",
            "|         5|              3|             2|\n",
            "+----------+---------------+--------------+\n",
            "\n"
          ]
        }
      ]
    },
    {
      "cell_type": "code",
      "source": [],
      "metadata": {
        "id": "lzzpDKRRIMgG"
      },
      "execution_count": null,
      "outputs": []
    }
  ]
}