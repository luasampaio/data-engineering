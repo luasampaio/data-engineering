{
  "nbformat": 4,
  "nbformat_minor": 0,
  "metadata": {
    "colab": {
      "provenance": [],
      "authorship_tag": "ABX9TyPEEC9GsOisWNcz5JJ7AsIr",
      "include_colab_link": true
    },
    "kernelspec": {
      "name": "python3",
      "display_name": "Python 3"
    },
    "language_info": {
      "name": "python"
    }
  },
  "cells": [
    {
      "cell_type": "markdown",
      "metadata": {
        "id": "view-in-github",
        "colab_type": "text"
      },
      "source": [
        "<a href=\"https://colab.research.google.com/github/luasampaio/data-engineering/blob/main/38_pipeline_ingestion.ipynb\" target=\"_parent\"><img src=\"https://colab.research.google.com/assets/colab-badge.svg\" alt=\"Open In Colab\"/></a>"
      ]
    },
    {
      "cell_type": "code",
      "execution_count": 32,
      "metadata": {
        "id": "VO1PE6JBVLsd"
      },
      "outputs": [],
      "source": [
        "# Import functions\n",
        "from pyspark import *\n",
        "from pyspark.sql import functions as F\n",
        "from pyspark.sql.functions import *\n",
        "import datetime"
      ]
    },
    {
      "source": [
        "from pyspark.sql import SparkSession\n",
        "from pyspark import SparkContext\n",
        "\n",
        "spark = SparkSession \\\n",
        "          .builder \\\n",
        "          .appName(\"Analysis_with_Spark\") \\\n",
        "          .getOrCreate()\n",
        "\n",
        "import pandas as pd\n",
        "from google.colab import drive\n",
        "drive.mount('/content/drive')\n",
        "\n",
        "df = spark.read.csv('/content/drive/MyDrive/.Dataset/Credit2.csv', sep=';', encoding='UTF-8', header=True, inferSchema=True)\n",
        "df"
      ],
      "cell_type": "code",
      "metadata": {
        "colab": {
          "base_uri": "https://localhost:8080/"
        },
        "id": "trw4fpHsa2RY",
        "outputId": "d9d15776-f5db-46fc-b0ef-320fb9f27c2c"
      },
      "execution_count": 33,
      "outputs": [
        {
          "output_type": "stream",
          "name": "stdout",
          "text": [
            "Drive already mounted at /content/drive; to attempt to forcibly remount, call drive.mount(\"/content/drive\", force_remount=True).\n"
          ]
        },
        {
          "output_type": "execute_result",
          "data": {
            "text/plain": [
              "DataFrame[ID: int, checking_status: string, credit_history: string, duration: int, credit_amount: int, installment_commitment: int, residence_since: int, age: int, existing_credits: int, num_dependents: int, class: string]"
            ]
          },
          "metadata": {},
          "execution_count": 33
        }
      ]
    },
    {
      "cell_type": "code",
      "source": [
        "display(df)"
      ],
      "metadata": {
        "colab": {
          "base_uri": "https://localhost:8080/",
          "height": 35
        },
        "id": "J3YyNLfra8-v",
        "outputId": "eee85d92-92fe-49f1-a879-3db5d8853413"
      },
      "execution_count": 34,
      "outputs": [
        {
          "output_type": "display_data",
          "data": {
            "text/plain": [
              "DataFrame[ID: int, checking_status: string, credit_history: string, duration: int, credit_amount: int, installment_commitment: int, residence_since: int, age: int, existing_credits: int, num_dependents: int, class: string]"
            ]
          },
          "metadata": {}
        }
      ]
    },
    {
      "cell_type": "code",
      "source": [
        "df.show()"
      ],
      "metadata": {
        "colab": {
          "base_uri": "https://localhost:8080/"
        },
        "id": "PzBOtDYjbBZW",
        "outputId": "e39699e2-9d74-4f55-e523-7895e3efe2b7"
      },
      "execution_count": 35,
      "outputs": [
        {
          "output_type": "stream",
          "name": "stdout",
          "text": [
            "+---+---------------+--------------------+--------+-------------+----------------------+---------------+---+----------------+--------------+-----+\n",
            "| ID|checking_status|      credit_history|duration|credit_amount|installment_commitment|residence_since|age|existing_credits|num_dependents|class|\n",
            "+---+---------------+--------------------+--------+-------------+----------------------+---------------+---+----------------+--------------+-----+\n",
            "|  1|             <0|critical/other ex...|       6|         1169|                     4|              4| 67|               2|             1| good|\n",
            "|  2|       0<=X<200|       existing paid|      48|         5951|                     2|              2| 22|               1|             1|  bad|\n",
            "|  3|    no checking|critical/other ex...|      12|         2096|                     2|              3| 49|               1|             2| good|\n",
            "|  4|             <0|       existing paid|      42|         7882|                     2|              4| 45|               1|             2| good|\n",
            "|  5|             <0|  delayed previously|      24|         4870|                     3|              4| 53|               2|             2|  bad|\n",
            "|  6|    no checking|       existing paid|      36|         9055|                     2|              4| 35|               1|             2| good|\n",
            "|  7|    no checking|       existing paid|      24|         2835|                     3|              4| 53|               1|             1| good|\n",
            "|  8|       0<=X<200|       existing paid|      36|         6948|                     2|              2| 35|               1|             1| good|\n",
            "|  9|    no checking|       existing paid|      12|         3059|                     2|              4| 61|               1|             1| good|\n",
            "| 10|       0<=X<200|critical/other ex...|      30|         5234|                     4|              2| 28|               2|             1|  bad|\n",
            "| 11|       0<=X<200|       existing paid|      12|         1295|                     3|              1| 25|               1|             1|  bad|\n",
            "| 12|             <0|       existing paid|      48|         4308|                     3|              4| 24|               1|             1|  bad|\n",
            "| 13|       0<=X<200|       existing paid|      12|         1567|                     1|              1| 22|               1|             1| good|\n",
            "| 14|             <0|critical/other ex...|      24|         1199|                     4|              4| 60|               2|             1|  bad|\n",
            "| 15|             <0|       existing paid|      15|         1403|                     2|              4| 28|               1|             1| good|\n",
            "| 16|             <0|       existing paid|      24|         1282|                     4|              2| 32|               1|             1|  bad|\n",
            "| 17|    no checking|critical/other ex...|      24|         2424|                     4|              4| 53|               2|             1| good|\n",
            "| 18|             <0| no credits/all paid|      30|         8072|                     2|              3| 25|               3|             1| good|\n",
            "| 19|       0<=X<200|       existing paid|      24|        12579|                     4|              2| 44|               1|             1|  bad|\n",
            "| 20|    no checking|       existing paid|      24|         3430|                     3|              2| 31|               1|             2| good|\n",
            "+---+---------------+--------------------+--------+-------------+----------------------+---------------+---+----------------+--------------+-----+\n",
            "only showing top 20 rows\n",
            "\n"
          ]
        }
      ]
    },
    {
      "cell_type": "code",
      "source": [
        "df.columns"
      ],
      "metadata": {
        "colab": {
          "base_uri": "https://localhost:8080/"
        },
        "id": "-OKTuR1PbV8Z",
        "outputId": "c2df91f0-01a4-4da6-b686-813847dd4b5b"
      },
      "execution_count": 36,
      "outputs": [
        {
          "output_type": "execute_result",
          "data": {
            "text/plain": [
              "['ID',\n",
              " 'checking_status',\n",
              " 'credit_history',\n",
              " 'duration',\n",
              " 'credit_amount',\n",
              " 'installment_commitment',\n",
              " 'residence_since',\n",
              " 'age',\n",
              " 'existing_credits',\n",
              " 'num_dependents',\n",
              " 'class']"
            ]
          },
          "metadata": {},
          "execution_count": 36
        }
      ]
    },
    {
      "source": [
        "df_existente = df.filter(df[\"credit_history\"] != 'no checking') # Apply filter to the DataFrame\n",
        "df_existente.show() # Now show the filtered DataFrame"
      ],
      "cell_type": "code",
      "metadata": {
        "colab": {
          "base_uri": "https://localhost:8080/"
        },
        "id": "mzMm5j1hbvuf",
        "outputId": "563eb5c3-302c-40ac-e34a-32fad9c9336d"
      },
      "execution_count": 37,
      "outputs": [
        {
          "output_type": "stream",
          "name": "stdout",
          "text": [
            "+---+---------------+--------------------+--------+-------------+----------------------+---------------+---+----------------+--------------+-----+\n",
            "| ID|checking_status|      credit_history|duration|credit_amount|installment_commitment|residence_since|age|existing_credits|num_dependents|class|\n",
            "+---+---------------+--------------------+--------+-------------+----------------------+---------------+---+----------------+--------------+-----+\n",
            "|  1|             <0|critical/other ex...|       6|         1169|                     4|              4| 67|               2|             1| good|\n",
            "|  2|       0<=X<200|       existing paid|      48|         5951|                     2|              2| 22|               1|             1|  bad|\n",
            "|  3|    no checking|critical/other ex...|      12|         2096|                     2|              3| 49|               1|             2| good|\n",
            "|  4|             <0|       existing paid|      42|         7882|                     2|              4| 45|               1|             2| good|\n",
            "|  5|             <0|  delayed previously|      24|         4870|                     3|              4| 53|               2|             2|  bad|\n",
            "|  6|    no checking|       existing paid|      36|         9055|                     2|              4| 35|               1|             2| good|\n",
            "|  7|    no checking|       existing paid|      24|         2835|                     3|              4| 53|               1|             1| good|\n",
            "|  8|       0<=X<200|       existing paid|      36|         6948|                     2|              2| 35|               1|             1| good|\n",
            "|  9|    no checking|       existing paid|      12|         3059|                     2|              4| 61|               1|             1| good|\n",
            "| 10|       0<=X<200|critical/other ex...|      30|         5234|                     4|              2| 28|               2|             1|  bad|\n",
            "| 11|       0<=X<200|       existing paid|      12|         1295|                     3|              1| 25|               1|             1|  bad|\n",
            "| 12|             <0|       existing paid|      48|         4308|                     3|              4| 24|               1|             1|  bad|\n",
            "| 13|       0<=X<200|       existing paid|      12|         1567|                     1|              1| 22|               1|             1| good|\n",
            "| 14|             <0|critical/other ex...|      24|         1199|                     4|              4| 60|               2|             1|  bad|\n",
            "| 15|             <0|       existing paid|      15|         1403|                     2|              4| 28|               1|             1| good|\n",
            "| 16|             <0|       existing paid|      24|         1282|                     4|              2| 32|               1|             1|  bad|\n",
            "| 17|    no checking|critical/other ex...|      24|         2424|                     4|              4| 53|               2|             1| good|\n",
            "| 18|             <0| no credits/all paid|      30|         8072|                     2|              3| 25|               3|             1| good|\n",
            "| 19|       0<=X<200|       existing paid|      24|        12579|                     4|              2| 44|               1|             1|  bad|\n",
            "| 20|    no checking|       existing paid|      24|         3430|                     3|              2| 31|               1|             2| good|\n",
            "+---+---------------+--------------------+--------+-------------+----------------------+---------------+---+----------------+--------------+-----+\n",
            "only showing top 20 rows\n",
            "\n"
          ]
        }
      ]
    },
    {
      "cell_type": "code",
      "source": [
        "df_existente.count()"
      ],
      "metadata": {
        "colab": {
          "base_uri": "https://localhost:8080/"
        },
        "id": "uWidT2sgbyzA",
        "outputId": "ce041ee9-e695-4c62-83b6-fe230036ffd6"
      },
      "execution_count": 38,
      "outputs": [
        {
          "output_type": "execute_result",
          "data": {
            "text/plain": [
              "1000"
            ]
          },
          "metadata": {},
          "execution_count": 38
        }
      ]
    },
    {
      "cell_type": "code",
      "source": [
        "df_existente.groupBy('credit_history').count().show()"
      ],
      "metadata": {
        "colab": {
          "base_uri": "https://localhost:8080/"
        },
        "id": "pqPi7NYrb2ig",
        "outputId": "be1485fa-7787-4d88-ac7b-c13475c3750d"
      },
      "execution_count": 39,
      "outputs": [
        {
          "output_type": "stream",
          "name": "stdout",
          "text": [
            "+--------------------+-----+\n",
            "|      credit_history|count|\n",
            "+--------------------+-----+\n",
            "|            all paid|   49|\n",
            "| no credits/all paid|   40|\n",
            "|critical/other ex...|  293|\n",
            "|  delayed previously|   88|\n",
            "|       existing paid|  530|\n",
            "+--------------------+-----+\n",
            "\n"
          ]
        }
      ]
    },
    {
      "cell_type": "code",
      "source": [
        "df_existente.show()"
      ],
      "metadata": {
        "colab": {
          "base_uri": "https://localhost:8080/"
        },
        "id": "rghnzNeXcDqV",
        "outputId": "e683d33f-52bc-403e-9fb8-98a4b9ab7143"
      },
      "execution_count": 40,
      "outputs": [
        {
          "output_type": "stream",
          "name": "stdout",
          "text": [
            "+---+---------------+--------------------+--------+-------------+----------------------+---------------+---+----------------+--------------+-----+\n",
            "| ID|checking_status|      credit_history|duration|credit_amount|installment_commitment|residence_since|age|existing_credits|num_dependents|class|\n",
            "+---+---------------+--------------------+--------+-------------+----------------------+---------------+---+----------------+--------------+-----+\n",
            "|  1|             <0|critical/other ex...|       6|         1169|                     4|              4| 67|               2|             1| good|\n",
            "|  2|       0<=X<200|       existing paid|      48|         5951|                     2|              2| 22|               1|             1|  bad|\n",
            "|  3|    no checking|critical/other ex...|      12|         2096|                     2|              3| 49|               1|             2| good|\n",
            "|  4|             <0|       existing paid|      42|         7882|                     2|              4| 45|               1|             2| good|\n",
            "|  5|             <0|  delayed previously|      24|         4870|                     3|              4| 53|               2|             2|  bad|\n",
            "|  6|    no checking|       existing paid|      36|         9055|                     2|              4| 35|               1|             2| good|\n",
            "|  7|    no checking|       existing paid|      24|         2835|                     3|              4| 53|               1|             1| good|\n",
            "|  8|       0<=X<200|       existing paid|      36|         6948|                     2|              2| 35|               1|             1| good|\n",
            "|  9|    no checking|       existing paid|      12|         3059|                     2|              4| 61|               1|             1| good|\n",
            "| 10|       0<=X<200|critical/other ex...|      30|         5234|                     4|              2| 28|               2|             1|  bad|\n",
            "| 11|       0<=X<200|       existing paid|      12|         1295|                     3|              1| 25|               1|             1|  bad|\n",
            "| 12|             <0|       existing paid|      48|         4308|                     3|              4| 24|               1|             1|  bad|\n",
            "| 13|       0<=X<200|       existing paid|      12|         1567|                     1|              1| 22|               1|             1| good|\n",
            "| 14|             <0|critical/other ex...|      24|         1199|                     4|              4| 60|               2|             1|  bad|\n",
            "| 15|             <0|       existing paid|      15|         1403|                     2|              4| 28|               1|             1| good|\n",
            "| 16|             <0|       existing paid|      24|         1282|                     4|              2| 32|               1|             1|  bad|\n",
            "| 17|    no checking|critical/other ex...|      24|         2424|                     4|              4| 53|               2|             1| good|\n",
            "| 18|             <0| no credits/all paid|      30|         8072|                     2|              3| 25|               3|             1| good|\n",
            "| 19|       0<=X<200|       existing paid|      24|        12579|                     4|              2| 44|               1|             1|  bad|\n",
            "| 20|    no checking|       existing paid|      24|         3430|                     3|              2| 31|               1|             2| good|\n",
            "+---+---------------+--------------------+--------+-------------+----------------------+---------------+---+----------------+--------------+-----+\n",
            "only showing top 20 rows\n",
            "\n"
          ]
        }
      ]
    },
    {
      "cell_type": "code",
      "source": [
        "\n",
        "# Exibir o número de linhas e colunas do DataFrame\n",
        "rows, columns = df.count(), len(df.columns)\n",
        "print(f\"Linhas: {rows}\\nColunas: {columns}\")"
      ],
      "metadata": {
        "colab": {
          "base_uri": "https://localhost:8080/"
        },
        "id": "4-J7OF5vcOPB",
        "outputId": "16136555-6d17-4018-abab-6106a0c10645"
      },
      "execution_count": 41,
      "outputs": [
        {
          "output_type": "stream",
          "name": "stdout",
          "text": [
            "Linhas: 1000\n",
            "Colunas: 11\n"
          ]
        }
      ]
    },
    {
      "cell_type": "code",
      "source": [
        "df_existente.dtypes"
      ],
      "metadata": {
        "colab": {
          "base_uri": "https://localhost:8080/"
        },
        "id": "7r99wDl4e_Jl",
        "outputId": "e9014022-da1e-440b-82d8-df7035458dd1"
      },
      "execution_count": 42,
      "outputs": [
        {
          "output_type": "execute_result",
          "data": {
            "text/plain": [
              "[('ID', 'int'),\n",
              " ('checking_status', 'string'),\n",
              " ('credit_history', 'string'),\n",
              " ('duration', 'int'),\n",
              " ('credit_amount', 'int'),\n",
              " ('installment_commitment', 'int'),\n",
              " ('residence_since', 'int'),\n",
              " ('age', 'int'),\n",
              " ('existing_credits', 'int'),\n",
              " ('num_dependents', 'int'),\n",
              " ('class', 'string')]"
            ]
          },
          "metadata": {},
          "execution_count": 42
        }
      ]
    },
    {
      "cell_type": "code",
      "source": [
        "df_existente.describe().show()"
      ],
      "metadata": {
        "colab": {
          "base_uri": "https://localhost:8080/"
        },
        "id": "OH7MSH0Xfjrw",
        "outputId": "6673e99a-e397-4efe-bcdb-335af25c04fe"
      },
      "execution_count": 43,
      "outputs": [
        {
          "output_type": "stream",
          "name": "stdout",
          "text": [
            "+-------+-----------------+---------------+-------------------+------------------+-----------------+----------------------+------------------+-----------------+----------------+------------------+-----+\n",
            "|summary|               ID|checking_status|     credit_history|          duration|    credit_amount|installment_commitment|   residence_since|              age|existing_credits|    num_dependents|class|\n",
            "+-------+-----------------+---------------+-------------------+------------------+-----------------+----------------------+------------------+-----------------+----------------+------------------+-----+\n",
            "|  count|             1000|           1000|               1000|              1000|             1000|                  1000|              1000|             1000|            1000|              1000| 1000|\n",
            "|   mean|            500.5|           NULL|               NULL|            20.903|         3271.258|                 2.973|             2.845|           35.546|           1.407|             1.155| NULL|\n",
            "| stddev|288.8194360957494|           NULL|               NULL|12.058814452756371|2822.736875960441|     1.118714674312678|1.1037178956568539|11.37546857431751| 0.5776544682461|0.3620857717531939| NULL|\n",
            "|    min|                1|       0<=X<200|           all paid|                 4|              250|                     1|                 1|               19|               1|                 1|  bad|\n",
            "|    max|             1000|    no checking|no credits/all paid|                72|            18424|                     4|                 4|               75|               4|                 2| good|\n",
            "+-------+-----------------+---------------+-------------------+------------------+-----------------+----------------------+------------------+-----------------+----------------+------------------+-----+\n",
            "\n"
          ]
        }
      ]
    },
    {
      "cell_type": "code",
      "source": [
        "df_existente.groupBy('credit_history').count().show()"
      ],
      "metadata": {
        "colab": {
          "base_uri": "https://localhost:8080/"
        },
        "id": "8eQP_UkXgVSD",
        "outputId": "d7033667-5b05-4936-f1dd-9bd6a5035323"
      },
      "execution_count": 44,
      "outputs": [
        {
          "output_type": "stream",
          "name": "stdout",
          "text": [
            "+--------------------+-----+\n",
            "|      credit_history|count|\n",
            "+--------------------+-----+\n",
            "|            all paid|   49|\n",
            "| no credits/all paid|   40|\n",
            "|critical/other ex...|  293|\n",
            "|  delayed previously|   88|\n",
            "|       existing paid|  530|\n",
            "+--------------------+-----+\n",
            "\n"
          ]
        }
      ]
    },
    {
      "cell_type": "code",
      "source": [
        "dfdelay = df.filter(df[\"credit_history\"]  == 'delayed previously')\n",
        "dfdelay.show()"
      ],
      "metadata": {
        "colab": {
          "base_uri": "https://localhost:8080/"
        },
        "id": "gYMpLdj2ga8m",
        "outputId": "04bf6546-d9bb-49dd-86de-56003a6fa306"
      },
      "execution_count": 45,
      "outputs": [
        {
          "output_type": "stream",
          "name": "stdout",
          "text": [
            "+---+---------------+------------------+--------+-------------+----------------------+---------------+---+----------------+--------------+-----+\n",
            "| ID|checking_status|    credit_history|duration|credit_amount|installment_commitment|residence_since|age|existing_credits|num_dependents|class|\n",
            "+---+---------------+------------------+--------+-------------+----------------------+---------------+---+----------------+--------------+-----+\n",
            "|  5|             <0|delayed previously|      24|         4870|                     3|              4| 53|               2|             2|  bad|\n",
            "| 30|             <0|delayed previously|      60|         6836|                     3|              4| 63|               2|             1|  bad|\n",
            "| 43|       0<=X<200|delayed previously|      18|         6204|                     2|              4| 44|               1|             2| good|\n",
            "| 51|       0<=X<200|delayed previously|      24|         2333|                     4|              2| 29|               1|             1| good|\n",
            "| 52|       0<=X<200|delayed previously|      27|         5965|                     1|              2| 30|               2|             1| good|\n",
            "| 55|       0<=X<200|delayed previously|      36|         2225|                     4|              4| 57|               2|             1|  bad|\n",
            "| 78|       0<=X<200|delayed previously|      11|         4771|                     2|              4| 51|               1|             1| good|\n",
            "|100|       0<=X<200|delayed previously|      20|         7057|                     3|              4| 36|               2|             2| good|\n",
            "|103|    no checking|delayed previously|       6|          932|                     3|              2| 24|               1|             1| good|\n",
            "|111|       0<=X<200|delayed previously|       6|         1449|                     1|              2| 31|               2|             2| good|\n",
            "|132|             <0|delayed previously|      36|         6887|                     4|              3| 29|               1|             1|  bad|\n",
            "|137|    no checking|delayed previously|      27|         8613|                     2|              2| 27|               2|             1| good|\n",
            "|155|       0<=X<200|delayed previously|      24|         6967|                     4|              4| 36|               1|             1| good|\n",
            "|173|       0<=X<200|delayed previously|      24|         2064|                     3|              2| 34|               1|             1|  bad|\n",
            "|175|             <0|delayed previously|      21|         3414|                     2|              1| 26|               2|             1|  bad|\n",
            "|181|    no checking|delayed previously|      36|         9572|                     1|              1| 28|               2|             1|  bad|\n",
            "|182|       0<=X<200|delayed previously|      36|         4455|                     2|              2| 30|               2|             1|  bad|\n",
            "|200|       0<=X<200|delayed previously|      18|         4297|                     4|              3| 40|               1|             1|  bad|\n",
            "|203|    no checking|delayed previously|      27|         5117|                     3|              4| 26|               2|             1| good|\n",
            "|214|          >=200|delayed previously|      30|         1908|                     4|              4| 66|               1|             1|  bad|\n",
            "+---+---------------+------------------+--------+-------------+----------------------+---------------+---+----------------+--------------+-----+\n",
            "only showing top 20 rows\n",
            "\n"
          ]
        }
      ]
    },
    {
      "cell_type": "code",
      "source": [
        "dfdelay.show()"
      ],
      "metadata": {
        "colab": {
          "base_uri": "https://localhost:8080/"
        },
        "id": "rXr4RhkugyoU",
        "outputId": "5e7bc5e1-2b6c-4602-d7bd-2fc3662141d4"
      },
      "execution_count": 46,
      "outputs": [
        {
          "output_type": "stream",
          "name": "stdout",
          "text": [
            "+---+---------------+------------------+--------+-------------+----------------------+---------------+---+----------------+--------------+-----+\n",
            "| ID|checking_status|    credit_history|duration|credit_amount|installment_commitment|residence_since|age|existing_credits|num_dependents|class|\n",
            "+---+---------------+------------------+--------+-------------+----------------------+---------------+---+----------------+--------------+-----+\n",
            "|  5|             <0|delayed previously|      24|         4870|                     3|              4| 53|               2|             2|  bad|\n",
            "| 30|             <0|delayed previously|      60|         6836|                     3|              4| 63|               2|             1|  bad|\n",
            "| 43|       0<=X<200|delayed previously|      18|         6204|                     2|              4| 44|               1|             2| good|\n",
            "| 51|       0<=X<200|delayed previously|      24|         2333|                     4|              2| 29|               1|             1| good|\n",
            "| 52|       0<=X<200|delayed previously|      27|         5965|                     1|              2| 30|               2|             1| good|\n",
            "| 55|       0<=X<200|delayed previously|      36|         2225|                     4|              4| 57|               2|             1|  bad|\n",
            "| 78|       0<=X<200|delayed previously|      11|         4771|                     2|              4| 51|               1|             1| good|\n",
            "|100|       0<=X<200|delayed previously|      20|         7057|                     3|              4| 36|               2|             2| good|\n",
            "|103|    no checking|delayed previously|       6|          932|                     3|              2| 24|               1|             1| good|\n",
            "|111|       0<=X<200|delayed previously|       6|         1449|                     1|              2| 31|               2|             2| good|\n",
            "|132|             <0|delayed previously|      36|         6887|                     4|              3| 29|               1|             1|  bad|\n",
            "|137|    no checking|delayed previously|      27|         8613|                     2|              2| 27|               2|             1| good|\n",
            "|155|       0<=X<200|delayed previously|      24|         6967|                     4|              4| 36|               1|             1| good|\n",
            "|173|       0<=X<200|delayed previously|      24|         2064|                     3|              2| 34|               1|             1|  bad|\n",
            "|175|             <0|delayed previously|      21|         3414|                     2|              1| 26|               2|             1|  bad|\n",
            "|181|    no checking|delayed previously|      36|         9572|                     1|              1| 28|               2|             1|  bad|\n",
            "|182|       0<=X<200|delayed previously|      36|         4455|                     2|              2| 30|               2|             1|  bad|\n",
            "|200|       0<=X<200|delayed previously|      18|         4297|                     4|              3| 40|               1|             1|  bad|\n",
            "|203|    no checking|delayed previously|      27|         5117|                     3|              4| 26|               2|             1| good|\n",
            "|214|          >=200|delayed previously|      30|         1908|                     4|              4| 66|               1|             1|  bad|\n",
            "+---+---------------+------------------+--------+-------------+----------------------+---------------+---+----------------+--------------+-----+\n",
            "only showing top 20 rows\n",
            "\n"
          ]
        }
      ]
    },
    {
      "cell_type": "code",
      "source": [],
      "metadata": {
        "id": "8dJJqeRAj02M"
      },
      "execution_count": 46,
      "outputs": []
    }
  ]
}