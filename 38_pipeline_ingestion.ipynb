{
  "nbformat": 4,
  "nbformat_minor": 0,
  "metadata": {
    "colab": {
      "provenance": [],
      "authorship_tag": "ABX9TyNVbvcifGMBuUG7xxplXUIK",
      "include_colab_link": true
    },
    "kernelspec": {
      "name": "python3",
      "display_name": "Python 3"
    },
    "language_info": {
      "name": "python"
    }
  },
  "cells": [
    {
      "cell_type": "markdown",
      "metadata": {
        "id": "view-in-github",
        "colab_type": "text"
      },
      "source": [
        "<a href=\"https://colab.research.google.com/github/luasampaio/data-engineering/blob/main/38_pipeline_ingestion.ipynb\" target=\"_parent\"><img src=\"https://colab.research.google.com/assets/colab-badge.svg\" alt=\"Open In Colab\"/></a>"
      ]
    },
    {
      "cell_type": "code",
      "execution_count": 1,
      "metadata": {
        "id": "VO1PE6JBVLsd"
      },
      "outputs": [],
      "source": [
        "# Import functions\n",
        "from pyspark import *\n",
        "from pyspark.sql import functions as F\n",
        "from pyspark.sql.functions import *\n",
        "import datetime"
      ]
    },
    {
      "source": [
        "from pyspark.sql import SparkSession\n",
        "from pyspark import SparkContext\n",
        "\n",
        "spark = SparkSession \\\n",
        "          .builder \\\n",
        "          .appName(\"Analysis_with_Spark\") \\\n",
        "          .getOrCreate()\n",
        "\n",
        "import pandas as pd\n",
        "from google.colab import drive\n",
        "drive.mount('/content/drive')\n",
        "\n",
        "df = spark.read.csv('/content/drive/MyDrive/.Dataset/Credit2.csv', sep=';', encoding='UTF-8', header=True, inferSchema=True)\n",
        "df"
      ],
      "cell_type": "code",
      "metadata": {
        "colab": {
          "base_uri": "https://localhost:8080/"
        },
        "id": "trw4fpHsa2RY",
        "outputId": "f948b4d5-52b4-4460-d73d-5ca7c13d3110"
      },
      "execution_count": 3,
      "outputs": [
        {
          "output_type": "stream",
          "name": "stdout",
          "text": [
            "Mounted at /content/drive\n"
          ]
        },
        {
          "output_type": "execute_result",
          "data": {
            "text/plain": [
              "DataFrame[ID: int, checking_status: string, credit_history: string, duration: int, credit_amount: int, installment_commitment: int, residence_since: int, age: int, existing_credits: int, num_dependents: int, class: string]"
            ]
          },
          "metadata": {},
          "execution_count": 3
        }
      ]
    },
    {
      "cell_type": "code",
      "source": [
        "display(df)"
      ],
      "metadata": {
        "colab": {
          "base_uri": "https://localhost:8080/",
          "height": 35
        },
        "id": "J3YyNLfra8-v",
        "outputId": "2a507c18-3a17-49ba-e7b5-b3d13fb96eaf"
      },
      "execution_count": 4,
      "outputs": [
        {
          "output_type": "display_data",
          "data": {
            "text/plain": [
              "DataFrame[ID: int, checking_status: string, credit_history: string, duration: int, credit_amount: int, installment_commitment: int, residence_since: int, age: int, existing_credits: int, num_dependents: int, class: string]"
            ]
          },
          "metadata": {}
        }
      ]
    },
    {
      "cell_type": "code",
      "source": [
        "df.show()"
      ],
      "metadata": {
        "colab": {
          "base_uri": "https://localhost:8080/"
        },
        "id": "PzBOtDYjbBZW",
        "outputId": "00258d00-acf3-4fca-cdce-4168d209e7e2"
      },
      "execution_count": 5,
      "outputs": [
        {
          "output_type": "stream",
          "name": "stdout",
          "text": [
            "+---+---------------+--------------------+--------+-------------+----------------------+---------------+---+----------------+--------------+-----+\n",
            "| ID|checking_status|      credit_history|duration|credit_amount|installment_commitment|residence_since|age|existing_credits|num_dependents|class|\n",
            "+---+---------------+--------------------+--------+-------------+----------------------+---------------+---+----------------+--------------+-----+\n",
            "|  1|             <0|critical/other ex...|       6|         1169|                     4|              4| 67|               2|             1| good|\n",
            "|  2|       0<=X<200|       existing paid|      48|         5951|                     2|              2| 22|               1|             1|  bad|\n",
            "|  3|    no checking|critical/other ex...|      12|         2096|                     2|              3| 49|               1|             2| good|\n",
            "|  4|             <0|       existing paid|      42|         7882|                     2|              4| 45|               1|             2| good|\n",
            "|  5|             <0|  delayed previously|      24|         4870|                     3|              4| 53|               2|             2|  bad|\n",
            "|  6|    no checking|       existing paid|      36|         9055|                     2|              4| 35|               1|             2| good|\n",
            "|  7|    no checking|       existing paid|      24|         2835|                     3|              4| 53|               1|             1| good|\n",
            "|  8|       0<=X<200|       existing paid|      36|         6948|                     2|              2| 35|               1|             1| good|\n",
            "|  9|    no checking|       existing paid|      12|         3059|                     2|              4| 61|               1|             1| good|\n",
            "| 10|       0<=X<200|critical/other ex...|      30|         5234|                     4|              2| 28|               2|             1|  bad|\n",
            "| 11|       0<=X<200|       existing paid|      12|         1295|                     3|              1| 25|               1|             1|  bad|\n",
            "| 12|             <0|       existing paid|      48|         4308|                     3|              4| 24|               1|             1|  bad|\n",
            "| 13|       0<=X<200|       existing paid|      12|         1567|                     1|              1| 22|               1|             1| good|\n",
            "| 14|             <0|critical/other ex...|      24|         1199|                     4|              4| 60|               2|             1|  bad|\n",
            "| 15|             <0|       existing paid|      15|         1403|                     2|              4| 28|               1|             1| good|\n",
            "| 16|             <0|       existing paid|      24|         1282|                     4|              2| 32|               1|             1|  bad|\n",
            "| 17|    no checking|critical/other ex...|      24|         2424|                     4|              4| 53|               2|             1| good|\n",
            "| 18|             <0| no credits/all paid|      30|         8072|                     2|              3| 25|               3|             1| good|\n",
            "| 19|       0<=X<200|       existing paid|      24|        12579|                     4|              2| 44|               1|             1|  bad|\n",
            "| 20|    no checking|       existing paid|      24|         3430|                     3|              2| 31|               1|             2| good|\n",
            "+---+---------------+--------------------+--------+-------------+----------------------+---------------+---+----------------+--------------+-----+\n",
            "only showing top 20 rows\n",
            "\n"
          ]
        }
      ]
    },
    {
      "cell_type": "code",
      "source": [
        "df.columns"
      ],
      "metadata": {
        "colab": {
          "base_uri": "https://localhost:8080/"
        },
        "id": "-OKTuR1PbV8Z",
        "outputId": "c5f347fe-7620-43bf-bf30-dadc630aeca8"
      },
      "execution_count": 6,
      "outputs": [
        {
          "output_type": "execute_result",
          "data": {
            "text/plain": [
              "['ID',\n",
              " 'checking_status',\n",
              " 'credit_history',\n",
              " 'duration',\n",
              " 'credit_amount',\n",
              " 'installment_commitment',\n",
              " 'residence_since',\n",
              " 'age',\n",
              " 'existing_credits',\n",
              " 'num_dependents',\n",
              " 'class']"
            ]
          },
          "metadata": {},
          "execution_count": 6
        }
      ]
    },
    {
      "source": [
        "df_existente = df.filter(df[\"credit_history\"] != 'no checking') # Apply filter to the DataFrame\n",
        "df_existente.show() # Now show the filtered DataFrame"
      ],
      "cell_type": "code",
      "metadata": {
        "colab": {
          "base_uri": "https://localhost:8080/"
        },
        "id": "mzMm5j1hbvuf",
        "outputId": "e6fdb97c-366c-4a91-84f3-521c33188e49"
      },
      "execution_count": 7,
      "outputs": [
        {
          "output_type": "stream",
          "name": "stdout",
          "text": [
            "+---+---------------+--------------------+--------+-------------+----------------------+---------------+---+----------------+--------------+-----+\n",
            "| ID|checking_status|      credit_history|duration|credit_amount|installment_commitment|residence_since|age|existing_credits|num_dependents|class|\n",
            "+---+---------------+--------------------+--------+-------------+----------------------+---------------+---+----------------+--------------+-----+\n",
            "|  1|             <0|critical/other ex...|       6|         1169|                     4|              4| 67|               2|             1| good|\n",
            "|  2|       0<=X<200|       existing paid|      48|         5951|                     2|              2| 22|               1|             1|  bad|\n",
            "|  3|    no checking|critical/other ex...|      12|         2096|                     2|              3| 49|               1|             2| good|\n",
            "|  4|             <0|       existing paid|      42|         7882|                     2|              4| 45|               1|             2| good|\n",
            "|  5|             <0|  delayed previously|      24|         4870|                     3|              4| 53|               2|             2|  bad|\n",
            "|  6|    no checking|       existing paid|      36|         9055|                     2|              4| 35|               1|             2| good|\n",
            "|  7|    no checking|       existing paid|      24|         2835|                     3|              4| 53|               1|             1| good|\n",
            "|  8|       0<=X<200|       existing paid|      36|         6948|                     2|              2| 35|               1|             1| good|\n",
            "|  9|    no checking|       existing paid|      12|         3059|                     2|              4| 61|               1|             1| good|\n",
            "| 10|       0<=X<200|critical/other ex...|      30|         5234|                     4|              2| 28|               2|             1|  bad|\n",
            "| 11|       0<=X<200|       existing paid|      12|         1295|                     3|              1| 25|               1|             1|  bad|\n",
            "| 12|             <0|       existing paid|      48|         4308|                     3|              4| 24|               1|             1|  bad|\n",
            "| 13|       0<=X<200|       existing paid|      12|         1567|                     1|              1| 22|               1|             1| good|\n",
            "| 14|             <0|critical/other ex...|      24|         1199|                     4|              4| 60|               2|             1|  bad|\n",
            "| 15|             <0|       existing paid|      15|         1403|                     2|              4| 28|               1|             1| good|\n",
            "| 16|             <0|       existing paid|      24|         1282|                     4|              2| 32|               1|             1|  bad|\n",
            "| 17|    no checking|critical/other ex...|      24|         2424|                     4|              4| 53|               2|             1| good|\n",
            "| 18|             <0| no credits/all paid|      30|         8072|                     2|              3| 25|               3|             1| good|\n",
            "| 19|       0<=X<200|       existing paid|      24|        12579|                     4|              2| 44|               1|             1|  bad|\n",
            "| 20|    no checking|       existing paid|      24|         3430|                     3|              2| 31|               1|             2| good|\n",
            "+---+---------------+--------------------+--------+-------------+----------------------+---------------+---+----------------+--------------+-----+\n",
            "only showing top 20 rows\n",
            "\n"
          ]
        }
      ]
    },
    {
      "cell_type": "code",
      "source": [
        "df_existente.count()"
      ],
      "metadata": {
        "colab": {
          "base_uri": "https://localhost:8080/"
        },
        "id": "uWidT2sgbyzA",
        "outputId": "b1ae23b6-ddb0-4d08-86fd-ed1e0dbd81c4"
      },
      "execution_count": 8,
      "outputs": [
        {
          "output_type": "execute_result",
          "data": {
            "text/plain": [
              "1000"
            ]
          },
          "metadata": {},
          "execution_count": 8
        }
      ]
    },
    {
      "cell_type": "code",
      "source": [
        "df_existente.groupBy('credit_history').count().show()"
      ],
      "metadata": {
        "colab": {
          "base_uri": "https://localhost:8080/"
        },
        "id": "pqPi7NYrb2ig",
        "outputId": "f3375392-8ad4-46ee-c0e1-6cf48634aaee"
      },
      "execution_count": 9,
      "outputs": [
        {
          "output_type": "stream",
          "name": "stdout",
          "text": [
            "+--------------------+-----+\n",
            "|      credit_history|count|\n",
            "+--------------------+-----+\n",
            "|            all paid|   49|\n",
            "| no credits/all paid|   40|\n",
            "|critical/other ex...|  293|\n",
            "|  delayed previously|   88|\n",
            "|       existing paid|  530|\n",
            "+--------------------+-----+\n",
            "\n"
          ]
        }
      ]
    },
    {
      "cell_type": "code",
      "source": [
        "df_existente.show()"
      ],
      "metadata": {
        "colab": {
          "base_uri": "https://localhost:8080/"
        },
        "id": "rghnzNeXcDqV",
        "outputId": "e0d96981-9ac9-423e-ec7f-3ab7b034295c"
      },
      "execution_count": 10,
      "outputs": [
        {
          "output_type": "stream",
          "name": "stdout",
          "text": [
            "+---+---------------+--------------------+--------+-------------+----------------------+---------------+---+----------------+--------------+-----+\n",
            "| ID|checking_status|      credit_history|duration|credit_amount|installment_commitment|residence_since|age|existing_credits|num_dependents|class|\n",
            "+---+---------------+--------------------+--------+-------------+----------------------+---------------+---+----------------+--------------+-----+\n",
            "|  1|             <0|critical/other ex...|       6|         1169|                     4|              4| 67|               2|             1| good|\n",
            "|  2|       0<=X<200|       existing paid|      48|         5951|                     2|              2| 22|               1|             1|  bad|\n",
            "|  3|    no checking|critical/other ex...|      12|         2096|                     2|              3| 49|               1|             2| good|\n",
            "|  4|             <0|       existing paid|      42|         7882|                     2|              4| 45|               1|             2| good|\n",
            "|  5|             <0|  delayed previously|      24|         4870|                     3|              4| 53|               2|             2|  bad|\n",
            "|  6|    no checking|       existing paid|      36|         9055|                     2|              4| 35|               1|             2| good|\n",
            "|  7|    no checking|       existing paid|      24|         2835|                     3|              4| 53|               1|             1| good|\n",
            "|  8|       0<=X<200|       existing paid|      36|         6948|                     2|              2| 35|               1|             1| good|\n",
            "|  9|    no checking|       existing paid|      12|         3059|                     2|              4| 61|               1|             1| good|\n",
            "| 10|       0<=X<200|critical/other ex...|      30|         5234|                     4|              2| 28|               2|             1|  bad|\n",
            "| 11|       0<=X<200|       existing paid|      12|         1295|                     3|              1| 25|               1|             1|  bad|\n",
            "| 12|             <0|       existing paid|      48|         4308|                     3|              4| 24|               1|             1|  bad|\n",
            "| 13|       0<=X<200|       existing paid|      12|         1567|                     1|              1| 22|               1|             1| good|\n",
            "| 14|             <0|critical/other ex...|      24|         1199|                     4|              4| 60|               2|             1|  bad|\n",
            "| 15|             <0|       existing paid|      15|         1403|                     2|              4| 28|               1|             1| good|\n",
            "| 16|             <0|       existing paid|      24|         1282|                     4|              2| 32|               1|             1|  bad|\n",
            "| 17|    no checking|critical/other ex...|      24|         2424|                     4|              4| 53|               2|             1| good|\n",
            "| 18|             <0| no credits/all paid|      30|         8072|                     2|              3| 25|               3|             1| good|\n",
            "| 19|       0<=X<200|       existing paid|      24|        12579|                     4|              2| 44|               1|             1|  bad|\n",
            "| 20|    no checking|       existing paid|      24|         3430|                     3|              2| 31|               1|             2| good|\n",
            "+---+---------------+--------------------+--------+-------------+----------------------+---------------+---+----------------+--------------+-----+\n",
            "only showing top 20 rows\n",
            "\n"
          ]
        }
      ]
    },
    {
      "cell_type": "code",
      "source": [
        "\n",
        "# Exibir o número de linhas e colunas do DataFrame\n",
        "rows, columns = df.count(), len(df.columns)\n",
        "print(f\"Linhas: {rows}\\nColunas: {columns}\")"
      ],
      "metadata": {
        "colab": {
          "base_uri": "https://localhost:8080/"
        },
        "id": "4-J7OF5vcOPB",
        "outputId": "ce98a8e2-1f23-4f89-c01a-e92e4c5f32a6"
      },
      "execution_count": 11,
      "outputs": [
        {
          "output_type": "stream",
          "name": "stdout",
          "text": [
            "Linhas: 1000\n",
            "Colunas: 11\n"
          ]
        }
      ]
    },
    {
      "cell_type": "code",
      "source": [
        "df_existente.dtypes"
      ],
      "metadata": {
        "colab": {
          "base_uri": "https://localhost:8080/"
        },
        "id": "7r99wDl4e_Jl",
        "outputId": "ea6e17ff-c24b-452f-da47-cf5a85021ce4"
      },
      "execution_count": 12,
      "outputs": [
        {
          "output_type": "execute_result",
          "data": {
            "text/plain": [
              "[('ID', 'int'),\n",
              " ('checking_status', 'string'),\n",
              " ('credit_history', 'string'),\n",
              " ('duration', 'int'),\n",
              " ('credit_amount', 'int'),\n",
              " ('installment_commitment', 'int'),\n",
              " ('residence_since', 'int'),\n",
              " ('age', 'int'),\n",
              " ('existing_credits', 'int'),\n",
              " ('num_dependents', 'int'),\n",
              " ('class', 'string')]"
            ]
          },
          "metadata": {},
          "execution_count": 12
        }
      ]
    },
    {
      "cell_type": "code",
      "source": [
        "df_existente.describe().show()"
      ],
      "metadata": {
        "colab": {
          "base_uri": "https://localhost:8080/"
        },
        "id": "OH7MSH0Xfjrw",
        "outputId": "fd499ffc-d503-45eb-89c3-58205fbafffa"
      },
      "execution_count": 13,
      "outputs": [
        {
          "output_type": "stream",
          "name": "stdout",
          "text": [
            "+-------+-----------------+---------------+-------------------+------------------+-----------------+----------------------+------------------+-----------------+----------------+------------------+-----+\n",
            "|summary|               ID|checking_status|     credit_history|          duration|    credit_amount|installment_commitment|   residence_since|              age|existing_credits|    num_dependents|class|\n",
            "+-------+-----------------+---------------+-------------------+------------------+-----------------+----------------------+------------------+-----------------+----------------+------------------+-----+\n",
            "|  count|             1000|           1000|               1000|              1000|             1000|                  1000|              1000|             1000|            1000|              1000| 1000|\n",
            "|   mean|            500.5|           NULL|               NULL|            20.903|         3271.258|                 2.973|             2.845|           35.546|           1.407|             1.155| NULL|\n",
            "| stddev|288.8194360957494|           NULL|               NULL|12.058814452756371|2822.736875960441|     1.118714674312678|1.1037178956568539|11.37546857431751| 0.5776544682461|0.3620857717531939| NULL|\n",
            "|    min|                1|       0<=X<200|           all paid|                 4|              250|                     1|                 1|               19|               1|                 1|  bad|\n",
            "|    max|             1000|    no checking|no credits/all paid|                72|            18424|                     4|                 4|               75|               4|                 2| good|\n",
            "+-------+-----------------+---------------+-------------------+------------------+-----------------+----------------------+------------------+-----------------+----------------+------------------+-----+\n",
            "\n"
          ]
        }
      ]
    },
    {
      "cell_type": "code",
      "source": [
        "df_existente.groupBy('credit_history').count().show()"
      ],
      "metadata": {
        "colab": {
          "base_uri": "https://localhost:8080/"
        },
        "id": "8eQP_UkXgVSD",
        "outputId": "c64d8981-3485-420e-8a56-189f3af058e7"
      },
      "execution_count": 14,
      "outputs": [
        {
          "output_type": "stream",
          "name": "stdout",
          "text": [
            "+--------------------+-----+\n",
            "|      credit_history|count|\n",
            "+--------------------+-----+\n",
            "|            all paid|   49|\n",
            "| no credits/all paid|   40|\n",
            "|critical/other ex...|  293|\n",
            "|  delayed previously|   88|\n",
            "|       existing paid|  530|\n",
            "+--------------------+-----+\n",
            "\n"
          ]
        }
      ]
    },
    {
      "cell_type": "code",
      "source": [
        "dfdelay = df.filter(df[\"credit_history\"]  == 'delayed previously')\n",
        "dfdelay.show()"
      ],
      "metadata": {
        "colab": {
          "base_uri": "https://localhost:8080/"
        },
        "id": "gYMpLdj2ga8m",
        "outputId": "5c6c179e-419f-4fac-e58e-eed5d87c52a1"
      },
      "execution_count": 15,
      "outputs": [
        {
          "output_type": "stream",
          "name": "stdout",
          "text": [
            "+---+---------------+------------------+--------+-------------+----------------------+---------------+---+----------------+--------------+-----+\n",
            "| ID|checking_status|    credit_history|duration|credit_amount|installment_commitment|residence_since|age|existing_credits|num_dependents|class|\n",
            "+---+---------------+------------------+--------+-------------+----------------------+---------------+---+----------------+--------------+-----+\n",
            "|  5|             <0|delayed previously|      24|         4870|                     3|              4| 53|               2|             2|  bad|\n",
            "| 30|             <0|delayed previously|      60|         6836|                     3|              4| 63|               2|             1|  bad|\n",
            "| 43|       0<=X<200|delayed previously|      18|         6204|                     2|              4| 44|               1|             2| good|\n",
            "| 51|       0<=X<200|delayed previously|      24|         2333|                     4|              2| 29|               1|             1| good|\n",
            "| 52|       0<=X<200|delayed previously|      27|         5965|                     1|              2| 30|               2|             1| good|\n",
            "| 55|       0<=X<200|delayed previously|      36|         2225|                     4|              4| 57|               2|             1|  bad|\n",
            "| 78|       0<=X<200|delayed previously|      11|         4771|                     2|              4| 51|               1|             1| good|\n",
            "|100|       0<=X<200|delayed previously|      20|         7057|                     3|              4| 36|               2|             2| good|\n",
            "|103|    no checking|delayed previously|       6|          932|                     3|              2| 24|               1|             1| good|\n",
            "|111|       0<=X<200|delayed previously|       6|         1449|                     1|              2| 31|               2|             2| good|\n",
            "|132|             <0|delayed previously|      36|         6887|                     4|              3| 29|               1|             1|  bad|\n",
            "|137|    no checking|delayed previously|      27|         8613|                     2|              2| 27|               2|             1| good|\n",
            "|155|       0<=X<200|delayed previously|      24|         6967|                     4|              4| 36|               1|             1| good|\n",
            "|173|       0<=X<200|delayed previously|      24|         2064|                     3|              2| 34|               1|             1|  bad|\n",
            "|175|             <0|delayed previously|      21|         3414|                     2|              1| 26|               2|             1|  bad|\n",
            "|181|    no checking|delayed previously|      36|         9572|                     1|              1| 28|               2|             1|  bad|\n",
            "|182|       0<=X<200|delayed previously|      36|         4455|                     2|              2| 30|               2|             1|  bad|\n",
            "|200|       0<=X<200|delayed previously|      18|         4297|                     4|              3| 40|               1|             1|  bad|\n",
            "|203|    no checking|delayed previously|      27|         5117|                     3|              4| 26|               2|             1| good|\n",
            "|214|          >=200|delayed previously|      30|         1908|                     4|              4| 66|               1|             1|  bad|\n",
            "+---+---------------+------------------+--------+-------------+----------------------+---------------+---+----------------+--------------+-----+\n",
            "only showing top 20 rows\n",
            "\n"
          ]
        }
      ]
    },
    {
      "cell_type": "code",
      "source": [
        "dfdelay.show()"
      ],
      "metadata": {
        "colab": {
          "base_uri": "https://localhost:8080/"
        },
        "id": "rXr4RhkugyoU",
        "outputId": "79d6df9b-1591-45f9-9fef-509d3b15c22e"
      },
      "execution_count": 16,
      "outputs": [
        {
          "output_type": "stream",
          "name": "stdout",
          "text": [
            "+---+---------------+------------------+--------+-------------+----------------------+---------------+---+----------------+--------------+-----+\n",
            "| ID|checking_status|    credit_history|duration|credit_amount|installment_commitment|residence_since|age|existing_credits|num_dependents|class|\n",
            "+---+---------------+------------------+--------+-------------+----------------------+---------------+---+----------------+--------------+-----+\n",
            "|  5|             <0|delayed previously|      24|         4870|                     3|              4| 53|               2|             2|  bad|\n",
            "| 30|             <0|delayed previously|      60|         6836|                     3|              4| 63|               2|             1|  bad|\n",
            "| 43|       0<=X<200|delayed previously|      18|         6204|                     2|              4| 44|               1|             2| good|\n",
            "| 51|       0<=X<200|delayed previously|      24|         2333|                     4|              2| 29|               1|             1| good|\n",
            "| 52|       0<=X<200|delayed previously|      27|         5965|                     1|              2| 30|               2|             1| good|\n",
            "| 55|       0<=X<200|delayed previously|      36|         2225|                     4|              4| 57|               2|             1|  bad|\n",
            "| 78|       0<=X<200|delayed previously|      11|         4771|                     2|              4| 51|               1|             1| good|\n",
            "|100|       0<=X<200|delayed previously|      20|         7057|                     3|              4| 36|               2|             2| good|\n",
            "|103|    no checking|delayed previously|       6|          932|                     3|              2| 24|               1|             1| good|\n",
            "|111|       0<=X<200|delayed previously|       6|         1449|                     1|              2| 31|               2|             2| good|\n",
            "|132|             <0|delayed previously|      36|         6887|                     4|              3| 29|               1|             1|  bad|\n",
            "|137|    no checking|delayed previously|      27|         8613|                     2|              2| 27|               2|             1| good|\n",
            "|155|       0<=X<200|delayed previously|      24|         6967|                     4|              4| 36|               1|             1| good|\n",
            "|173|       0<=X<200|delayed previously|      24|         2064|                     3|              2| 34|               1|             1|  bad|\n",
            "|175|             <0|delayed previously|      21|         3414|                     2|              1| 26|               2|             1|  bad|\n",
            "|181|    no checking|delayed previously|      36|         9572|                     1|              1| 28|               2|             1|  bad|\n",
            "|182|       0<=X<200|delayed previously|      36|         4455|                     2|              2| 30|               2|             1|  bad|\n",
            "|200|       0<=X<200|delayed previously|      18|         4297|                     4|              3| 40|               1|             1|  bad|\n",
            "|203|    no checking|delayed previously|      27|         5117|                     3|              4| 26|               2|             1| good|\n",
            "|214|          >=200|delayed previously|      30|         1908|                     4|              4| 66|               1|             1|  bad|\n",
            "+---+---------------+------------------+--------+-------------+----------------------+---------------+---+----------------+--------------+-----+\n",
            "only showing top 20 rows\n",
            "\n"
          ]
        }
      ]
    },
    {
      "cell_type": "code",
      "source": [
        "df.orderBy('credit_amount',  ascending=False).show()"
      ],
      "metadata": {
        "colab": {
          "base_uri": "https://localhost:8080/"
        },
        "id": "8dJJqeRAj02M",
        "outputId": "aa585dcb-bb98-444e-bc09-dca8f53a3dcc"
      },
      "execution_count": 17,
      "outputs": [
        {
          "output_type": "stream",
          "name": "stdout",
          "text": [
            "+---+---------------+--------------------+--------+-------------+----------------------+---------------+---+----------------+--------------+-----+\n",
            "| ID|checking_status|      credit_history|duration|credit_amount|installment_commitment|residence_since|age|existing_credits|num_dependents|class|\n",
            "+---+---------------+--------------------+--------+-------------+----------------------+---------------+---+----------------+--------------+-----+\n",
            "|916|       0<=X<200| no credits/all paid|      48|        18424|                     1|              2| 32|               1|             1|  bad|\n",
            "| 96|       0<=X<200| no credits/all paid|      54|        15945|                     3|              4| 58|               1|             1|  bad|\n",
            "|819|             <0|       existing paid|      36|        15857|                     2|              3| 43|               1|             1| good|\n",
            "|888|       0<=X<200|       existing paid|      48|        15672|                     2|              2| 23|               1|             1|  bad|\n",
            "|638|    no checking|  delayed previously|      60|        15653|                     2|              4| 21|               2|             1| good|\n",
            "|918|             <0|       existing paid|       6|        14896|                     1|              4| 68|               1|             1|  bad|\n",
            "|375|       0<=X<200|            all paid|      60|        14782|                     3|              4| 60|               2|             1|  bad|\n",
            "|237|       0<=X<200|       existing paid|       6|        14555|                     1|              2| 23|               1|             1|  bad|\n",
            "| 64|       0<=X<200| no credits/all paid|      48|        14421|                     2|              2| 25|               1|             1|  bad|\n",
            "|379|       0<=X<200|       existing paid|      36|        14318|                     4|              2| 57|               1|             1|  bad|\n",
            "|745|             <0|critical/other ex...|      39|        14179|                     4|              4| 30|               2|             1| good|\n",
            "|715|       0<=X<200|       existing paid|      60|        14027|                     4|              2| 27|               1|             1|  bad|\n",
            "|374|    no checking|critical/other ex...|      60|        13756|                     2|              4| 63|               1|             1| good|\n",
            "|382|       0<=X<200|       existing paid|      18|        12976|                     3|              4| 38|               1|             1|  bad|\n",
            "|922|    no checking|  delayed previously|      48|        12749|                     4|              1| 37|               1|             1| good|\n",
            "|764|    no checking|critical/other ex...|      21|        12680|                     4|              4| 30|               1|             1|  bad|\n",
            "| 88|       0<=X<200|       existing paid|      36|        12612|                     1|              4| 47|               1|             2|  bad|\n",
            "| 19|       0<=X<200|       existing paid|      24|        12579|                     4|              2| 44|               1|             1|  bad|\n",
            "|564|       0<=X<200|       existing paid|      36|        12389|                     1|              4| 37|               1|             1|  bad|\n",
            "|616|       0<=X<200| no credits/all paid|      48|        12204|                     2|              2| 48|               1|             1| good|\n",
            "+---+---------------+--------------------+--------+-------------+----------------------+---------------+---+----------------+--------------+-----+\n",
            "only showing top 20 rows\n",
            "\n"
          ]
        }
      ]
    },
    {
      "cell_type": "code",
      "source": [
        "df.groupBy('class').count().orderBy('class', ascending=False).show(10)"
      ],
      "metadata": {
        "colab": {
          "base_uri": "https://localhost:8080/"
        },
        "id": "opJ1yR0i1Wji",
        "outputId": "4631b2da-6a6f-41fc-df6a-e2bb1fac42bc"
      },
      "execution_count": 18,
      "outputs": [
        {
          "output_type": "stream",
          "name": "stdout",
          "text": [
            "+-----+-----+\n",
            "|class|count|\n",
            "+-----+-----+\n",
            "| good|  700|\n",
            "|  bad|  300|\n",
            "+-----+-----+\n",
            "\n"
          ]
        }
      ]
    },
    {
      "cell_type": "code",
      "source": [
        "df.groupBy('credit_history', 'class').count().orderBy('credit_history', ascending=False).show(10)"
      ],
      "metadata": {
        "colab": {
          "base_uri": "https://localhost:8080/"
        },
        "id": "JHFx7gCO1zbh",
        "outputId": "8fa3303d-d704-4ab6-f5cb-cd2cca2c6cbe"
      },
      "execution_count": 19,
      "outputs": [
        {
          "output_type": "stream",
          "name": "stdout",
          "text": [
            "+--------------------+-----+-----+\n",
            "|      credit_history|class|count|\n",
            "+--------------------+-----+-----+\n",
            "| no credits/all paid|  bad|   25|\n",
            "| no credits/all paid| good|   15|\n",
            "|       existing paid|  bad|  169|\n",
            "|       existing paid| good|  361|\n",
            "|  delayed previously|  bad|   28|\n",
            "|  delayed previously| good|   60|\n",
            "|critical/other ex...|  bad|   50|\n",
            "|critical/other ex...| good|  243|\n",
            "|            all paid|  bad|   28|\n",
            "|            all paid| good|   21|\n",
            "+--------------------+-----+-----+\n",
            "\n"
          ]
        }
      ]
    },
    {
      "cell_type": "code",
      "source": [
        "df_filtrado = df.filter(df[\"credit_history\"] == 'delayed previously')\n",
        "df_filtrado.show()"
      ],
      "metadata": {
        "id": "oTansQEJ167F"
      },
      "execution_count": null,
      "outputs": []
    },
    {
      "cell_type": "markdown",
      "source": [
        "Filtrando dados com Pyspark"
      ],
      "metadata": {
        "id": "fRUCni3h2OeC"
      }
    },
    {
      "cell_type": "code",
      "source": [
        "from pyspark.sql.functions import col\n",
        "\n",
        "total_count = df.count()\n",
        "print(\"Total de registros:\", total_count)"
      ],
      "metadata": {
        "colab": {
          "base_uri": "https://localhost:8080/"
        },
        "id": "W6TcuQpv2GXb",
        "outputId": "53df50da-892f-42da-8073-341a3e385125"
      },
      "execution_count": 20,
      "outputs": [
        {
          "output_type": "stream",
          "name": "stdout",
          "text": [
            "Total de registros: 1000\n"
          ]
        }
      ]
    },
    {
      "cell_type": "code",
      "source": [],
      "metadata": {
        "id": "5hjC8P592OCq"
      },
      "execution_count": 20,
      "outputs": []
    }
  ]
}