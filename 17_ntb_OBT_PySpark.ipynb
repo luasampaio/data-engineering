{
  "nbformat": 4,
  "nbformat_minor": 0,
  "metadata": {
    "colab": {
      "provenance": [],
      "authorship_tag": "ABX9TyOlT7S4TP0ajST8Dww1/gtz",
      "include_colab_link": true
    },
    "kernelspec": {
      "name": "python3",
      "display_name": "Python 3"
    },
    "language_info": {
      "name": "python"
    }
  },
  "cells": [
    {
      "cell_type": "markdown",
      "metadata": {
        "id": "view-in-github",
        "colab_type": "text"
      },
      "source": [
        "<a href=\"https://colab.research.google.com/github/luasampaio/data-engineering/blob/main/17_ntb_OBT_PySpark.ipynb\" target=\"_parent\"><img src=\"https://colab.research.google.com/assets/colab-badge.svg\" alt=\"Open In Colab\"/></a>"
      ]
    },
    {
      "cell_type": "code",
      "execution_count": null,
      "metadata": {
        "id": "6j6kXOSM0O34"
      },
      "outputs": [],
      "source": []
    },
    {
      "cell_type": "markdown",
      "source": [
        "- OBT (Outras Bases de Tratamento) é normalmente uma tabela ou estrutura intermediária usada em pipelines de dados para processar e preparar informações antes de movê-las para uma camada analítica ou de consumo."
      ],
      "metadata": {
        "id": "pSOtCEu22kTh"
      }
    },
    {
      "cell_type": "code",
      "source": [
        "from pyspark.sql import SparkSession\n",
        "from pyspark.sql.functions import col, current_timestamp, to_date\n",
        "\n",
        "# Inicia a sessão do Spark\n",
        "spark = SparkSession.builder \\\n",
        "    .appName(\"Criar OBT\") \\\n",
        "    .config(\"spark.sql.extensions\", \"io.delta.sql.DeltaSparkSessionExtension\") \\\n",
        "    .config(\"spark.sql.catalog.spark_catalog\", \"org.apache.spark.sql.delta.catalog.DeltaCatalog\") \\\n",
        "    .getOrCreate()\n",
        "\n",
        "# Leitura dos dados brutos de um data lake (exemplo)\n",
        "input_path = \"/mnt/raw/datalake/ia/data/Captacao/raw_data.csv\"\n",
        "df = spark.read.format(\"csv\") \\\n",
        "    .option(\"header\", \"true\") \\\n",
        "    .option(\"inferSchema\", \"true\") \\\n",
        "    .load(input_path)\n",
        "\n",
        "# Transformações: Criação da OBT\n",
        "df_obt = df \\\n",
        "    .filter(col(\"status\") == \"ativo\") \\  # Exemplo: Filtrar registros com status ativo\n",
        "    .withColumn(\"datalog\", to_date(current_timestamp())) \\  # Adicionar coluna de data\n",
        "    .withColumnRenamed(\"nome_cliente\", \"cliente\") \\  # Renomear coluna para consistência\n",
        "    .select(\"cliente\", \"produto\", \"valor\", \"datalog\")  # Selecionar colunas relevantes\n",
        "\n",
        "# Escreve a OBT em formato Delta no Data Lake\n",
        "output_path = \"/mnt/trusted/datalake/ia/data/Captacao/gold/obt_consumo\"\n",
        "df_obt.write \\\n",
        "    .format(\"delta\") \\\n",
        "    .mode(\"overwrite\") \\\n",
        "    .option(\"mergeSchema\", \"true\") \\\n",
        "    .save(output_path)\n",
        "\n",
        "# Opcional: Registrar a OBT como uma tabela Delta no Metastore\n",
        "spark.sql(f\"\"\"\n",
        "    CREATE TABLE IF NOT EXISTS ia.obt_consumo\n",
        "    USING DELTA\n",
        "    LOCATION '{output_path}'\n",
        "\"\"\")\n",
        "\n",
        "# Finaliza a sessão do Spark\n",
        "spark.stop()\n"
      ],
      "metadata": {
        "id": "2879Dbqz2m8x"
      },
      "execution_count": null,
      "outputs": []
    },
    {
      "cell_type": "code",
      "source": [
        "first_name = input(\"Hey, what's your first name? : \").strip()\n",
        "last_name = input(\"And your last name? : \").strip()\n",
        "print (\"Well, pleased to meet you, \" + first_name + \" \" + last_name + \".\")"
      ],
      "metadata": {
        "colab": {
          "base_uri": "https://localhost:8080/"
        },
        "id": "-YZLXRiG-vwm",
        "outputId": "5c7ffef6-5caf-4c18-f17d-40a7d513520e"
      },
      "execution_count": null,
      "outputs": [
        {
          "output_type": "stream",
          "name": "stdout",
          "text": [
            "Hey, what's your first name? : Luciana\n",
            "And your last name? : Sampaio\n",
            "Well, pleased to meet you, Luciana Sampaio.\n"
          ]
        }
      ]
    },
    {
      "cell_type": "code",
      "source": [
        "import sys\n",
        "if len(sys.argv) != 2:\n",
        "    print(\"none\")\n",
        "else:\n",
        "    word = (sys.argv[1])\n",
        "    for char in word:\n",
        "        if char == 'z':\n",
        "            print('z', end = \"\")\n",
        "    print()"
      ],
      "metadata": {
        "colab": {
          "base_uri": "https://localhost:8080/"
        },
        "id": "vbVO3woF-6xu",
        "outputId": "84748b30-2341-4a00-a0ed-3b656ae0020b"
      },
      "execution_count": null,
      "outputs": [
        {
          "output_type": "stream",
          "name": "stdout",
          "text": [
            "none\n"
          ]
        }
      ]
    },
    {
      "cell_type": "code",
      "source": [
        "import sys\n",
        "\n",
        "# Contar o número de argumentos passados\n",
        "num_parametros = len(sys.argv) - 1\n",
        "\n",
        "# Exibir o número de parâmetros\n",
        "print(f\"Number of parameters: {num_parametros}.\")"
      ],
      "metadata": {
        "colab": {
          "base_uri": "https://localhost:8080/"
        },
        "id": "CwLnEHwC-87i",
        "outputId": "63538233-276b-4936-96c5-7f8c2c2e6556"
      },
      "execution_count": null,
      "outputs": [
        {
          "output_type": "stream",
          "name": "stdout",
          "text": [
            "Number of parameters: 2.\n"
          ]
        }
      ]
    },
    {
      "cell_type": "code",
      "source": [
        "#Definir uma lista\n",
        "lista = [2, 8, 9, 48, 8, 22, -12, 2]\n",
        "print(lista)"
      ],
      "metadata": {
        "colab": {
          "base_uri": "https://localhost:8080/"
        },
        "id": "rLOAOnFf_M6v",
        "outputId": "3d8d54ea-2abb-4c5b-8d03-185b8e6d0e38"
      },
      "execution_count": null,
      "outputs": [
        {
          "output_type": "stream",
          "name": "stdout",
          "text": [
            "[2, 8, 9, 48, 8, 22, -12, 2]\n"
          ]
        }
      ]
    },
    {
      "cell_type": "code",
      "source": [],
      "metadata": {
        "id": "ue9Ta33F_Okk"
      },
      "execution_count": null,
      "outputs": []
    }
  ]
}