{
  "nbformat": 4,
  "nbformat_minor": 0,
  "metadata": {
    "colab": {
      "provenance": [],
      "authorship_tag": "ABX9TyORyM3cI87qn2hhoQeDQbny",
      "include_colab_link": true
    },
    "kernelspec": {
      "name": "python3",
      "display_name": "Python 3"
    },
    "language_info": {
      "name": "python"
    }
  },
  "cells": [
    {
      "cell_type": "markdown",
      "metadata": {
        "id": "view-in-github",
        "colab_type": "text"
      },
      "source": [
        "<a href=\"https://colab.research.google.com/github/luasampaio/data-engineering/blob/main/52_ntb_scd_pyspark.ipynb\" target=\"_parent\"><img src=\"https://colab.research.google.com/assets/colab-badge.svg\" alt=\"Open In Colab\"/></a>"
      ]
    },
    {
      "cell_type": "code",
      "execution_count": null,
      "metadata": {
        "colab": {
          "base_uri": "https://localhost:8080/"
        },
        "id": "T72gHijs3bCD",
        "outputId": "5b21d517-a6a1-4bd2-aea7-efcc1d68bc32"
      },
      "outputs": [
        {
          "output_type": "stream",
          "name": "stdout",
          "text": [
            "+---+------------+--------------+-------+--------------------------+--------+---------------+\n",
            "|id |Fornecedor  |CNPJ          |Status |Data_Inicio               |Data_Fim|Ultimo_Registro|\n",
            "+---+------------+--------------+-------+--------------------------+--------+---------------+\n",
            "|1  |Fornecedor A|12345678000195|Ativo  |2025-05-04 12:49:09.808238|NULL    |true           |\n",
            "|2  |Fornecedor B|98765432000196|Ativo  |2025-05-04 12:49:09.808238|NULL    |true           |\n",
            "|3  |Fornecedor C|12345678000195|Inativo|2025-05-04 12:49:09.808238|NULL    |true           |\n",
            "+---+------------+--------------+-------+--------------------------+--------+---------------+\n",
            "\n"
          ]
        }
      ],
      "source": [
        "from pyspark.sql import SparkSession\n",
        "from pyspark.sql.functions import current_timestamp, lit\n",
        "from pyspark.sql.types import StructType, StructField, IntegerType, StringType, TimestampType\n",
        "\n",
        "# Inicializa Spark\n",
        "spark = SparkSession.builder.appName(\"SCD_Type2\").getOrCreate()\n",
        "\n",
        "# Dados de exemplo\n",
        "data = [\n",
        "    (1, \"Fornecedor A\", \"12345678000195\", \"Ativo\", \"2023-01-01\"),\n",
        "    (2, \"Fornecedor B\", \"98765432000196\", \"Ativo\", \"2023-01-01\"),\n",
        "    (3, \"Fornecedor C\", \"12345678000195\", \"Inativo\", None),\n",
        "\n",
        "]\n",
        "\n",
        "# Esquema com os campos obrigatórios de SCD Tipo 2\n",
        "schema = StructType([\n",
        "    StructField(\"id\", IntegerType(), True),\n",
        "    StructField(\"Fornecedor\", StringType(), True),\n",
        "    StructField(\"CNPJ\", StringType(), True),\n",
        "    StructField(\"Status\", StringType(), True),\n",
        "    StructField(\"Data_Inicio\", StringType(), True),\n",
        "])\n",
        "\n",
        "# Criação do DataFrame inicial\n",
        "initial_df = spark.createDataFrame(data, schema)\n",
        "\n",
        "# Adiciona colunas de controle para SCD Tipo 2\n",
        "initial_df = initial_df.withColumn(\"Data_Inicio\", current_timestamp()) \\\n",
        "                       .withColumn(\"Data_Fim\", lit(None).cast(TimestampType())) \\\n",
        "                       .withColumn(\"Ultimo_Registro\", lit(True))\n",
        "\n",
        "# Exibe o resultado\n",
        "initial_df.show(truncate=False)\n"
      ]
    },
    {
      "cell_type": "code",
      "source": [
        "display(initial_df)"
      ],
      "metadata": {
        "colab": {
          "base_uri": "https://localhost:8080/",
          "height": 34
        },
        "id": "zLwQhCHk_r0d",
        "outputId": "c40ea356-03a5-4b9f-ef47-57c361b6e85f"
      },
      "execution_count": null,
      "outputs": [
        {
          "output_type": "display_data",
          "data": {
            "text/plain": [
              "DataFrame[id: int, Fornecedor: string, CNPJ: string, Status: string, Data_Inicio: timestamp, Data_Fim: timestamp, Ultimo_Registro: boolean]"
            ]
          },
          "metadata": {}
        }
      ]
    },
    {
      "cell_type": "code",
      "source": [
        "initial_df.printSchema()\n"
      ],
      "metadata": {
        "colab": {
          "base_uri": "https://localhost:8080/"
        },
        "id": "vCXlB6vC_z6W",
        "outputId": "03d63b48-ce9f-48e5-894b-4483447be035"
      },
      "execution_count": null,
      "outputs": [
        {
          "output_type": "stream",
          "name": "stdout",
          "text": [
            "root\n",
            " |-- id: integer (nullable = true)\n",
            " |-- Fornecedor: string (nullable = true)\n",
            " |-- CNPJ: string (nullable = true)\n",
            " |-- Status: string (nullable = true)\n",
            " |-- Data_Inicio: timestamp (nullable = false)\n",
            " |-- Data_Fim: timestamp (nullable = true)\n",
            " |-- Ultimo_Registro: boolean (nullable = false)\n",
            "\n"
          ]
        }
      ]
    },
    {
      "cell_type": "code",
      "source": [
        "initial_df.count()"
      ],
      "metadata": {
        "colab": {
          "base_uri": "https://localhost:8080/"
        },
        "id": "7soI2K7-_2nh",
        "outputId": "91904226-6941-4f59-e945-b053372c80b3"
      },
      "execution_count": null,
      "outputs": [
        {
          "output_type": "execute_result",
          "data": {
            "text/plain": [
              "3"
            ]
          },
          "metadata": {},
          "execution_count": 62
        }
      ]
    },
    {
      "cell_type": "code",
      "source": [
        "initial_df.show()"
      ],
      "metadata": {
        "colab": {
          "base_uri": "https://localhost:8080/"
        },
        "id": "CLWJO10c_4pr",
        "outputId": "35d90f01-e865-4d63-c21d-d36b9e93d948"
      },
      "execution_count": null,
      "outputs": [
        {
          "output_type": "stream",
          "name": "stdout",
          "text": [
            "+---+------------+--------------+-------+--------------------+--------+---------------+\n",
            "| id|  Fornecedor|          CNPJ| Status|         Data_Inicio|Data_Fim|Ultimo_Registro|\n",
            "+---+------------+--------------+-------+--------------------+--------+---------------+\n",
            "|  1|Fornecedor A|12345678000195|  Ativo|2025-05-04 12:49:...|    NULL|           true|\n",
            "|  2|Fornecedor B|98765432000196|  Ativo|2025-05-04 12:49:...|    NULL|           true|\n",
            "|  3|Fornecedor C|12345678000195|Inativo|2025-05-04 12:49:...|    NULL|           true|\n",
            "+---+------------+--------------+-------+--------------------+--------+---------------+\n",
            "\n"
          ]
        }
      ]
    },
    {
      "cell_type": "markdown",
      "source": [
        "definir a minha regra de negocio dos dados que estão ativos e iniativos\n",
        "\n",
        "- Primeiro passo atualizar os dados inativos com a data fim"
      ],
      "metadata": {
        "id": "TdwnkuriADI0"
      }
    },
    {
      "cell_type": "code",
      "source": [
        "resultado_df.printSchema()"
      ],
      "metadata": {
        "colab": {
          "base_uri": "https://localhost:8080/"
        },
        "id": "FUDVtJWJBC4E",
        "outputId": "28028c74-5d33-4542-aee6-c1742eb70550"
      },
      "execution_count": null,
      "outputs": [
        {
          "output_type": "stream",
          "name": "stdout",
          "text": [
            "root\n",
            " |-- id: integer (nullable = true)\n",
            " |-- Fornecedor: string (nullable = true)\n",
            " |-- CNPJ: string (nullable = true)\n",
            " |-- Status: string (nullable = true)\n",
            " |-- Data_Inicio: string (nullable = true)\n",
            " |-- Data_Fim: string (nullable = true)\n",
            " |-- Ultimo_Registro: boolean (nullable = true)\n",
            "\n"
          ]
        }
      ]
    },
    {
      "cell_type": "code",
      "source": [
        "resultado_df.show()"
      ],
      "metadata": {
        "colab": {
          "base_uri": "https://localhost:8080/"
        },
        "id": "GP4lPwR4BHID",
        "outputId": "4de881d6-05a2-4b9a-b09e-7d9189e4d31a"
      },
      "execution_count": null,
      "outputs": [
        {
          "output_type": "stream",
          "name": "stdout",
          "text": [
            "+---+------------+--------------+-------+--------------------+--------------------+---------------+\n",
            "| id|  Fornecedor|          CNPJ| Status|         Data_Inicio|            Data_Fim|Ultimo_Registro|\n",
            "+---+------------+--------------+-------+--------------------+--------------------+---------------+\n",
            "|  1|Fornecedor A|12345678000195|  Ativo|          2023-01-01|2025-05-04 12:49:...|          false|\n",
            "|  1|Fornecedor A|12345678000195|Inativo|2025-05-04 12:49:...|                NULL|           true|\n",
            "|  3|Fornecedor C|12345678007808|  Ativo|          2023-01-01|                NULL|           true|\n",
            "|  4|Fornecedor D|11111111000111|  Ativo|2025-05-04 12:49:...|                NULL|           true|\n",
            "+---+------------+--------------+-------+--------------------+--------------------+---------------+\n",
            "\n"
          ]
        }
      ]
    },
    {
      "cell_type": "code",
      "source": [
        "from pyspark.sql import SparkSession\n",
        "from pyspark.sql.functions import col, current_timestamp, lit\n",
        "from pyspark.sql.types import *\n",
        "\n",
        "spark = SparkSession.builder.appName(\"SCD_Type2_Merge\").getOrCreate()\n",
        "\n",
        "# Histórico atual\n",
        "historico_data = [\n",
        "    (1, \"Fornecedor A\", \"12345678000195\", \"Ativo\", \"2023-01-01\", None, True),\n",
        "    (2, \"Fornecedor B\", \"98765432000196\", \"Ativo\", \"2023-01-01\", None, True),\n",
        "    (3, \"Fornecedor C\", \"12345678007808\", \"Ativo\", \"2023-01-01\", None, True)\n",
        "]\n",
        "historico_schema = StructType([\n",
        "    StructField(\"id\", IntegerType()),\n",
        "    StructField(\"Fornecedor\", StringType()),\n",
        "    StructField(\"CNPJ\", StringType()),\n",
        "    StructField(\"Status\", StringType()),\n",
        "    StructField(\"Data_Inicio\", StringType()),\n",
        "    StructField(\"Data_Fim\", StringType()),\n",
        "    StructField(\"Ultimo_Registro\", BooleanType())\n",
        "])\n",
        "historico_df = spark.createDataFrame(historico_data, schema=historico_schema)\n",
        "\n",
        "# Novos dados\n",
        "novos_data = [\n",
        "    (1, \"Fornecedor A\", \"12345678000195\", \"Inativo\"),\n",
        "    (2, \"Fornecedor B\", \"98765432000196\", \"Ativo\"),\n",
        "    (4, \"Fornecedor D\", \"11111111000111\", \"Ativo\")\n",
        "]\n",
        "novos_schema = StructType([\n",
        "    StructField(\"id\", IntegerType()),\n",
        "    StructField(\"Fornecedor\", StringType()),\n",
        "    StructField(\"CNPJ\", StringType()),\n",
        "    StructField(\"Status\", StringType())\n",
        "])\n",
        "novos_df = spark.createDataFrame(novos_data, schema=novos_schema)\n",
        "\n",
        "# Condição de junção para detectar alterações de status para \"Inativo\"\n",
        "join_cond = (historico_df[\"CNPJ\"] == novos_df[\"CNPJ\"]) & \\\n",
        "            (historico_df[\"Fornecedor\"] == novos_df[\"Fornecedor\"]) & \\\n",
        "            (novos_df[\"Status\"] == \"Inativo\") & \\\n",
        "            (historico_df[\"Status\"] != novos_df[\"Status\"])\n",
        "\n",
        "# Registros alterados (Status atualizado para \"Inativo\")\n",
        "alterados_df = historico_df.join(novos_df, join_cond) \\\n",
        "    .filter(historico_df.Ultimo_Registro == True) \\\n",
        "    .select(\n",
        "        historico_df[\"*\"],\n",
        "        novos_df[\"Status\"].alias(\"Novo_Status\")\n",
        "    )\n",
        "\n",
        "# Fecha os registros antigos\n",
        "historico_atualizado_df = alterados_df.withColumn(\"Ultimo_Registro\", lit(False)) \\\n",
        "    .withColumn(\"Data_Fim\", current_timestamp()) \\\n",
        "    .drop(\"Novo_Status\")\n",
        "\n",
        "\n",
        "# Insere o novo registro com status atualizado\n",
        "novos_registros_df = alterados_df.select(\n",
        "    col(\"id\"),\n",
        "    col(\"Fornecedor\"),\n",
        "    col(\"CNPJ\"),\n",
        "    col(\"Novo_Status\").alias(\"Status\"),\n",
        "    current_timestamp().alias(\"Data_Inicio\"),\n",
        "    lit(None).cast(StringType()).alias(\"Data_Fim\"),\n",
        "    lit(True).alias(\"Ultimo_Registro\")\n",
        ")\n",
        "\n",
        "# Registros inalterados\n",
        "inalterados_df = historico_df.join(novos_df, historico_df[\"CNPJ\"] == novos_df[\"CNPJ\"], \"left_anti\")\n",
        "\n",
        "# Registros novos (que ainda não existem no histórico)\n",
        "novos_inseridos_df = novos_df.join(historico_df, novos_df[\"CNPJ\"] == historico_df[\"CNPJ\"], \"left_anti\") \\\n",
        "    .withColumn(\"Data_Inicio\", current_timestamp()) \\\n",
        "    .withColumn(\"Data_Fim\", lit(None).cast(StringType())) \\\n",
        "    .withColumn(\"Ultimo_Registro\", lit(True))\n",
        "\n",
        "# Resultado final\n",
        "resultado_df = historico_atualizado_df.union(novos_registros_df) \\\n",
        "    .union(inalterados_df) \\\n",
        "    .union(novos_inseridos_df)\n",
        "\n",
        "resultado_df.orderBy(\"CNPJ\").show(truncate=False)\n"
      ],
      "metadata": {
        "colab": {
          "base_uri": "https://localhost:8080/"
        },
        "id": "h2onyLvjFy69",
        "outputId": "3f856610-0a2e-41eb-fa1a-d72f3c40639e"
      },
      "execution_count": null,
      "outputs": [
        {
          "output_type": "stream",
          "name": "stdout",
          "text": [
            "+---+------------+--------------+-------+--------------------------+--------------------------+---------------+\n",
            "|id |Fornecedor  |CNPJ          |Status |Data_Inicio               |Data_Fim                  |Ultimo_Registro|\n",
            "+---+------------+--------------+-------+--------------------------+--------------------------+---------------+\n",
            "|4  |Fornecedor D|11111111000111|Ativo  |2025-05-04 12:49:35.205627|NULL                      |true           |\n",
            "|1  |Fornecedor A|12345678000195|Inativo|2025-05-04 12:49:35.205627|NULL                      |true           |\n",
            "|1  |Fornecedor A|12345678000195|Ativo  |2023-01-01                |2025-05-04 12:49:35.205627|false          |\n",
            "|3  |Fornecedor C|12345678007808|Ativo  |2023-01-01                |NULL                      |true           |\n",
            "+---+------------+--------------+-------+--------------------------+--------------------------+---------------+\n",
            "\n"
          ]
        }
      ]
    },
    {
      "cell_type": "code",
      "source": [
        "from pyspark.sql import SparkSession\n",
        "from pyspark.sql.functions import col, current_timestamp, lit, row_number\n",
        "from pyspark.sql.types import *\n",
        "from pyspark.sql.window import Window\n",
        "\n",
        "# Inicia sessão Spark\n",
        "spark = SparkSession.builder.appName(\"SCD_Type2_Merge\").getOrCreate()\n",
        "\n",
        "# Histórico atual\n",
        "historico_data = [\n",
        "    (1, \"Fornecedor A\", \"12345678000195\", \"Ativo\", \"2023-01-01\", None, True),\n",
        "    (2, \"Fornecedor B\", \"98765432000196\", \"Ativo\", \"2023-01-01\", None, True),\n",
        "    (3, \"Fornecedor C\", \"12345678007808\", \"Ativo\", \"2023-01-01\", None, True)\n",
        "]\n",
        "historico_schema = StructType([\n",
        "    StructField(\"id\", IntegerType()),\n",
        "    StructField(\"Fornecedor\", StringType()),\n",
        "    StructField(\"CNPJ\", StringType()),\n",
        "    StructField(\"Status\", StringType()),\n",
        "    StructField(\"Data_Inicio\", StringType()),\n",
        "    StructField(\"Data_Fim\", StringType()),\n",
        "    StructField(\"Ultimo_Registro\", BooleanType())\n",
        "])\n",
        "historico_df = spark.createDataFrame(historico_data, schema=historico_schema)\n",
        "\n",
        "# Novos dados\n",
        "novos_data = [\n",
        "    (1, \"Fornecedor A\", \"12345678000195\", \"Inativo\"),\n",
        "    (2, \"Fornecedor B\", \"98765432000196\", \"Ativo\"),\n",
        "    (4, \"Fornecedor D\", \"11111111000111\", \"Ativo\")\n",
        "]\n",
        "novos_schema = StructType([\n",
        "    StructField(\"id\", IntegerType()),\n",
        "    StructField(\"Fornecedor\", StringType()),\n",
        "    StructField(\"CNPJ\", StringType()),\n",
        "    StructField(\"Status\", StringType())\n",
        "])\n",
        "novos_df = spark.createDataFrame(novos_data, schema=novos_schema)\n",
        "\n",
        "# Condição para identificar mudanças\n",
        "join_cond = (historico_df[\"CNPJ\"] == novos_df[\"CNPJ\"]) & \\\n",
        "            (historico_df[\"id\"] == novos_df[\"id\"]) & \\\n",
        "            (historico_df[\"Fornecedor\"] == novos_df[\"Fornecedor\"]) & \\\n",
        "            (novos_df[\"Status\"] == \"Inativo\")\n",
        "\n",
        "\n",
        "# Registros alterados\n",
        "alterados_df = historico_df.join(novos_df, join_cond) \\\n",
        "    .filter(historico_df.Ultimo_Registro == True) \\\n",
        "    .select(historico_df[\"*\"], novos_df[\"Status\"].alias(\"Novo_Status\"))\n",
        "\n",
        "# Atualiza o antigo como inativo com Data_Fim\n",
        "historico_atualizado_df = alterados_df.withColumn(\"Ultimo_Registro\", lit(False)) \\\n",
        "    .withColumn(\"Data_Fim\", current_timestamp()) \\\n",
        "    .drop(\"Novo_Status\")\n",
        "\n",
        "# Novo registro com status atualizado\n",
        "novos_registros_df = alterados_df.select(\n",
        "    col(\"id\"),\n",
        "    col(\"Fornecedor\"),\n",
        "    col(\"CNPJ\"),\n",
        "    col(\"Novo_Status\").alias(\"Status\"),\n",
        "    current_timestamp().alias(\"Data_Inicio\"),\n",
        "    lit(None).cast(StringType()).alias(\"Data_Fim\"),\n",
        "    lit(True).alias(\"Ultimo_Registro\")\n",
        ")\n",
        "\n",
        "# Inalterados\n",
        "inalterados_df = historico_df.join(novos_df, historico_df[\"CNPJ\"] == novos_df[\"CNPJ\"], \"left_anti\")\n",
        "\n",
        "# Novos que não existiam\n",
        "novos_inseridos_df = novos_df.join(historico_df, novos_df[\"CNPJ\"] == historico_df[\"CNPJ\"], \"left_anti\") \\\n",
        "    .withColumn(\"Data_Inicio\", current_timestamp()) \\\n",
        "    .withColumn(\"Data_Fim\", lit(None).cast(StringType())) \\\n",
        "    .withColumn(\"Ultimo_Registro\", lit(True))\n",
        "\n",
        "# União final\n",
        "resultado_df = historico_atualizado_df.union(novos_registros_df) \\\n",
        "    .union(inalterados_df) \\\n",
        "    .union(novos_inseridos_df)\n",
        "\n",
        "# Ordena por versão usando row_number\n",
        "janela = Window.partitionBy(\"CNPJ\").orderBy(\"Data_Inicio\")\n",
        "resultado_final_df = resultado_df.withColumn(\"Ordem_Registro\", row_number().over(janela))\n",
        "\n",
        "# Exibe resultado\n",
        "resultado_final_df.orderBy(\"CNPJ\", \"Ordem_Registro\").show(truncate=False)\n"
      ],
      "metadata": {
        "colab": {
          "base_uri": "https://localhost:8080/"
        },
        "id": "CuhM0t2IGyro",
        "outputId": "207cb957-1a25-49f5-afcf-f10cb4304801"
      },
      "execution_count": null,
      "outputs": [
        {
          "output_type": "stream",
          "name": "stdout",
          "text": [
            "+---+------------+--------------+-------+--------------------------+--------------------------+---------------+--------------+\n",
            "|id |Fornecedor  |CNPJ          |Status |Data_Inicio               |Data_Fim                  |Ultimo_Registro|Ordem_Registro|\n",
            "+---+------------+--------------+-------+--------------------------+--------------------------+---------------+--------------+\n",
            "|4  |Fornecedor D|11111111000111|Ativo  |2025-05-04 12:49:45.958588|NULL                      |true           |1             |\n",
            "|1  |Fornecedor A|12345678000195|Ativo  |2023-01-01                |2025-05-04 12:49:45.958588|false          |1             |\n",
            "|1  |Fornecedor A|12345678000195|Inativo|2025-05-04 12:49:45.958588|NULL                      |true           |2             |\n",
            "|3  |Fornecedor C|12345678007808|Ativo  |2023-01-01                |NULL                      |true           |1             |\n",
            "+---+------------+--------------+-------+--------------------------+--------------------------+---------------+--------------+\n",
            "\n"
          ]
        }
      ]
    },
    {
      "source": [
        "ativos = resultado_df.filter(resultado_df[\"Status\"] == \"Ativo\")\n",
        "ativos.show()"
      ],
      "cell_type": "code",
      "metadata": {
        "colab": {
          "base_uri": "https://localhost:8080/"
        },
        "id": "ZXnESTTkJqj6",
        "outputId": "f0c397af-e2e7-4edf-e8e4-2ae62054e039"
      },
      "execution_count": null,
      "outputs": [
        {
          "output_type": "stream",
          "name": "stdout",
          "text": [
            "+---+------------+--------------+------+--------------------+--------------------+---------------+\n",
            "| id|  Fornecedor|          CNPJ|Status|         Data_Inicio|            Data_Fim|Ultimo_Registro|\n",
            "+---+------------+--------------+------+--------------------+--------------------+---------------+\n",
            "|  1|Fornecedor A|12345678000195| Ativo|          2023-01-01|2025-05-04 12:02:...|          false|\n",
            "|  3|Fornecedor C|12345678007808| Ativo|          2023-01-01|                NULL|           true|\n",
            "|  4|Fornecedor D|11111111000111| Ativo|2025-05-04 12:02:...|                NULL|           true|\n",
            "+---+------------+--------------+------+--------------------+--------------------+---------------+\n",
            "\n"
          ]
        }
      ]
    },
    {
      "cell_type": "code",
      "source": [
        "from pyspark.sql import SparkSession\n",
        "from pyspark.sql.functions import col, current_timestamp, lit, row_number\n",
        "from pyspark.sql.window import Window\n",
        "from pyspark.sql.types import *\n",
        "\n",
        "# Inicializa sessão Spark\n",
        "spark = SparkSession.builder.appName(\"SCD_Type2_Complete\").getOrCreate()\n",
        "\n",
        "# Dados do histórico atual\n",
        "historico_data = [\n",
        "    (1, \"Fornecedor A\", \"12345678000195\", \"Ativo\", \"2023-01-01\", None, True, 1),\n",
        "    (2, \"Fornecedor B\", \"98765432000196\", \"Ativo\", \"2023-01-01\", None, True, 1),\n",
        "    (3, \"Fornecedor C\", \"12345678007808\", \"Ativo\", \"2023-01-01\", None, True, 1)\n",
        "]\n",
        "\n",
        "historico_schema = StructType([\n",
        "    StructField(\"id\", IntegerType()),\n",
        "    StructField(\"Fornecedor\", StringType()),\n",
        "    StructField(\"CNPJ\", StringType()),\n",
        "    StructField(\"Status\", StringType()),\n",
        "    StructField(\"Data_Inicio\", StringType()),\n",
        "    StructField(\"Data_Fim\", StringType()),\n",
        "    StructField(\"Ultimo_Registro\", BooleanType()),\n",
        "    StructField(\"Ordem_Registro\", IntegerType())\n",
        "])\n",
        "\n",
        "historico_df = spark.createDataFrame(historico_data, schema=historico_schema)\n",
        "\n",
        "# Novos dados do sistema transacional\n",
        "novos_data = [\n",
        "    (1, \"Fornecedor A\", \"12345678000195\", \"Inativo\"),  # Mudou\n",
        "    (2, \"Fornecedor B\", \"98765432000196\", \"Ativo\"),    # Igual\n",
        "    (4, \"Fornecedor D\", \"11111111000111\", \"Ativo\")     # Novo\n",
        "]\n",
        "\n",
        "novos_schema = StructType([\n",
        "    StructField(\"id\", IntegerType()),\n",
        "    StructField(\"Fornecedor\", StringType()),\n",
        "    StructField(\"CNPJ\", StringType()),\n",
        "    StructField(\"Status\", StringType())\n",
        "])\n",
        "\n",
        "novos_df = spark.createDataFrame(novos_data, schema=novos_schema)\n",
        "\n",
        "# Junta históricos com os novos dados, mantendo apenas registros atuais\n",
        "join_keys = [\"CNPJ\", \"Fornecedor\",\"id\"]\n",
        "join_df = historico_df.filter(col(\"Ultimo_Registro\") == True) \\\n",
        "    .join(novos_df, join_keys, \"inner\") \\\n",
        "    .select(\n",
        "        historico_df[\"*\"],\n",
        "        novos_df[\"Status\"].alias(\"Novo_Status\")\n",
        "    )\n",
        "\n",
        "# Fecha os registros anteriores\n",
        "historico_atualizado_df = join_df.withColumn(\"Ultimo_Registro\", lit(False)) \\\n",
        "    .withColumn(\"Data_Fim\", current_timestamp()) \\\n",
        "    .drop(\"Novo_Status\")\n",
        "\n",
        "# Cria novos registros (mesmo com status igual)\n",
        "novos_registros_df = join_df.select(\n",
        "    col(\"id\"),\n",
        "    col(\"Fornecedor\"),\n",
        "    col(\"CNPJ\"),\n",
        "    col(\"Novo_Status\").alias(\"Status\"),\n",
        "    current_timestamp().alias(\"Data_Inicio\"),\n",
        "    lit(None).cast(StringType()).alias(\"Data_Fim\"),\n",
        "    lit(True).alias(\"Ultimo_Registro\")\n",
        ")\n",
        "\n",
        "# Identifica a ordem do novo registro (versão +1 por CNPJ)\n",
        "window_spec = Window.partitionBy(\"CNPJ\").orderBy(\"Data_Inicio\")\n",
        "novos_registros_df = novos_registros_df.withColumn(\"Ordem_Registro\", row_number().over(window_spec) + 1)\n",
        "\n",
        "# Atualiza o histórico (sem sobrescrever os registros antigos)\n",
        "historico_sem_atuais_df = historico_df.filter(col(\"Ultimo_Registro\") == False)\n",
        "\n",
        "# Registros novos (CNPJ que ainda não existem no histórico)\n",
        "novos_inseridos_df = novos_df.join(historico_df, join_keys, \"left_anti\") \\\n",
        "    .withColumn(\"Data_Inicio\", current_timestamp()) \\\n",
        "    .withColumn(\"Data_Fim\", lit(None).cast(StringType())) \\\n",
        "    .withColumn(\"Ultimo_Registro\", lit(True)) \\\n",
        "    .withColumn(\"Ordem_Registro\", lit(1))\n",
        "\n",
        "# Resultado final com histórico completo\n",
        "resultado_final_df = historico_sem_atuais_df.unionByName(historico_atualizado_df) \\\n",
        "    .unionByName(novos_registros_df) \\\n",
        "    .unionByName(novos_inseridos_df)\n",
        "\n",
        "# Exibe o resultado ordenado\n",
        "resultado_final_df.orderBy(\"CNPJ\", \"Ordem_Registro\").show(truncate=False)\n"
      ],
      "metadata": {
        "colab": {
          "base_uri": "https://localhost:8080/"
        },
        "id": "rhq3x9kIMMz4",
        "outputId": "297b1078-ade1-4b26-a5e7-a2721bd4f11f"
      },
      "execution_count": null,
      "outputs": [
        {
          "output_type": "stream",
          "name": "stdout",
          "text": [
            "+---+------------+--------------+-------+-------------------------+-------------------------+---------------+--------------+\n",
            "|id |Fornecedor  |CNPJ          |Status |Data_Inicio              |Data_Fim                 |Ultimo_Registro|Ordem_Registro|\n",
            "+---+------------+--------------+-------+-------------------------+-------------------------+---------------+--------------+\n",
            "|4  |Fornecedor D|11111111000111|Ativo  |2025-05-04 12:51:29.55273|NULL                     |true           |1             |\n",
            "|1  |Fornecedor A|12345678000195|Ativo  |2023-01-01               |2025-05-04 12:51:29.55273|false          |1             |\n",
            "|1  |Fornecedor A|12345678000195|Inativo|2025-05-04 12:51:29.55273|NULL                     |true           |2             |\n",
            "|2  |Fornecedor B|98765432000196|Ativo  |2023-01-01               |2025-05-04 12:51:29.55273|false          |1             |\n",
            "|2  |Fornecedor B|98765432000196|Ativo  |2025-05-04 12:51:29.55273|NULL                     |true           |2             |\n",
            "+---+------------+--------------+-------+-------------------------+-------------------------+---------------+--------------+\n",
            "\n"
          ]
        }
      ]
    },
    {
      "cell_type": "code",
      "source": [
        "from pyspark.sql import SparkSession\n",
        "from pyspark.sql.functions import col, current_timestamp, lit\n",
        "from pyspark.sql.types import *\n",
        "from datetime import datetime\n",
        "\n",
        "spark = SparkSession.builder.appName(\"SCD_Type2_OnlyInativos\").getOrCreate()\n",
        "\n",
        "# Histórico atual com tipo de data correto\n",
        "historico_data = [\n",
        "    (1, \"Fornecedor A\", \"12345678000195\", \"Ativo\", datetime(2023, 1, 1), None, True, 1),\n",
        "    (2, \"Fornecedor B\", \"98765432000196\", \"Ativo\", datetime(2023, 1, 1), None, True, 1),\n",
        "    (3, \"Fornecedor C\", \"12345678007808\", \"Ativo\", datetime(2023, 1, 1), None, True, 1)\n",
        "]\n",
        "historico_schema = StructType([\n",
        "    StructField(\"id\", IntegerType()),\n",
        "    StructField(\"Fornecedor\", StringType()),\n",
        "    StructField(\"CNPJ\", StringType()),\n",
        "    StructField(\"Status\", StringType()),\n",
        "    StructField(\"Data_Inicio\", TimestampType()),\n",
        "    StructField(\"Data_Fim\", TimestampType()),\n",
        "    StructField(\"Ultimo_Registro\", BooleanType()),\n",
        "    StructField(\"Ordem_Registro\", IntegerType())\n",
        "])\n",
        "historico_df = spark.createDataFrame(historico_data, historico_schema)\n",
        "\n",
        "# Novos dados transacionais\n",
        "novos_data = [\n",
        "    (1, \"Fornecedor A\", \"12345678000195\", \"Inativo\"),  # Mudou\n",
        "    (2, \"Fornecedor B\", \"98765432000196\", \"Ativo\"),    # Igual\n",
        "    (4, \"Fornecedor D\", \"11111111000111\", \"Ativo\")     # Novo\n",
        "]\n",
        "novos_schema = StructType([\n",
        "    StructField(\"id\", IntegerType()),\n",
        "    StructField(\"Fornecedor\", StringType()),\n",
        "    StructField(\"CNPJ\", StringType()),\n",
        "    StructField(\"Status\", StringType())\n",
        "])\n",
        "novos_df = spark.createDataFrame(novos_data, novos_schema)\n",
        "\n",
        "# Filtra registros que mudaram para Inativo\n",
        "join_keys = [\"CNPJ\", \"Fornecedor\"]\n",
        "inativos_df = historico_df.filter(col(\"Ultimo_Registro\") == True) \\\n",
        "    .join(novos_df.filter(col(\"Status\") == \"Inativo\"), join_keys, \"inner\") \\\n",
        "    .filter(historico_df.Status != \"Inativo\") \\\n",
        "    .select(\n",
        "        historico_df[\"*\"],\n",
        "        novos_df[\"Status\"].alias(\"Novo_Status\")\n",
        "    )\n",
        "\n",
        "# Atualiza registros antigos (fecha validade)\n",
        "fechados_df = inativos_df.withColumn(\"Ultimo_Registro\", lit(False)) \\\n",
        "    .withColumn(\"Data_Fim\", current_timestamp()) \\\n",
        "    .drop(\"Novo_Status\")\n",
        "\n",
        "# Cria novo registro com status Inativo\n",
        "novos_inativos_df = inativos_df.select(\n",
        "    col(\"id\"),\n",
        "    col(\"Fornecedor\"),\n",
        "    col(\"CNPJ\"),\n",
        "    col(\"Novo_Status\").alias(\"Status\"),\n",
        "    current_timestamp().alias(\"Data_Inicio\"),\n",
        "    lit(None).cast(TimestampType()).alias(\"Data_Fim\"),\n",
        "    lit(True).alias(\"Ultimo_Registro\"),\n",
        "    (col(\"Ordem_Registro\") + 1).alias(\"Ordem_Registro\")\n",
        ")\n",
        "\n",
        "# Registros que não mudaram\n",
        "nao_alterados_df = historico_df.join(fechados_df, [\"id\", \"CNPJ\", \"Fornecedor\"], \"left_anti\")\n",
        "\n",
        "# Resultado final\n",
        "resultado_df = nao_alterados_df.unionByName(fechados_df).unionByName(novos_inativos_df)\n",
        "\n",
        "# Exibe resultado\n",
        "resultado_df.orderBy(\"CNPJ\", \"Ordem_Registro\").show(truncate=False)\n"
      ],
      "metadata": {
        "colab": {
          "base_uri": "https://localhost:8080/"
        },
        "id": "egbDI5hjMmvk",
        "outputId": "037f8f69-defe-479c-dd65-885cd7a8eb8c"
      },
      "execution_count": null,
      "outputs": [
        {
          "output_type": "stream",
          "name": "stdout",
          "text": [
            "+---+--------------+------------+-------+--------------------------+--------------------------+---------------+--------------+\n",
            "|id |CNPJ          |Fornecedor  |Status |Data_Inicio               |Data_Fim                  |Ultimo_Registro|Ordem_Registro|\n",
            "+---+--------------+------------+-------+--------------------------+--------------------------+---------------+--------------+\n",
            "|1  |12345678000195|Fornecedor A|Ativo  |2023-01-01 00:00:00       |2025-05-04 13:00:02.419764|false          |1             |\n",
            "|1  |12345678000195|Fornecedor A|Inativo|2025-05-04 13:00:02.419764|NULL                      |true           |2             |\n",
            "|3  |12345678007808|Fornecedor C|Ativo  |2023-01-01 00:00:00       |NULL                      |true           |1             |\n",
            "|2  |98765432000196|Fornecedor B|Ativo  |2023-01-01 00:00:00       |NULL                      |true           |1             |\n",
            "+---+--------------+------------+-------+--------------------------+--------------------------+---------------+--------------+\n",
            "\n"
          ]
        }
      ]
    },
    {
      "cell_type": "code",
      "source": [
        "from pyspark.sql import SparkSession\n",
        "from pyspark.sql.functions import col, current_timestamp, lit, when\n",
        "from pyspark.sql.types import *\n",
        "from datetime import datetime\n",
        "\n",
        "spark = SparkSession.builder.appName(\"SCD_Type2_OnlyInativos\").getOrCreate()\n",
        "\n",
        "# Histórico atual\n",
        "historico_data = [\n",
        "    (1, \"Fornecedor A\", \"12345678000195\", \"Ativo\", datetime(2023, 1, 1), None, True, 1),\n",
        "    (2, \"Fornecedor B\", \"98765432000196\", \"Ativo\", datetime(2023, 1, 1), None, True, 1),\n",
        "    (3, \"Fornecedor C\", \"12345678007808\", \"Ativo\", datetime(2023, 1, 1), None, True, 1)\n",
        "]\n",
        "historico_schema = StructType([\n",
        "    StructField(\"id\", IntegerType()),\n",
        "    StructField(\"Fornecedor\", StringType()),\n",
        "    StructField(\"CNPJ\", StringType()),\n",
        "    StructField(\"Status\", StringType()),\n",
        "    StructField(\"Data_Inicio\", TimestampType()),\n",
        "    StructField(\"Data_Fim\", TimestampType()),\n",
        "    StructField(\"Ultimo_Registro\", BooleanType()),\n",
        "    StructField(\"Ordem_Registro\", IntegerType())\n",
        "])\n",
        "historico_df = spark.createDataFrame(historico_data, historico_schema)\n",
        "\n",
        "# Novos dados transacionais\n",
        "novos_data = [\n",
        "    (1, \"Fornecedor A\", \"12345678000195\", \"Inativo\"),  # Mudou\n",
        "    (2, \"Fornecedor B\", \"98765432000196\", \"Ativo\"),    # Igual\n",
        "    (4, \"Fornecedor D\", \"11111111000111\", \"Ativo\")     # Novo\n",
        "]\n",
        "novos_schema = StructType([\n",
        "    StructField(\"id\", IntegerType()),\n",
        "    StructField(\"Fornecedor\", StringType()),\n",
        "    StructField(\"CNPJ\", StringType()),\n",
        "    StructField(\"Status\", StringType())\n",
        "])\n",
        "novos_df = spark.createDataFrame(novos_data, novos_schema)\n",
        "\n",
        "# Chaves de junção\n",
        "join_keys = [\"CNPJ\", \"Fornecedor\"]\n",
        "\n",
        "# 1. Identifica registros que mudaram para Inativo\n",
        "inativos_df = historico_df.filter(col(\"Ultimo_Registro\") == True) \\\n",
        "    .join(novos_df.filter(col(\"Status\") == \"Inativo\"), join_keys, \"inner\") \\\n",
        "    .filter(historico_df.Status != \"Inativo\") \\\n",
        "    .select(\n",
        "        historico_df[\"*\"],\n",
        "        novos_df[\"Status\"].alias(\"Novo_Status\")\n",
        "    )\n",
        "\n",
        "# 2. Atualiza registros antigos (marca como não último e define data fim)\n",
        "fechados_df = inativos_df.withColumn(\"Ultimo_Registro\", lit(False)) \\\n",
        "    .withColumn(\"Data_Fim\", current_timestamp()) \\\n",
        "    .drop(\"Novo_Status\")\n",
        "\n",
        "# 3. Cria novo registro com status Inativo (com Data_Fim preenchida)\n",
        "novos_inativos_df = inativos_df.select(\n",
        "    col(\"id\"),\n",
        "    col(\"Fornecedor\"),\n",
        "    col(\"CNPJ\"),\n",
        "    col(\"Novo_Status\").alias(\"Status\"),\n",
        "    current_timestamp().alias(\"Data_Inicio\"),\n",
        "    current_timestamp().alias(\"Data_Fim\"),\n",
        "    lit(True).alias(\"Ultimo_Registro\"),\n",
        "    (col(\"Ordem_Registro\") + 1).alias(\"Ordem_Registro\")\n",
        ")\n",
        "\n",
        "# 4. Identifica novos registros (não existem no histórico)\n",
        "novos_registros_df = novos_df.join(historico_df, join_keys, \"left_anti\") \\\n",
        "    .select(\n",
        "        col(\"id\"),\n",
        "        col(\"Fornecedor\"),\n",
        "        col(\"CNPJ\"),\n",
        "        col(\"Status\"),\n",
        "        current_timestamp().alias(\"Data_Inicio\"),\n",
        "        when(col(\"Status\") == \"Inativo\", current_timestamp())\n",
        "            .otherwise(lit(None).cast(TimestampType())).alias(\"Data_Fim\"),\n",
        "        lit(True).alias(\"Ultimo_Registro\"),\n",
        "        lit(1).alias(\"Ordem_Registro\")\n",
        "    )\n",
        "\n",
        "# 5. Registros que não foram alterados\n",
        "nao_alterados_df = historico_df.join(fechados_df, [\"id\", \"CNPJ\", \"Fornecedor\"], \"left_anti\")\n",
        "\n",
        "# 6. Resultado final\n",
        "resultado_df = nao_alterados_df.unionByName(fechados_df) \\\n",
        "    .unionByName(novos_inativos_df) \\\n",
        "    .unionByName(novos_registros_df)\n",
        "\n",
        "# 7. Exibe resultado\n",
        "resultado_df.orderBy(\"CNPJ\", \"Ordem_Registro\").show(truncate=False)\n"
      ],
      "metadata": {
        "colab": {
          "base_uri": "https://localhost:8080/"
        },
        "id": "L_9a82BpY_MN",
        "outputId": "ad84385f-b118-4b29-f791-afc4d2461712"
      },
      "execution_count": null,
      "outputs": [
        {
          "output_type": "stream",
          "name": "stdout",
          "text": [
            "+---+--------------+------------+-------+--------------------------+--------------------------+---------------+--------------+\n",
            "|id |CNPJ          |Fornecedor  |Status |Data_Inicio               |Data_Fim                  |Ultimo_Registro|Ordem_Registro|\n",
            "+---+--------------+------------+-------+--------------------------+--------------------------+---------------+--------------+\n",
            "|4  |11111111000111|Fornecedor D|Ativo  |2025-05-04 13:08:26.266851|NULL                      |true           |1             |\n",
            "|1  |12345678000195|Fornecedor A|Ativo  |2023-01-01 00:00:00       |2025-05-04 13:08:26.266851|false          |1             |\n",
            "|1  |12345678000195|Fornecedor A|Inativo|2025-05-04 13:08:26.266851|2025-05-04 13:08:26.266851|true           |2             |\n",
            "|3  |12345678007808|Fornecedor C|Ativo  |2023-01-01 00:00:00       |NULL                      |true           |1             |\n",
            "|2  |98765432000196|Fornecedor B|Ativo  |2023-01-01 00:00:00       |NULL                      |true           |1             |\n",
            "+---+--------------+------------+-------+--------------------------+--------------------------+---------------+--------------+\n",
            "\n"
          ]
        }
      ]
    },
    {
      "cell_type": "code",
      "source": [
        "from pyspark.sql import SparkSession\n",
        "from pyspark.sql.functions import col, current_timestamp, lit, when\n",
        "from pyspark.sql.types import *\n",
        "from datetime import datetime\n",
        "\n",
        "spark = SparkSession.builder.appName(\"SCD_Type2_OnlyInativos\").getOrCreate()\n",
        "\n",
        "# Histórico atual\n",
        "historico_data = [\n",
        "    (1, \"Fornecedor A\", \"12345678000195\", \"Ativo\", datetime(2023, 1, 1), None, True, 1),\n",
        "    (2, \"Fornecedor B\", \"98765432000196\", \"Ativo\", datetime(2023, 1, 1), None, True, 1),\n",
        "    (3, \"Fornecedor C\", \"12345678007808\", \"Ativo\", datetime(2023, 1, 1), None, True, 1)\n",
        "]\n",
        "historico_schema = StructType([\n",
        "    StructField(\"id\", IntegerType()),\n",
        "    StructField(\"Fornecedor\", StringType()),\n",
        "    StructField(\"CNPJ\", StringType()),\n",
        "    StructField(\"Status\", StringType()),\n",
        "    StructField(\"Data_Inicio\", TimestampType()),\n",
        "    StructField(\"Data_Fim\", TimestampType()),\n",
        "    StructField(\"Ultimo_Registro\", BooleanType()),\n",
        "    StructField(\"Ordem_Registro\", IntegerType())\n",
        "])\n",
        "historico_df = spark.createDataFrame(historico_data, historico_schema)\n",
        "\n",
        "# Novos dados transacionais\n",
        "novos_data = [\n",
        "    (1, \"Fornecedor A\", \"12345678000195\", \"Inativo\"),  # Mudou\n",
        "    (2, \"Fornecedor B\", \"98765432000196\", \"Ativo\"),    # Igual\n",
        "    (4, \"Fornecedor D\", \"11111111000111\", \"Ativo\")     # Novo\n",
        "]\n",
        "novos_schema = StructType([\n",
        "    StructField(\"id\", IntegerType()),\n",
        "    StructField(\"Fornecedor\", StringType()),\n",
        "    StructField(\"CNPJ\", StringType()),\n",
        "    StructField(\"Status\", StringType())\n",
        "])\n",
        "novos_df = spark.createDataFrame(novos_data, novos_schema)\n",
        "\n",
        "# Chaves para junção\n",
        "join_keys = [\"CNPJ\", \"Fornecedor\"]\n",
        "\n",
        "# 1. Identifica registros que mudaram para Inativo\n",
        "inativos_df = historico_df.filter(col(\"Ultimo_Registro\") == True) \\\n",
        "    .join(novos_df.filter(col(\"Status\") == \"Inativo\"), join_keys, \"inner\") \\\n",
        "    .filter(historico_df.Status != \"Inativo\") \\\n",
        "    .select(\n",
        "        historico_df[\"*\"],\n",
        "        novos_df[\"Status\"].alias(\"Novo_Status\")\n",
        "    )\n",
        "\n",
        "# 2. Fecha registros antigos com Data_Fim (somente se ficaram inativos)\n",
        "fechados_df = inativos_df.withColumn(\"Ultimo_Registro\", lit(False)) \\\n",
        "    .withColumn(\"Data_Fim\", current_timestamp()) \\\n",
        "    .drop(\"Novo_Status\")\n",
        "\n",
        "# 3. Novo registro para o mesmo CNPJ com status Inativo (Data_Fim preenchida)\n",
        "novos_inativos_df = inativos_df.select(\n",
        "    col(\"id\"),\n",
        "    col(\"Fornecedor\"),\n",
        "    col(\"CNPJ\"),\n",
        "    col(\"Novo_Status\").alias(\"Status\"),\n",
        "    current_timestamp().alias(\"Data_Inicio\"),\n",
        "    current_timestamp().alias(\"Data_Fim\"),\n",
        "    lit(True).alias(\"Ultimo_Registro\"),\n",
        "    (col(\"Ordem_Registro\") + 1).alias(\"Ordem_Registro\")\n",
        ")\n",
        "\n",
        "# 4. Novos registros (sem histórico anterior)\n",
        "novos_registros_df = novos_df.join(historico_df, join_keys, \"left_anti\") \\\n",
        "    .select(\n",
        "        col(\"id\"),\n",
        "        col(\"Fornecedor\"),\n",
        "        col(\"CNPJ\"),\n",
        "        col(\"Status\"),\n",
        "        current_timestamp().alias(\"Data_Inicio\"),\n",
        "        # ❗️ Aqui aplicamos sua regra: Data_Fim só se Status for Inativo\n",
        "        when(col(\"Status\") == \"Inativo\", current_timestamp())\n",
        "            .otherwise(lit(None).cast(TimestampType())).alias(\"Data_Fim\"),\n",
        "        lit(True).alias(\"Ultimo_Registro\"),\n",
        "        lit(1).alias(\"Ordem_Registro\")\n",
        "    )\n",
        "\n",
        "# 5. Registros que não foram alterados\n",
        "nao_alterados_df = historico_df.join(fechados_df, [\"id\", \"CNPJ\", \"Fornecedor\"], \"left_anti\")\n",
        "\n",
        "# 6. Resultado final\n",
        "resultado_df = nao_alterados_df.unionByName(fechados_df) \\\n",
        "    .unionByName(novos_inativos_df) \\\n",
        "    .unionByName(novos_registros_df)\n",
        "\n",
        "# 7. Exibe resultado\n",
        "resultado_df.orderBy(\"CNPJ\", \"Ordem_Registro\").show(truncate=False)\n"
      ],
      "metadata": {
        "colab": {
          "base_uri": "https://localhost:8080/"
        },
        "id": "sFZKArYCbASI",
        "outputId": "68af4a6c-354e-44da-f693-b550157149d4"
      },
      "execution_count": null,
      "outputs": [
        {
          "output_type": "stream",
          "name": "stdout",
          "text": [
            "+---+--------------+------------+-------+--------------------------+--------------------------+---------------+--------------+\n",
            "|id |CNPJ          |Fornecedor  |Status |Data_Inicio               |Data_Fim                  |Ultimo_Registro|Ordem_Registro|\n",
            "+---+--------------+------------+-------+--------------------------+--------------------------+---------------+--------------+\n",
            "|4  |11111111000111|Fornecedor D|Ativo  |2025-05-04 13:11:11.907948|NULL                      |true           |1             |\n",
            "|1  |12345678000195|Fornecedor A|Ativo  |2023-01-01 00:00:00       |2025-05-04 13:11:11.907948|false          |1             |\n",
            "|1  |12345678000195|Fornecedor A|Inativo|2025-05-04 13:11:11.907948|2025-05-04 13:11:11.907948|true           |2             |\n",
            "|3  |12345678007808|Fornecedor C|Ativo  |2023-01-01 00:00:00       |NULL                      |true           |1             |\n",
            "|2  |98765432000196|Fornecedor B|Ativo  |2023-01-01 00:00:00       |NULL                      |true           |1             |\n",
            "+---+--------------+------------+-------+--------------------------+--------------------------+---------------+--------------+\n",
            "\n"
          ]
        }
      ]
    }
  ]
}