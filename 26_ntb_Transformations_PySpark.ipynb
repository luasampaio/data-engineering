{
  "nbformat": 4,
  "nbformat_minor": 0,
  "metadata": {
    "colab": {
      "provenance": [],
      "authorship_tag": "ABX9TyM56n/E2888/c+0cz4f93/x",
      "include_colab_link": true
    },
    "kernelspec": {
      "name": "python3",
      "display_name": "Python 3"
    },
    "language_info": {
      "name": "python"
    }
  },
  "cells": [
    {
      "cell_type": "markdown",
      "metadata": {
        "id": "view-in-github",
        "colab_type": "text"
      },
      "source": [
        "<a href=\"https://colab.research.google.com/github/luasampaio/data-engineering/blob/main/26_ntb_Transformations_PySpark.ipynb\" target=\"_parent\"><img src=\"https://colab.research.google.com/assets/colab-badge.svg\" alt=\"Open In Colab\"/></a>"
      ]
    },
    {
      "cell_type": "markdown",
      "source": [
        "- Transformations with PySpark   - EM andamento\n",
        " - Luciana Sampaio\n",
        " - Analise Cartao Credito\n",
        "\n"
      ],
      "metadata": {
        "id": "Lt0ZZKHesgyr"
      }
    },
    {
      "cell_type": "code",
      "source": [
        "from pyspark.sql import SparkSession\n",
        "\n",
        "# Cria uma SparkSession\n",
        "spark = SparkSession.builder.appName(\"LoadCSVFromGoogleDrive\").getOrCreate()\n",
        "\n",
        "# Link direto para download do arquivo\n",
        "url = 'https://drive.google.com/uc?id=1rF29g_lhI6Yd9Kqcnj8-lHkJDRblQ4NI'\n",
        "\n",
        "# Baixar o arquivo localmente (opcional, caso o Spark não consiga carregar diretamente da URL)\n",
        "import requests\n",
        "\n",
        "response = requests.get(url)\n",
        "with open(\"data.csv\", \"wb\") as f:\n",
        "    f.write(response.content)\n",
        "\n",
        "# Carrega o arquivo CSV em um DataFrame do Spark\n",
        "df = spark.read.csv(\"data.csv\", header=True, inferSchema=True)\n",
        "\n",
        "# Mostra as primeiras linhas do DataFrame\n",
        "df.show()\n"
      ],
      "metadata": {
        "id": "6b2fva2sojRF",
        "colab": {
          "base_uri": "https://localhost:8080/"
        },
        "outputId": "bf02c228-9dd5-48e3-d971-c9a03041e0f3"
      },
      "execution_count": 8,
      "outputs": [
        {
          "output_type": "stream",
          "name": "stdout",
          "text": [
            "+---------------+--------+--------------------+-------------------+-------------+------------------+----------+----------------------+--------------------+-------------+---------------+-------------------+---+-------------------+----------+----------------+--------------------+--------------+-------------+--------------+-----+\n",
            "|checking_status|duration|      credit_history|            purpose|credit_amount|    savings_status|employment|installment_commitment|     personal_status|other_parties|residence_since| property_magnitude|age|other_payment_plans|   housing|existing_credits|                 job|num_dependents|own_telephone|foreign_worker|class|\n",
            "+---------------+--------+--------------------+-------------------+-------------+------------------+----------+----------------------+--------------------+-------------+---------------+-------------------+---+-------------------+----------+----------------+--------------------+--------------+-------------+--------------+-----+\n",
            "|             <0|       6|'critical/other e...|           radio/tv|         1169|'no known savings'|       >=7|                     4|       'male single'|         none|              4|      'real estate'| 67|               none|       own|               2|             skilled|             1|          yes|           yes| good|\n",
            "|       0<=X<200|      48|     'existing paid'|           radio/tv|         5951|              <100|    1<=X<4|                     2|'female div/dep/mar'|         none|              2|      'real estate'| 22|               none|       own|               1|             skilled|             1|         none|           yes|  bad|\n",
            "|  'no checking'|      12|'critical/other e...|          education|         2096|              <100|    4<=X<7|                     2|       'male single'|         none|              3|      'real estate'| 49|               none|       own|               1|'unskilled resident'|             2|         none|           yes| good|\n",
            "|             <0|      42|     'existing paid'|furniture/equipment|         7882|              <100|    4<=X<7|                     2|       'male single'|    guarantor|              4|   'life insurance'| 45|               none|'for free'|               1|             skilled|             2|         none|           yes| good|\n",
            "|             <0|      24|'delayed previously'|          'new car'|         4870|              <100|    1<=X<4|                     3|       'male single'|         none|              4|'no known property'| 53|               none|'for free'|               2|             skilled|             2|         none|           yes|  bad|\n",
            "|  'no checking'|      36|     'existing paid'|          education|         9055|'no known savings'|    1<=X<4|                     2|       'male single'|         none|              4|'no known property'| 35|               none|'for free'|               1|'unskilled resident'|             2|          yes|           yes| good|\n",
            "|  'no checking'|      24|     'existing paid'|furniture/equipment|         2835|       500<=X<1000|       >=7|                     3|       'male single'|         none|              4|   'life insurance'| 53|               none|       own|               1|             skilled|             1|         none|           yes| good|\n",
            "|       0<=X<200|      36|     'existing paid'|         'used car'|         6948|              <100|    1<=X<4|                     2|       'male single'|         none|              2|                car| 35|               none|      rent|               1|'high qualif/self...|             1|          yes|           yes| good|\n",
            "|  'no checking'|      12|     'existing paid'|           radio/tv|         3059|            >=1000|    4<=X<7|                     2|      'male div/sep'|         none|              4|      'real estate'| 61|               none|       own|               1|'unskilled resident'|             1|         none|           yes| good|\n",
            "|       0<=X<200|      30|'critical/other e...|          'new car'|         5234|              <100|unemployed|                     4|      'male mar/wid'|         none|              2|                car| 28|               none|       own|               2|'high qualif/self...|             1|         none|           yes|  bad|\n",
            "|       0<=X<200|      12|     'existing paid'|          'new car'|         1295|              <100|        <1|                     3|'female div/dep/mar'|         none|              1|                car| 25|               none|      rent|               1|             skilled|             1|         none|           yes|  bad|\n",
            "|             <0|      48|     'existing paid'|           business|         4308|              <100|        <1|                     3|'female div/dep/mar'|         none|              4|   'life insurance'| 24|               none|      rent|               1|             skilled|             1|         none|           yes|  bad|\n",
            "|       0<=X<200|      12|     'existing paid'|           radio/tv|         1567|              <100|    1<=X<4|                     1|'female div/dep/mar'|         none|              1|                car| 22|               none|       own|               1|             skilled|             1|          yes|           yes| good|\n",
            "|             <0|      24|'critical/other e...|          'new car'|         1199|              <100|       >=7|                     4|       'male single'|         none|              4|                car| 60|               none|       own|               2|'unskilled resident'|             1|         none|           yes|  bad|\n",
            "|             <0|      15|     'existing paid'|          'new car'|         1403|              <100|    1<=X<4|                     2|'female div/dep/mar'|         none|              4|                car| 28|               none|      rent|               1|             skilled|             1|         none|           yes| good|\n",
            "|             <0|      24|     'existing paid'|           radio/tv|         1282|        100<=X<500|    1<=X<4|                     4|'female div/dep/mar'|         none|              2|                car| 32|               none|       own|               1|'unskilled resident'|             1|         none|           yes|  bad|\n",
            "|  'no checking'|      24|'critical/other e...|           radio/tv|         2424|'no known savings'|       >=7|                     4|       'male single'|         none|              4|   'life insurance'| 53|               none|       own|               2|             skilled|             1|         none|           yes| good|\n",
            "|             <0|      30|'no credits/all p...|           business|         8072|'no known savings'|        <1|                     2|       'male single'|         none|              3|                car| 25|               bank|       own|               3|             skilled|             1|         none|           yes| good|\n",
            "|       0<=X<200|      24|     'existing paid'|         'used car'|        12579|              <100|       >=7|                     4|'female div/dep/mar'|         none|              2|'no known property'| 44|               none|'for free'|               1|'high qualif/self...|             1|          yes|           yes|  bad|\n",
            "|  'no checking'|      24|     'existing paid'|           radio/tv|         3430|       500<=X<1000|       >=7|                     3|       'male single'|         none|              2|                car| 31|               none|       own|               1|             skilled|             2|          yes|           yes| good|\n",
            "+---------------+--------+--------------------+-------------------+-------------+------------------+----------+----------------------+--------------------+-------------+---------------+-------------------+---+-------------------+----------+----------------+--------------------+--------------+-------------+--------------+-----+\n",
            "only showing top 20 rows\n",
            "\n"
          ]
        }
      ]
    },
    {
      "cell_type": "code",
      "source": [
        "df.printSchema()"
      ],
      "metadata": {
        "colab": {
          "base_uri": "https://localhost:8080/"
        },
        "id": "6Pnd95QGookA",
        "outputId": "29d92ffd-39ba-4d83-dc61-c8b6629be2a2"
      },
      "execution_count": 9,
      "outputs": [
        {
          "output_type": "stream",
          "name": "stdout",
          "text": [
            "root\n",
            " |-- checking_status: string (nullable = true)\n",
            " |-- duration: integer (nullable = true)\n",
            " |-- credit_history: string (nullable = true)\n",
            " |-- purpose: string (nullable = true)\n",
            " |-- credit_amount: integer (nullable = true)\n",
            " |-- savings_status: string (nullable = true)\n",
            " |-- employment: string (nullable = true)\n",
            " |-- installment_commitment: integer (nullable = true)\n",
            " |-- personal_status: string (nullable = true)\n",
            " |-- other_parties: string (nullable = true)\n",
            " |-- residence_since: integer (nullable = true)\n",
            " |-- property_magnitude: string (nullable = true)\n",
            " |-- age: integer (nullable = true)\n",
            " |-- other_payment_plans: string (nullable = true)\n",
            " |-- housing: string (nullable = true)\n",
            " |-- existing_credits: integer (nullable = true)\n",
            " |-- job: string (nullable = true)\n",
            " |-- num_dependents: integer (nullable = true)\n",
            " |-- own_telephone: string (nullable = true)\n",
            " |-- foreign_worker: string (nullable = true)\n",
            " |-- class: string (nullable = true)\n",
            "\n"
          ]
        }
      ]
    },
    {
      "source": [
        "\n",
        "df.orderBy(df['age'].desc()).show()"
      ],
      "cell_type": "code",
      "metadata": {
        "colab": {
          "base_uri": "https://localhost:8080/"
        },
        "id": "oKB65Bk1o2k7",
        "outputId": "28ded48b-7ff1-4bc9-f573-4646f099c716"
      },
      "execution_count": 11,
      "outputs": [
        {
          "output_type": "stream",
          "name": "stdout",
          "text": [
            "+---------------+--------+--------------------+----------+-------------+------------------+----------+----------------------+--------------------+--------------+---------------+-------------------+---+-------------------+----------+----------------+--------------------+--------------+-------------+--------------+-----+\n",
            "|checking_status|duration|      credit_history|   purpose|credit_amount|    savings_status|employment|installment_commitment|     personal_status| other_parties|residence_since| property_magnitude|age|other_payment_plans|   housing|existing_credits|                 job|num_dependents|own_telephone|foreign_worker|class|\n",
            "+---------------+--------+--------------------+----------+-------------+------------------+----------+----------------------+--------------------+--------------+---------------+-------------------+---+-------------------+----------+----------------+--------------------+--------------+-------------+--------------+-----+\n",
            "|             <0|      24|'critical/other e...|'used car'|         6615|              <100|unemployed|                     2|       'male single'|          none|              4|'no known property'| 75|               none|'for free'|               2|'high qualif/self...|             1|          yes|           yes| good|\n",
            "|             <0|       6|     'existing paid'| 'new car'|         1374|'no known savings'|unemployed|                     4|'female div/dep/mar'|          none|              3|   'life insurance'| 75|               none|       own|               1|'high qualif/self...|             1|          yes|           yes| good|\n",
            "|       0<=X<200|       9|          'all paid'|'used car'|         5129|              <100|       >=7|                     2|'female div/dep/mar'|          none|              4|'no known property'| 74|               bank|'for free'|               1|'high qualif/self...|             2|          yes|           yes|  bad|\n",
            "|  'no checking'|       5|     'existing paid'|  business|         3448|              <100|    4<=X<7|                     1|       'male single'|          none|              4|      'real estate'| 74|               none|       own|               1|'unskilled resident'|             1|         none|           yes| good|\n",
            "|  'no checking'|      24|'critical/other e...|  business|         4526|              <100|    1<=X<4|                     3|       'male single'|          none|              2|      'real estate'| 74|               none|       own|               1|'high qualif/self...|             1|          yes|           yes| good|\n",
            "|          >=200|       6|'critical/other e...| 'new car'|         1299|              <100|    1<=X<4|                     1|       'male single'|          none|              1|      'real estate'| 74|               none|       own|               3|'unemp/unskilled ...|             2|         none|            no| good|\n",
            "|       0<=X<200|      10|     'existing paid'| 'new car'|         7308|              <100|unemployed|                     2|       'male single'|          none|              4|'no known property'| 70|               bank|'for free'|               1|'high qualif/self...|             1|          yes|           yes| good|\n",
            "|       0<=X<200|      16|'critical/other e...| 'new car'|         1175|              <100|unemployed|                     2|       'male single'|          none|              3|                car| 68|               none|'for free'|               3|'unemp/unskilled ...|             1|          yes|           yes| good|\n",
            "|  'no checking'|      18|     'existing paid'| 'new car'|         6761|'no known savings'|    1<=X<4|                     2|       'male single'|          none|              4|                car| 68|               none|      rent|               2|             skilled|             1|         none|           yes|  bad|\n",
            "|             <0|       6|     'existing paid'| 'new car'|        14896|              <100|       >=7|                     1|       'male single'|          none|              4|'no known property'| 68|               bank|       own|               1|'high qualif/self...|             1|          yes|           yes|  bad|\n",
            "|             <0|       6|'critical/other e...|  radio/tv|         1169|'no known savings'|       >=7|                     4|       'male single'|          none|              4|      'real estate'| 67|               none|       own|               2|             skilled|             1|          yes|           yes| good|\n",
            "|       0<=X<200|       9|     'existing paid'| education|         1199|              <100|    4<=X<7|                     4|'female div/dep/mar'|          none|              4|   'life insurance'| 67|               none|       own|               2|'high qualif/self...|             1|          yes|           yes| good|\n",
            "|       0<=X<200|      18|     'existing paid'|   repairs|         3872|              <100|unemployed|                     2|'female div/dep/mar'|          none|              4|                car| 67|               none|       own|               1|             skilled|             1|          yes|           yes| good|\n",
            "|             <0|      12|'critical/other e...|'used car'|         1526|              <100|       >=7|                     4|       'male single'|          none|              4|'no known property'| 66|               none|'for free'|               2|'high qualif/self...|             1|         none|           yes| good|\n",
            "|       0<=X<200|      12|     'existing paid'|  radio/tv|          766|       500<=X<1000|    1<=X<4|                     4|       'male single'|          none|              3|      'real estate'| 66|               none|       own|               1|'unskilled resident'|             1|         none|           yes|  bad|\n",
            "|          >=200|      30|'delayed previously'|  business|         1908|              <100|       >=7|                     4|       'male single'|          none|              4|      'real estate'| 66|               none|       own|               1|'high qualif/self...|             1|          yes|           yes|  bad|\n",
            "|       0<=X<200|       9|     'existing paid'|  radio/tv|          790|       500<=X<1000|    1<=X<4|                     4|'female div/dep/mar'|          none|              3|      'real estate'| 66|               none|       own|               1|'unskilled resident'|             1|         none|           yes| good|\n",
            "|          >=200|      12|'critical/other e...| 'new car'|         1480|       500<=X<1000|unemployed|                     2|       'male single'|          none|              4|'no known property'| 66|               bank|'for free'|               3|'unemp/unskilled ...|             1|         none|           yes| good|\n",
            "|             <0|      21|'critical/other e...| 'new car'|          571|              <100|       >=7|                     4|       'male single'|          none|              4|      'real estate'| 65|               none|       own|               2|             skilled|             1|         none|           yes| good|\n",
            "|             <0|      42|'critical/other e...|   repairs|         3394|              <100|unemployed|                     4|       'male single'|'co applicant'|              4|                car| 65|               none|       own|               2|'unemp/unskilled ...|             1|         none|           yes| good|\n",
            "+---------------+--------+--------------------+----------+-------------+------------------+----------+----------------------+--------------------+--------------+---------------+-------------------+---+-------------------+----------+----------------+--------------------+--------------+-------------+--------------+-----+\n",
            "only showing top 20 rows\n",
            "\n"
          ]
        }
      ]
    },
    {
      "cell_type": "code",
      "source": [
        "print(df.dtypes)"
      ],
      "metadata": {
        "colab": {
          "base_uri": "https://localhost:8080/"
        },
        "id": "vJ22IoqWo44e",
        "outputId": "5c674a18-4469-4bab-e9c7-e4b7e7a66f56"
      },
      "execution_count": 12,
      "outputs": [
        {
          "output_type": "stream",
          "name": "stdout",
          "text": [
            "[('checking_status', 'string'), ('duration', 'int'), ('credit_history', 'string'), ('purpose', 'string'), ('credit_amount', 'int'), ('savings_status', 'string'), ('employment', 'string'), ('installment_commitment', 'int'), ('personal_status', 'string'), ('other_parties', 'string'), ('residence_since', 'int'), ('property_magnitude', 'string'), ('age', 'int'), ('other_payment_plans', 'string'), ('housing', 'string'), ('existing_credits', 'int'), ('job', 'string'), ('num_dependents', 'int'), ('own_telephone', 'string'), ('foreign_worker', 'string'), ('class', 'string')]\n"
          ]
        }
      ]
    },
    {
      "cell_type": "markdown",
      "source": [
        "Funcao para validar os dados nulos"
      ],
      "metadata": {
        "id": "85OoyhiySXQG"
      }
    },
    {
      "source": [
        "from pyspark.sql.functions import col, isnull, sum as _sum\n",
        "\n",
        "# verificando dados nulos\n",
        "for c in df.columns:  # Iterate over columns\n",
        "    null_count = df.select(_sum(isnull(col(c)).cast(\"int\")).alias(c)).collect()[0][0]\n",
        "    print(f\"Column {c}: {null_count} null values\")"
      ],
      "cell_type": "code",
      "metadata": {
        "colab": {
          "base_uri": "https://localhost:8080/"
        },
        "id": "R6iIwEvISN57",
        "outputId": "75977059-1eef-44dc-cf6f-f435b44e2ede"
      },
      "execution_count": 15,
      "outputs": [
        {
          "output_type": "stream",
          "name": "stdout",
          "text": [
            "Column checking_status: 0 null values\n",
            "Column duration: 0 null values\n",
            "Column credit_history: 0 null values\n",
            "Column purpose: 0 null values\n",
            "Column credit_amount: 0 null values\n",
            "Column savings_status: 0 null values\n",
            "Column employment: 0 null values\n",
            "Column installment_commitment: 0 null values\n",
            "Column personal_status: 0 null values\n",
            "Column other_parties: 0 null values\n",
            "Column residence_since: 0 null values\n",
            "Column property_magnitude: 0 null values\n",
            "Column age: 0 null values\n",
            "Column other_payment_plans: 0 null values\n",
            "Column housing: 0 null values\n",
            "Column existing_credits: 0 null values\n",
            "Column job: 0 null values\n",
            "Column num_dependents: 0 null values\n",
            "Column own_telephone: 0 null values\n",
            "Column foreign_worker: 0 null values\n",
            "Column class: 0 null values\n"
          ]
        }
      ]
    },
    {
      "cell_type": "code",
      "source": [
        "from pyspark.sql.functions import count\n",
        "\n",
        "\n",
        "result = df.select(count(\"class\")).collect()[0][0]\n",
        "\n",
        "print(f\"A soma da coluna 'class' é: {result}\")\n"
      ],
      "metadata": {
        "colab": {
          "base_uri": "https://localhost:8080/"
        },
        "id": "JzyiaSZ2SSOl",
        "outputId": "9f93f2b4-fa90-44e8-cecb-5d7a08e92e30"
      },
      "execution_count": 20,
      "outputs": [
        {
          "output_type": "stream",
          "name": "stdout",
          "text": [
            "A soma da coluna 'class' é: 1000\n"
          ]
        }
      ]
    },
    {
      "cell_type": "code",
      "source": [
        "df.count()"
      ],
      "metadata": {
        "colab": {
          "base_uri": "https://localhost:8080/"
        },
        "id": "GsnweUPtUX-m",
        "outputId": "bfb4650f-fb7a-45a2-f9e5-8e9b279f3e43"
      },
      "execution_count": 21,
      "outputs": [
        {
          "output_type": "execute_result",
          "data": {
            "text/plain": [
              "1000"
            ]
          },
          "metadata": {},
          "execution_count": 21
        }
      ]
    },
    {
      "cell_type": "markdown",
      "source": [
        "# Volumetria"
      ],
      "metadata": {
        "id": "cCl7OQFIVtug"
      }
    },
    {
      "cell_type": "code",
      "source": [
        "num_rows = df.count()\n",
        "num_cols = len(df.columns)\n",
        "\n",
        "print(\"Numero de linhas na tabela\", num_rows)\n",
        "print(\"Numero de colunas na tabela\", num_cols)"
      ],
      "metadata": {
        "colab": {
          "base_uri": "https://localhost:8080/"
        },
        "id": "PnDhs10UUasn",
        "outputId": "473ab634-66b5-4712-bdc2-f049c11e1940"
      },
      "execution_count": 22,
      "outputs": [
        {
          "output_type": "stream",
          "name": "stdout",
          "text": [
            "Numero de linhas na tabela 1000\n",
            "Numero de colunas na tabela 21\n"
          ]
        }
      ]
    },
    {
      "cell_type": "code",
      "source": [
        "# Drop rows with any null values\n",
        "df2 = df.dropna()\n",
        "# Show the updated DataFrame\n",
        "df2.show()"
      ],
      "metadata": {
        "colab": {
          "base_uri": "https://localhost:8080/"
        },
        "id": "XgKEpgd_V0CH",
        "outputId": "70836687-5c9e-4972-dc35-dfd319851aa7"
      },
      "execution_count": 24,
      "outputs": [
        {
          "output_type": "stream",
          "name": "stdout",
          "text": [
            "+---------------+--------+--------------------+-------------------+-------------+------------------+----------+----------------------+--------------------+-------------+---------------+-------------------+---+-------------------+----------+----------------+--------------------+--------------+-------------+--------------+-----+\n",
            "|checking_status|duration|      credit_history|            purpose|credit_amount|    savings_status|employment|installment_commitment|     personal_status|other_parties|residence_since| property_magnitude|age|other_payment_plans|   housing|existing_credits|                 job|num_dependents|own_telephone|foreign_worker|class|\n",
            "+---------------+--------+--------------------+-------------------+-------------+------------------+----------+----------------------+--------------------+-------------+---------------+-------------------+---+-------------------+----------+----------------+--------------------+--------------+-------------+--------------+-----+\n",
            "|             <0|       6|'critical/other e...|           radio/tv|         1169|'no known savings'|       >=7|                     4|       'male single'|         none|              4|      'real estate'| 67|               none|       own|               2|             skilled|             1|          yes|           yes| good|\n",
            "|       0<=X<200|      48|     'existing paid'|           radio/tv|         5951|              <100|    1<=X<4|                     2|'female div/dep/mar'|         none|              2|      'real estate'| 22|               none|       own|               1|             skilled|             1|         none|           yes|  bad|\n",
            "|  'no checking'|      12|'critical/other e...|          education|         2096|              <100|    4<=X<7|                     2|       'male single'|         none|              3|      'real estate'| 49|               none|       own|               1|'unskilled resident'|             2|         none|           yes| good|\n",
            "|             <0|      42|     'existing paid'|furniture/equipment|         7882|              <100|    4<=X<7|                     2|       'male single'|    guarantor|              4|   'life insurance'| 45|               none|'for free'|               1|             skilled|             2|         none|           yes| good|\n",
            "|             <0|      24|'delayed previously'|          'new car'|         4870|              <100|    1<=X<4|                     3|       'male single'|         none|              4|'no known property'| 53|               none|'for free'|               2|             skilled|             2|         none|           yes|  bad|\n",
            "|  'no checking'|      36|     'existing paid'|          education|         9055|'no known savings'|    1<=X<4|                     2|       'male single'|         none|              4|'no known property'| 35|               none|'for free'|               1|'unskilled resident'|             2|          yes|           yes| good|\n",
            "|  'no checking'|      24|     'existing paid'|furniture/equipment|         2835|       500<=X<1000|       >=7|                     3|       'male single'|         none|              4|   'life insurance'| 53|               none|       own|               1|             skilled|             1|         none|           yes| good|\n",
            "|       0<=X<200|      36|     'existing paid'|         'used car'|         6948|              <100|    1<=X<4|                     2|       'male single'|         none|              2|                car| 35|               none|      rent|               1|'high qualif/self...|             1|          yes|           yes| good|\n",
            "|  'no checking'|      12|     'existing paid'|           radio/tv|         3059|            >=1000|    4<=X<7|                     2|      'male div/sep'|         none|              4|      'real estate'| 61|               none|       own|               1|'unskilled resident'|             1|         none|           yes| good|\n",
            "|       0<=X<200|      30|'critical/other e...|          'new car'|         5234|              <100|unemployed|                     4|      'male mar/wid'|         none|              2|                car| 28|               none|       own|               2|'high qualif/self...|             1|         none|           yes|  bad|\n",
            "|       0<=X<200|      12|     'existing paid'|          'new car'|         1295|              <100|        <1|                     3|'female div/dep/mar'|         none|              1|                car| 25|               none|      rent|               1|             skilled|             1|         none|           yes|  bad|\n",
            "|             <0|      48|     'existing paid'|           business|         4308|              <100|        <1|                     3|'female div/dep/mar'|         none|              4|   'life insurance'| 24|               none|      rent|               1|             skilled|             1|         none|           yes|  bad|\n",
            "|       0<=X<200|      12|     'existing paid'|           radio/tv|         1567|              <100|    1<=X<4|                     1|'female div/dep/mar'|         none|              1|                car| 22|               none|       own|               1|             skilled|             1|          yes|           yes| good|\n",
            "|             <0|      24|'critical/other e...|          'new car'|         1199|              <100|       >=7|                     4|       'male single'|         none|              4|                car| 60|               none|       own|               2|'unskilled resident'|             1|         none|           yes|  bad|\n",
            "|             <0|      15|     'existing paid'|          'new car'|         1403|              <100|    1<=X<4|                     2|'female div/dep/mar'|         none|              4|                car| 28|               none|      rent|               1|             skilled|             1|         none|           yes| good|\n",
            "|             <0|      24|     'existing paid'|           radio/tv|         1282|        100<=X<500|    1<=X<4|                     4|'female div/dep/mar'|         none|              2|                car| 32|               none|       own|               1|'unskilled resident'|             1|         none|           yes|  bad|\n",
            "|  'no checking'|      24|'critical/other e...|           radio/tv|         2424|'no known savings'|       >=7|                     4|       'male single'|         none|              4|   'life insurance'| 53|               none|       own|               2|             skilled|             1|         none|           yes| good|\n",
            "|             <0|      30|'no credits/all p...|           business|         8072|'no known savings'|        <1|                     2|       'male single'|         none|              3|                car| 25|               bank|       own|               3|             skilled|             1|         none|           yes| good|\n",
            "|       0<=X<200|      24|     'existing paid'|         'used car'|        12579|              <100|       >=7|                     4|'female div/dep/mar'|         none|              2|'no known property'| 44|               none|'for free'|               1|'high qualif/self...|             1|          yes|           yes|  bad|\n",
            "|  'no checking'|      24|     'existing paid'|           radio/tv|         3430|       500<=X<1000|       >=7|                     3|       'male single'|         none|              2|                car| 31|               none|       own|               1|             skilled|             2|          yes|           yes| good|\n",
            "+---------------+--------+--------------------+-------------------+-------------+------------------+----------+----------------------+--------------------+-------------+---------------+-------------------+---+-------------------+----------+----------------+--------------------+--------------+-------------+--------------+-----+\n",
            "only showing top 20 rows\n",
            "\n"
          ]
        }
      ]
    },
    {
      "cell_type": "code",
      "source": [
        "df2.count()"
      ],
      "metadata": {
        "colab": {
          "base_uri": "https://localhost:8080/"
        },
        "id": "CKiiv5_7WZtp",
        "outputId": "d71a146d-bd04-4cb1-feed-5d7ac61c167d"
      },
      "execution_count": 25,
      "outputs": [
        {
          "output_type": "execute_result",
          "data": {
            "text/plain": [
              "1000"
            ]
          },
          "metadata": {},
          "execution_count": 25
        }
      ]
    },
    {
      "cell_type": "markdown",
      "source": [
        "# Idade Média"
      ],
      "metadata": {
        "id": "QukkvT-HW9Iq"
      }
    },
    {
      "cell_type": "code",
      "source": [
        "from pyspark.sql.functions import avg, col, when\n",
        "avg_salary = df.select(avg(\"age\")).collect()[0][0]\n",
        "\n",
        "print(f\"A Idade Média é: {avg_salary}\")"
      ],
      "metadata": {
        "colab": {
          "base_uri": "https://localhost:8080/"
        },
        "id": "4KCddYzsWb45",
        "outputId": "92b3bb35-1e8a-4324-9f1c-755d3c9d5700"
      },
      "execution_count": 28,
      "outputs": [
        {
          "output_type": "stream",
          "name": "stdout",
          "text": [
            "A Idade Média é: 35.546\n"
          ]
        }
      ]
    },
    {
      "cell_type": "markdown",
      "source": [
        "# Criando Categoria de Idade\n"
      ],
      "metadata": {
        "id": "tkF6AQDsXSxv"
      }
    },
    {
      "cell_type": "code",
      "source": [
        "from pyspark.sql.functions import udf\n",
        "from pyspark.sql.types import StringType\n",
        "\n",
        "# Define a Python function\n",
        "def age_category(age):\n",
        "    if age < 18:\n",
        "        return \"Child\"\n",
        "    elif age < 65:\n",
        "        return \"Adult\"\n",
        "    else:\n",
        "        return \"Senior\"\n",
        "\n",
        "# Converte a função em uma UDF\n",
        "age_category_udf = udf(age_category, StringType())\n",
        "\n",
        "# Aplica a UDF ao DataFrame\n",
        "df = df.withColumn(\"age_category\", age_category_udf(df[\"age\"]))\n",
        "\n",
        "# Mostra o DataFrame atualizado\n",
        "df.show()\n"
      ],
      "metadata": {
        "colab": {
          "base_uri": "https://localhost:8080/"
        },
        "id": "q_7CBTjXWzHt",
        "outputId": "a3b8f212-962a-4899-96de-7b817e11e52c"
      },
      "execution_count": 29,
      "outputs": [
        {
          "output_type": "stream",
          "name": "stdout",
          "text": [
            "+---------------+--------+--------------------+-------------------+-------------+------------------+----------+----------------------+--------------------+-------------+---------------+-------------------+---+-------------------+----------+----------------+--------------------+--------------+-------------+--------------+-----+------------+\n",
            "|checking_status|duration|      credit_history|            purpose|credit_amount|    savings_status|employment|installment_commitment|     personal_status|other_parties|residence_since| property_magnitude|age|other_payment_plans|   housing|existing_credits|                 job|num_dependents|own_telephone|foreign_worker|class|age_category|\n",
            "+---------------+--------+--------------------+-------------------+-------------+------------------+----------+----------------------+--------------------+-------------+---------------+-------------------+---+-------------------+----------+----------------+--------------------+--------------+-------------+--------------+-----+------------+\n",
            "|             <0|       6|'critical/other e...|           radio/tv|         1169|'no known savings'|       >=7|                     4|       'male single'|         none|              4|      'real estate'| 67|               none|       own|               2|             skilled|             1|          yes|           yes| good|      Senior|\n",
            "|       0<=X<200|      48|     'existing paid'|           radio/tv|         5951|              <100|    1<=X<4|                     2|'female div/dep/mar'|         none|              2|      'real estate'| 22|               none|       own|               1|             skilled|             1|         none|           yes|  bad|       Adult|\n",
            "|  'no checking'|      12|'critical/other e...|          education|         2096|              <100|    4<=X<7|                     2|       'male single'|         none|              3|      'real estate'| 49|               none|       own|               1|'unskilled resident'|             2|         none|           yes| good|       Adult|\n",
            "|             <0|      42|     'existing paid'|furniture/equipment|         7882|              <100|    4<=X<7|                     2|       'male single'|    guarantor|              4|   'life insurance'| 45|               none|'for free'|               1|             skilled|             2|         none|           yes| good|       Adult|\n",
            "|             <0|      24|'delayed previously'|          'new car'|         4870|              <100|    1<=X<4|                     3|       'male single'|         none|              4|'no known property'| 53|               none|'for free'|               2|             skilled|             2|         none|           yes|  bad|       Adult|\n",
            "|  'no checking'|      36|     'existing paid'|          education|         9055|'no known savings'|    1<=X<4|                     2|       'male single'|         none|              4|'no known property'| 35|               none|'for free'|               1|'unskilled resident'|             2|          yes|           yes| good|       Adult|\n",
            "|  'no checking'|      24|     'existing paid'|furniture/equipment|         2835|       500<=X<1000|       >=7|                     3|       'male single'|         none|              4|   'life insurance'| 53|               none|       own|               1|             skilled|             1|         none|           yes| good|       Adult|\n",
            "|       0<=X<200|      36|     'existing paid'|         'used car'|         6948|              <100|    1<=X<4|                     2|       'male single'|         none|              2|                car| 35|               none|      rent|               1|'high qualif/self...|             1|          yes|           yes| good|       Adult|\n",
            "|  'no checking'|      12|     'existing paid'|           radio/tv|         3059|            >=1000|    4<=X<7|                     2|      'male div/sep'|         none|              4|      'real estate'| 61|               none|       own|               1|'unskilled resident'|             1|         none|           yes| good|       Adult|\n",
            "|       0<=X<200|      30|'critical/other e...|          'new car'|         5234|              <100|unemployed|                     4|      'male mar/wid'|         none|              2|                car| 28|               none|       own|               2|'high qualif/self...|             1|         none|           yes|  bad|       Adult|\n",
            "|       0<=X<200|      12|     'existing paid'|          'new car'|         1295|              <100|        <1|                     3|'female div/dep/mar'|         none|              1|                car| 25|               none|      rent|               1|             skilled|             1|         none|           yes|  bad|       Adult|\n",
            "|             <0|      48|     'existing paid'|           business|         4308|              <100|        <1|                     3|'female div/dep/mar'|         none|              4|   'life insurance'| 24|               none|      rent|               1|             skilled|             1|         none|           yes|  bad|       Adult|\n",
            "|       0<=X<200|      12|     'existing paid'|           radio/tv|         1567|              <100|    1<=X<4|                     1|'female div/dep/mar'|         none|              1|                car| 22|               none|       own|               1|             skilled|             1|          yes|           yes| good|       Adult|\n",
            "|             <0|      24|'critical/other e...|          'new car'|         1199|              <100|       >=7|                     4|       'male single'|         none|              4|                car| 60|               none|       own|               2|'unskilled resident'|             1|         none|           yes|  bad|       Adult|\n",
            "|             <0|      15|     'existing paid'|          'new car'|         1403|              <100|    1<=X<4|                     2|'female div/dep/mar'|         none|              4|                car| 28|               none|      rent|               1|             skilled|             1|         none|           yes| good|       Adult|\n",
            "|             <0|      24|     'existing paid'|           radio/tv|         1282|        100<=X<500|    1<=X<4|                     4|'female div/dep/mar'|         none|              2|                car| 32|               none|       own|               1|'unskilled resident'|             1|         none|           yes|  bad|       Adult|\n",
            "|  'no checking'|      24|'critical/other e...|           radio/tv|         2424|'no known savings'|       >=7|                     4|       'male single'|         none|              4|   'life insurance'| 53|               none|       own|               2|             skilled|             1|         none|           yes| good|       Adult|\n",
            "|             <0|      30|'no credits/all p...|           business|         8072|'no known savings'|        <1|                     2|       'male single'|         none|              3|                car| 25|               bank|       own|               3|             skilled|             1|         none|           yes| good|       Adult|\n",
            "|       0<=X<200|      24|     'existing paid'|         'used car'|        12579|              <100|       >=7|                     4|'female div/dep/mar'|         none|              2|'no known property'| 44|               none|'for free'|               1|'high qualif/self...|             1|          yes|           yes|  bad|       Adult|\n",
            "|  'no checking'|      24|     'existing paid'|           radio/tv|         3430|       500<=X<1000|       >=7|                     3|       'male single'|         none|              2|                car| 31|               none|       own|               1|             skilled|             2|          yes|           yes| good|       Adult|\n",
            "+---------------+--------+--------------------+-------------------+-------------+------------------+----------+----------------------+--------------------+-------------+---------------+-------------------+---+-------------------+----------+----------------+--------------------+--------------+-------------+--------------+-----+------------+\n",
            "only showing top 20 rows\n",
            "\n"
          ]
        }
      ]
    },
    {
      "cell_type": "code",
      "source": [
        "df.cache()"
      ],
      "metadata": {
        "colab": {
          "base_uri": "https://localhost:8080/"
        },
        "id": "_GPgDwWuXrVj",
        "outputId": "601445dc-5ed0-46d6-dad7-6016894cd061"
      },
      "execution_count": 30,
      "outputs": [
        {
          "output_type": "execute_result",
          "data": {
            "text/plain": [
              "DataFrame[checking_status: string, duration: int, credit_history: string, purpose: string, credit_amount: int, savings_status: string, employment: string, installment_commitment: int, personal_status: string, other_parties: string, residence_since: int, property_magnitude: string, age: int, other_payment_plans: string, housing: string, existing_credits: int, job: string, num_dependents: int, own_telephone: string, foreign_worker: string, class: string, age_category: string]"
            ]
          },
          "metadata": {},
          "execution_count": 30
        }
      ]
    },
    {
      "cell_type": "code",
      "source": [],
      "metadata": {
        "id": "ZsP1x9ckXsqt"
      },
      "execution_count": null,
      "outputs": []
    }
  ]
}