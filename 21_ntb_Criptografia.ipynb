{
  "nbformat": 4,
  "nbformat_minor": 0,
  "metadata": {
    "colab": {
      "provenance": [],
      "authorship_tag": "ABX9TyNT2FAgg3EiQL/N3YzEiN0P",
      "include_colab_link": true
    },
    "kernelspec": {
      "name": "python3",
      "display_name": "Python 3"
    },
    "language_info": {
      "name": "python"
    }
  },
  "cells": [
    {
      "cell_type": "markdown",
      "metadata": {
        "id": "view-in-github",
        "colab_type": "text"
      },
      "source": [
        "<a href=\"https://colab.research.google.com/github/luasampaio/data-engineering/blob/main/21_ntb_Criptografia.ipynb\" target=\"_parent\"><img src=\"https://colab.research.google.com/assets/colab-badge.svg\" alt=\"Open In Colab\"/></a>"
      ]
    },
    {
      "cell_type": "markdown",
      "source": [
        "### Encriptografar\n"
      ],
      "metadata": {
        "id": "2ot498DPoBq4"
      }
    },
    {
      "cell_type": "markdown",
      "source": [
        "\n",
        "## Utilizado a função de criptografia simétrica (como AES) para proteger os dados.\n",
        "- date of creation: 23/12/23\n",
        "- By: Luciana Sampaio\n",
        "\n",
        "### Steps:\n",
        "- Por exemplo, em Python:\n",
        "- pip install cryptography\n",
        "```\n",
        "# Biblioteca\n",
        "from cryptography.fernet import Fernet\n",
        "\n"
      ],
      "metadata": {
        "id": "kDK-kNtUoU3C"
      }
    },
    {
      "cell_type": "code",
      "execution_count": 3,
      "metadata": {
        "colab": {
          "base_uri": "https://localhost:8080/"
        },
        "id": "lMx06t4Rn0e-",
        "outputId": "35a6287f-cbae-4006-9a46-33e9aeb09046"
      },
      "outputs": [
        {
          "output_type": "stream",
          "name": "stdout",
          "text": [
            "b'gAAAAABnkh8FTFEkp-ERHwOSZKI1Mj7W1OLlL96W3acemeAX2ULu3z9zEiCrsD7nH1FZvT42ZRoXiXmhZKLhqusYEpgdFX5O8g==' b'gAAAAABnkh8F_ElQcRGS3KidiaoDFVEimaM7HdsE5-svNU67hqfJMQEiTq_W1ijqUJGk7P4DpRo1Oz8bYk1Z9vxBg_BSUsTydg=='\n"
          ]
        }
      ],
      "source": [
        "from cryptography.fernet import Fernet\n",
        "\n",
        "# Gerar uma chave (faça isso apenas uma vez)\n",
        "key = Fernet.generate_key()\n",
        "cipher = Fernet(key)\n",
        "\n",
        "# Criptografar\n",
        "nome = \"Luciana Sampaio\"\n",
        "cpf = \"123.456.789-00\"\n",
        "nome_encrypted = cipher.encrypt(nome.encode())\n",
        "cpf_encrypted = cipher.encrypt(cpf.encode())\n",
        "\n",
        "# Exemplo de saída\n",
        "print(nome_encrypted, cpf_encrypted)"
      ]
    },
    {
      "cell_type": "markdown",
      "source": [
        "Descriptografar os Dados"
      ],
      "metadata": {
        "id": "eeaOLxx-n8T5"
      }
    },
    {
      "cell_type": "code",
      "source": [
        "# Descriptografar\n",
        "nome_decrypted = cipher.decrypt(nome_encrypted).decode()\n",
        "cpf_decrypted = cipher.decrypt(cpf_encrypted).decode()\n",
        "\n",
        "print(nome_decrypted, cpf_decrypted)"
      ],
      "metadata": {
        "colab": {
          "base_uri": "https://localhost:8080/"
        },
        "id": "6iiZaM6gn29O",
        "outputId": "acd47201-5315-4344-ac78-39b152793ed4"
      },
      "execution_count": 4,
      "outputs": [
        {
          "output_type": "stream",
          "name": "stdout",
          "text": [
            "Luciana Sampaio 123.456.789-00\n"
          ]
        }
      ]
    },
    {
      "cell_type": "code",
      "source": [
        "from cryptography.fernet import Fernet\n",
        "import csv\n",
        "\n",
        "# Função principal\n",
        "class DadosSeguros:\n",
        "    def __init__(self):\n",
        "        # Gera ou define uma chave fixa (em produção, armazene a chave de forma segura)\n",
        "        self.chave = Fernet.generate_key()\n",
        "        self.cipher = Fernet(self.chave)\n",
        "\n",
        "    def criptografar_dados(self, texto):\n",
        "        \"\"\"Criptografa um texto.\"\"\"\n",
        "        return self.cipher.encrypt(texto.encode())\n",
        "\n",
        "    def descriptografar_dados(self, texto_criptografado):\n",
        "        \"\"\"Descriptografa um texto.\"\"\"\n",
        "        return self.cipher.decrypt(texto_criptografado).decode()\n",
        "\n",
        "    def gerar_arquivo_unidades(self, historico, arquivo_saida):\n",
        "        \"\"\"Gera um arquivo consolidado com todas as unidades e seus totais.\"\"\"\n",
        "        unidades = {}\n",
        "        for registro in historico:\n",
        "            unidade = registro.get(\"unidade\")\n",
        "            if unidade in unidades:\n",
        "                unidades[unidade] += 1\n",
        "            else:\n",
        "                unidades[unidade] = 1\n",
        "\n",
        "        with open(arquivo_saida, mode=\"w\", newline=\"\") as file:\n",
        "            writer = csv.DictWriter(file, fieldnames=[\"unidade\", \"total\"])\n",
        "            writer.writeheader()\n",
        "            for unidade, total in unidades.items():\n",
        "                writer.writerow({\"unidade\": unidade, \"total\": total})\n",
        "\n",
        "    def gerar_relatorio_para_cpf(self, historico, cpf, arquivo_saida):\n",
        "        \"\"\"Gera um relatório filtrado para um CPF específico.\"\"\"\n",
        "        with open(arquivo_saida, mode=\"w\", newline=\"\") as file:\n",
        "            writer = csv.DictWriter(file, fieldnames=[\"nome\", \"cpf\", \"unidade\", \"historico\"])\n",
        "            writer.writeheader()\n",
        "            for registro in historico:\n",
        "                if registro[\"cpf\"] == cpf:\n",
        "                    writer.writerow(registro)\n",
        "\n",
        "\n",
        "# Uso da classe\n",
        "if __name__ == \"__main__\":\n",
        "    # Instancia a classe\n",
        "    seguranca = DadosSeguros()\n",
        "\n",
        "    # Exemplo de dados\n",
        "    historico = [\n",
        "        {\"nome\": \"Luciana Sampaio\", \"cpf\": \"12345678900\", \"unidade\": \"Unidade A\", \"historico\": \"Detalhes A\"},\n",
        "        {\"nome\": \"João Silva\", \"cpf\": \"98765432100\", \"unidade\": \"Unidade B\", \"historico\": \"Detalhes B\"},\n",
        "        {\"nome\": \"Maria Oliveira\", \"cpf\": \"12345678900\", \"unidade\": \"Unidade A\", \"historico\": \"Detalhes C\"},\n",
        "    ]\n",
        "\n",
        "    # Criptografar nome e CPF\n",
        "    for registro in historico:\n",
        "        registro[\"nome\"] = seguranca.criptografar_dados(registro[\"nome\"])\n",
        "        registro[\"cpf\"] = seguranca.criptografar_dados(registro[\"cpf\"])\n",
        "\n",
        "    # Descriptografar e imprimir os dados\n",
        "    for registro in historico:\n",
        "        registro[\"nome\"] = seguranca.descriptografar_dados(registro[\"nome\"])\n",
        "        registro[\"cpf\"] = seguranca.descriptografar_dados(registro[\"cpf\"])\n",
        "\n",
        "    print(\"Dados descriptografados:\", historico)\n",
        "\n",
        "    # Gerar arquivo consolidado por unidade\n",
        "    seguranca.gerar_arquivo_unidades(historico, \"unidades.csv\")\n",
        "\n",
        "    # Gerar relatório para um CPF específico\n",
        "    seguranca.gerar_relatorio_para_cpf(historico, \"12345678900\", \"relatorio_cpf.csv\")\n"
      ],
      "metadata": {
        "colab": {
          "base_uri": "https://localhost:8080/"
        },
        "id": "nVJ1iqptn7VT",
        "outputId": "283ffdee-87e0-4049-fdf0-9fd0e5e3bcb7"
      },
      "execution_count": 5,
      "outputs": [
        {
          "output_type": "stream",
          "name": "stdout",
          "text": [
            "Dados descriptografados: [{'nome': 'Luciana Sampaio', 'cpf': '12345678900', 'unidade': 'Unidade A', 'historico': 'Detalhes A'}, {'nome': 'João Silva', 'cpf': '98765432100', 'unidade': 'Unidade B', 'historico': 'Detalhes B'}, {'nome': 'Maria Oliveira', 'cpf': '12345678900', 'unidade': 'Unidade A', 'historico': 'Detalhes C'}]\n"
          ]
        }
      ]
    },
    {
      "cell_type": "code",
      "source": [
        "print(\"Dados descriptografados:\", [nome])"
      ],
      "metadata": {
        "colab": {
          "base_uri": "https://localhost:8080/"
        },
        "id": "oTUWL588yuKv",
        "outputId": "65803c11-63bc-4642-e558-3e799a4d5d43"
      },
      "execution_count": 7,
      "outputs": [
        {
          "output_type": "stream",
          "name": "stdout",
          "text": [
            "Dados descriptografados: ['Luciana Sampaio']\n"
          ]
        }
      ]
    },
    {
      "cell_type": "code",
      "source": [
        "print(\"Dados criptofado:\", [nome])"
      ],
      "metadata": {
        "colab": {
          "base_uri": "https://localhost:8080/"
        },
        "id": "2_9Ifc0ZzBuG",
        "outputId": "72e5af4c-b916-476a-941f-956ac12ec081"
      },
      "execution_count": 8,
      "outputs": [
        {
          "output_type": "stream",
          "name": "stdout",
          "text": [
            "Dados criptofado: ['Luciana Sampaio']\n"
          ]
        }
      ]
    },
    {
      "cell_type": "code",
      "source": [
        "from cryptography.fernet import Fernet\n",
        "import csv\n",
        "\n",
        "# Função principal\n",
        "class DadosSeguros:\n",
        "    def __init__(self):\n",
        "        # Gera ou define uma chave fixa (em produção, armazene a chave de forma segura)\n",
        "        self.chave = Fernet.generate_key()\n",
        "        self.cipher = Fernet(self.chave)\n",
        "\n",
        "    def criptografar_dados(self, texto):\n",
        "        \"\"\"Criptografa um texto.\"\"\"\n",
        "        return self.cipher.encrypt(texto.encode())\n",
        "\n",
        "    def descriptografar_dados(self, texto_criptografado):\n",
        "        \"\"\"Descriptografa um texto.\"\"\"\n",
        "        return self.cipher.decrypt(texto_criptografado).decode()\n",
        "\n",
        "    def gerar_arquivo_unidades(self, historico, arquivo_saida):\n",
        "        \"\"\"Gera um arquivo consolidado com todas as unidades e seus totais.\"\"\"\n",
        "        unidades = {}\n",
        "        for registro in historico:\n",
        "            unidade = registro.get(\"unidade\")\n",
        "            if unidade in unidades:\n",
        "                unidades[unidade] += 1\n",
        "            else:\n",
        "                unidades[unidade] = 1\n",
        "\n",
        "        with open(arquivo_saida, mode=\"w\", newline=\"\") as file:\n",
        "            writer = csv.DictWriter(file, fieldnames=[\"unidade\", \"total\"])\n",
        "            writer.writeheader()\n",
        "            for unidade, total in unidades.items():\n",
        "                writer.writerow({\"unidade\": unidade, \"total\": total})\n",
        "\n",
        "    def gerar_relatorio_para_cpf(self, historico, cpf, arquivo_saida):\n",
        "        \"\"\"Gera um relatório filtrado para um CPF específico.\"\"\"\n",
        "        with open(arquivo_saida, mode=\"w\", newline=\"\") as file:\n",
        "            writer = csv.DictWriter(file, fieldnames=[\"nome\", \"cpf\", \"unidade\", \"historico\"])\n",
        "            writer.writeheader()\n",
        "            for registro in historico:\n",
        "                if registro[\"cpf\"] == cpf:\n",
        "                    writer.writerow(registro)\n",
        "\n",
        "\n",
        "# Uso da classe\n",
        "if __name__ == \"__main__\":\n",
        "    # Instancia a classe\n",
        "    seguranca = DadosSeguros()\n",
        "\n",
        "    # Exemplo de dados\n",
        "    historico = [\n",
        "        {\"nome\": \"Luciana Sampaio\", \"cpf\": \"12345678900\", \"unidade\": \"Unidade A\", \"historico\": \"Detalhes A\"},\n",
        "        {\"nome\": \"Angelica Mayer\", \"cpf\": \"98765432100\", \"unidade\": \"Unidade B\", \"historico\": \"Detalhes B\"},\n",
        "        {\"nome\": \"Maria Oliveira\", \"cpf\": \"12345678900\", \"unidade\": \"Unidade A\", \"historico\": \"Detalhes C\"},\n",
        "    ]\n",
        "\n",
        "    # Criptografar nome e CPF\n",
        "    for registro in historico:\n",
        "        registro[\"nome\"] = seguranca.criptografar_dados(registro[\"nome\"])\n",
        "        registro[\"cpf\"] = seguranca.criptografar_dados(registro[\"cpf\"])\n",
        "\n",
        "    # Imprimir dados criptografados\n",
        "    print(\"Dados criptografados:\")\n",
        "    for registro in historico:\n",
        "        print(registro)\n",
        "\n",
        "    # Descriptografar e imprimir os dados\n",
        "    for registro in historico:\n",
        "        registro[\"nome\"] = seguranca.descriptografar_dados(registro[\"nome\"])\n",
        "        registro[\"cpf\"] = seguranca.descriptografar_dados(registro[\"cpf\"])\n",
        "\n",
        "    print(\"\\nDados descriptografados:\")\n",
        "    for registro in historico:\n",
        "        print(registro)\n",
        "\n",
        "    # Gerar arquivo consolidado por unidade\n",
        "    seguranca.gerar_arquivo_unidades(historico, \"unidades.csv\")\n",
        "\n",
        "    # Gerar relatório para um CPF específico\n",
        "    seguranca.gerar_relatorio_para_cpf(historico, \"12345678900\", \"relatorio_cpf.csv\")\n",
        "\n"
      ],
      "metadata": {
        "colab": {
          "base_uri": "https://localhost:8080/"
        },
        "id": "oQwSibeGzNbb",
        "outputId": "638b4b33-fbba-4882-ed18-b8fff04e182b"
      },
      "execution_count": 12,
      "outputs": [
        {
          "output_type": "stream",
          "name": "stdout",
          "text": [
            "Dados criptografados:\n",
            "{'nome': b'gAAAAABnkiDAN8cFGBxlWtzNIkxz2ZFMjQQO9tN2T3QqCIIvy98omO6jP5-J-XoIzAXhqjoF9nfljLReyyWGL_ZKFQ7nD_yrGQ==', 'cpf': b'gAAAAABnkiDAA-7v1Pp_rc280hA05cyNkxmtWfUp03z9oJAv79JtJbcH3tUgxBjKoffmaf7qij4D3OC-9TBoK1oUho7yKSm65g==', 'unidade': 'Unidade A', 'historico': 'Detalhes A'}\n",
            "{'nome': b'gAAAAABnkiDA2_Z4ov-4RdpjOK_bSFlPhrCH5V96t89uk76LpPpPkPZgaKYBoKM_O_GGZmmlPoohGXpfx2gnGYizZfdRCjClqg==', 'cpf': b'gAAAAABnkiDA5HIxaTJrA2aNPlsXJq-TPaAxTZhN4EMrdzVJzUEzcnbbfRWPsmRfxVdt_lBsAdOju3xykoiXU0FynWcrbAt3NA==', 'unidade': 'Unidade B', 'historico': 'Detalhes B'}\n",
            "{'nome': b'gAAAAABnkiDA-aiz5X7rOkg4gmU293-yGjqLdb2_XkpAtEgMDxOmDOVfhcaHDbugOCYFbdNUYX-gTpKvA6yc49mShDFaQQNpAg==', 'cpf': b'gAAAAABnkiDAJhH3z1uNxFayvBt_EaZYxHbEqGvBkUbkkSibzhAUafph_aIktfNqGoo7ay7nJiyms7WfWlxCaJmhdYK7ocHn8w==', 'unidade': 'Unidade A', 'historico': 'Detalhes C'}\n",
            "\n",
            "Dados descriptografados:\n",
            "{'nome': 'Luciana Sampaio', 'cpf': '12345678900', 'unidade': 'Unidade A', 'historico': 'Detalhes A'}\n",
            "{'nome': 'Angelica Mayer', 'cpf': '98765432100', 'unidade': 'Unidade B', 'historico': 'Detalhes B'}\n",
            "{'nome': 'Maria Oliveira', 'cpf': '12345678900', 'unidade': 'Unidade A', 'historico': 'Detalhes C'}\n"
          ]
        }
      ]
    },
    {
      "cell_type": "markdown",
      "source": [
        "### Teste somente com a função de criptografar"
      ],
      "metadata": {
        "id": "9GEkDaXh0tlh"
      }
    },
    {
      "cell_type": "code",
      "source": [
        "from cryptography.fernet import Fernet\n",
        "\n",
        "class DadosSeguros:\n",
        "    def __init__(self):\n",
        "        # Gerar uma chave de criptografia\n",
        "        self.chave = Fernet.generate_key()\n",
        "        self.cipher = Fernet(self.chave)\n",
        "\n",
        "    def criptografar_dados(self, texto):\n",
        "        \"\"\"Criptografa um texto.\"\"\"\n",
        "        return self.cipher.encrypt(texto.encode())\n",
        "\n",
        "# Instanciar a classe\n",
        "seguranca = DadosSeguros()\n",
        "\n",
        "# Criptografar o nome\n",
        "nome_criptografado = seguranca.criptografar_dados('Luciana')\n",
        "\n",
        "# Imprimir o dado criptografado\n",
        "print(\"Texto criptografado:\", nome_criptografado)\n"
      ],
      "metadata": {
        "colab": {
          "base_uri": "https://localhost:8080/"
        },
        "id": "XkWhtO_cz3qA",
        "outputId": "9d346b26-c51c-47d5-d3e5-5fb6f4da68a2"
      },
      "execution_count": 16,
      "outputs": [
        {
          "output_type": "stream",
          "name": "stdout",
          "text": [
            "Texto criptografado: b'gAAAAABnkiFq7JJnRm9Tcx9int4ZvDjtHdtK01BQvimAJdP9vDRGfeRKupAgTBnHgd4SwtYfgyyAI9O_9STGGvwYE7x3EuPkkQ=='\n"
          ]
        }
      ]
    },
    {
      "cell_type": "code",
      "source": [
        "nome_criptografado = seguranca.criptografar_dados('Angelica')\n",
        "print(\"Texto criptografado:\", nome_criptografado)"
      ],
      "metadata": {
        "colab": {
          "base_uri": "https://localhost:8080/"
        },
        "id": "5VicgPBv02ek",
        "outputId": "d2fb6247-b87d-4b40-9fdf-00edb616368f"
      },
      "execution_count": 17,
      "outputs": [
        {
          "output_type": "stream",
          "name": "stdout",
          "text": [
            "Texto criptografado: b'gAAAAABnkiG_cfCWXn4Jol1WZPJjf16bdst1dy0ncuBc2SOrA5G1DF6vZZ05vH9VWBlHQ9725UR3-NO05YCQ4OSJXg2vs4I0KQ=='\n"
          ]
        }
      ]
    },
    {
      "cell_type": "code",
      "source": [],
      "metadata": {
        "id": "4dqffCHg0-um"
      },
      "execution_count": null,
      "outputs": []
    }
  ]
}