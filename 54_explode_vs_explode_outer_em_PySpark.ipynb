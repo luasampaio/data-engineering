{
  "nbformat": 4,
  "nbformat_minor": 0,
  "metadata": {
    "colab": {
      "provenance": [],
      "authorship_tag": "ABX9TyPo58DavUDgz5R5d5xxZtSE",
      "include_colab_link": true
    },
    "kernelspec": {
      "name": "python3",
      "display_name": "Python 3"
    },
    "language_info": {
      "name": "python"
    }
  },
  "cells": [
    {
      "cell_type": "markdown",
      "metadata": {
        "id": "view-in-github",
        "colab_type": "text"
      },
      "source": [
        "<a href=\"https://colab.research.google.com/github/luasampaio/data-engineering/blob/main/54_explode_vs_explode_outer_em_PySpark.ipynb\" target=\"_parent\"><img src=\"https://colab.research.google.com/assets/colab-badge.svg\" alt=\"Open In Colab\"/></a>"
      ]
    },
    {
      "cell_type": "markdown",
      "source": [
        "## explode vs explode_outer em PySpark\n",
        "\n",
        "-  explode() para remover linhas sem elementos (arrays vazios/nulos).\n",
        "-  explode_outer() quando quer manter todas as linhas, mesmo que não haja elementos para explodir.\n",
        "- posexplode_outer() cria linhas para cada elemento do array, trazendo também a posição.\n",
        "\n",
        "---\n",
        "- Data: 22/07/25\n",
        "- Luciana Sampaio Mayer\n",
        "\n"
      ],
      "metadata": {
        "id": "MdaT9zqMIPCW"
      }
    },
    {
      "cell_type": "code",
      "source": [
        "from pyspark.sql import SparkSession\n",
        "from pyspark.sql.types import StructType, StructField, StringType, ArrayType\n",
        "from pyspark.sql.functions import explode, explode_outer, posexplode, posexplode_outer\n",
        "\n",
        "# 1. Cria sessão Spark\n",
        "spark = SparkSession.builder \\\n",
        "    .appName(\"explode\") \\\n",
        "    .master(\"local\") \\\n",
        "    .getOrCreate()"
      ],
      "metadata": {
        "id": "Q1wtjoFKO__X"
      },
      "execution_count": 1,
      "outputs": []
    },
    {
      "cell_type": "code",
      "source": [
        "# 2. Dados de entrada\n",
        "df = [\n",
        "    (\"1\", [\"Matematica\", \"fisica\", \"Quimica\"]),\n",
        "    (\"2\", [\"Ingles\", \"Frances\", \"Alemao\"]),\n",
        "    (\"3\", [\"Portugues\"]),\n",
        "    (\"4\", []),\n",
        "    (\"5\", None)\n",
        "]"
      ],
      "metadata": {
        "id": "CNyuGu40HFh_"
      },
      "execution_count": 2,
      "outputs": []
    },
    {
      "cell_type": "markdown",
      "source": [
        "Configurando o schema"
      ],
      "metadata": {
        "id": "2xYjcQoHIm0J"
      }
    },
    {
      "cell_type": "code",
      "source": [
        "# 3. Cria um esquema para os dados\n",
        "schema = StructType([\n",
        "    StructField(\"id\", StringType(), True),\n",
        "    StructField(\"materias\", ArrayType(StringType()), True)\n",
        "])\n",
        "\n",
        "# Converte a lista Python para um Spark DataFrame\n",
        "spark_df = spark.createDataFrame(df, schema=schema)\n",
        "\n"
      ],
      "metadata": {
        "id": "ZM5hfV-dHVkG"
      },
      "execution_count": 3,
      "outputs": []
    },
    {
      "cell_type": "code",
      "source": [
        "# 4. Mostra o esquema do DataFrame\n",
        "spark_df.printSchema()"
      ],
      "metadata": {
        "colab": {
          "base_uri": "https://localhost:8080/"
        },
        "id": "Jzj-dyNZHpnf",
        "outputId": "c3f63b27-c483-48d9-e3a1-d44949d13a41"
      },
      "execution_count": 4,
      "outputs": [
        {
          "output_type": "stream",
          "name": "stdout",
          "text": [
            "root\n",
            " |-- id: string (nullable = true)\n",
            " |-- materias: array (nullable = true)\n",
            " |    |-- element: string (containsNull = true)\n",
            "\n"
          ]
        }
      ]
    },
    {
      "cell_type": "code",
      "source": [
        "# 5.visualiza os dados\n",
        "spark_df.show()"
      ],
      "metadata": {
        "colab": {
          "base_uri": "https://localhost:8080/"
        },
        "id": "_Tq0wuOxHXxF",
        "outputId": "c52e2005-cc18-4805-c4df-097857511b83"
      },
      "execution_count": 5,
      "outputs": [
        {
          "output_type": "stream",
          "name": "stdout",
          "text": [
            "+---+--------------------+\n",
            "| id|            materias|\n",
            "+---+--------------------+\n",
            "|  1|[Matematica, fisi...|\n",
            "|  2|[Ingles, Frances,...|\n",
            "|  3|         [Portugues]|\n",
            "|  4|                  []|\n",
            "|  5|                NULL|\n",
            "+---+--------------------+\n",
            "\n"
          ]
        }
      ]
    },
    {
      "cell_type": "code",
      "source": [
        "# 6. Explode a coluna 'Materias'\n",
        "explode = spark_df.withColumn(\"Disciplina\", explode(\"Materias\"))"
      ],
      "metadata": {
        "id": "Sr31EBcjHf_g"
      },
      "execution_count": 6,
      "outputs": []
    },
    {
      "cell_type": "code",
      "source": [
        "print(\"Usando explode():\")\n",
        "explode.show(truncate=False)"
      ],
      "metadata": {
        "colab": {
          "base_uri": "https://localhost:8080/"
        },
        "id": "gy5WsHWjIE-m",
        "outputId": "a02935ae-e338-4b05-dd6e-63cefca88b2e"
      },
      "execution_count": 7,
      "outputs": [
        {
          "output_type": "stream",
          "name": "stdout",
          "text": [
            "Usando explode():\n",
            "+---+-----------------------------+----------+\n",
            "|id |materias                     |Disciplina|\n",
            "+---+-----------------------------+----------+\n",
            "|1  |[Matematica, fisica, Quimica]|Matematica|\n",
            "|1  |[Matematica, fisica, Quimica]|fisica    |\n",
            "|1  |[Matematica, fisica, Quimica]|Quimica   |\n",
            "|2  |[Ingles, Frances, Alemao]    |Ingles    |\n",
            "|2  |[Ingles, Frances, Alemao]    |Frances   |\n",
            "|2  |[Ingles, Frances, Alemao]    |Alemao    |\n",
            "|3  |[Portugues]                  |Portugues |\n",
            "+---+-----------------------------+----------+\n",
            "\n"
          ]
        }
      ]
    },
    {
      "cell_type": "markdown",
      "source": [
        "# explode_outer()"
      ],
      "metadata": {
        "id": "nh2-YvTcKgM5"
      }
    },
    {
      "cell_type": "code",
      "source": [
        "explode_outer = spark_df.withColumn(\"Disciplina\", explode_outer(\"Materias\"))\n",
        "explode_outer.show(truncate=False)"
      ],
      "metadata": {
        "colab": {
          "base_uri": "https://localhost:8080/"
        },
        "id": "YM-yl6fSKn9Y",
        "outputId": "f0739150-cd86-40dc-997b-47250401ab49"
      },
      "execution_count": 8,
      "outputs": [
        {
          "output_type": "stream",
          "name": "stdout",
          "text": [
            "+---+-----------------------------+----------+\n",
            "|id |materias                     |Disciplina|\n",
            "+---+-----------------------------+----------+\n",
            "|1  |[Matematica, fisica, Quimica]|Matematica|\n",
            "|1  |[Matematica, fisica, Quimica]|fisica    |\n",
            "|1  |[Matematica, fisica, Quimica]|Quimica   |\n",
            "|2  |[Ingles, Frances, Alemao]    |Ingles    |\n",
            "|2  |[Ingles, Frances, Alemao]    |Frances   |\n",
            "|2  |[Ingles, Frances, Alemao]    |Alemao    |\n",
            "|3  |[Portugues]                  |Portugues |\n",
            "|4  |[]                           |NULL      |\n",
            "|5  |NULL                         |NULL      |\n",
            "+---+-----------------------------+----------+\n",
            "\n"
          ]
        }
      ]
    },
    {
      "cell_type": "code",
      "source": [
        "spark_df.printSchema()"
      ],
      "metadata": {
        "colab": {
          "base_uri": "https://localhost:8080/"
        },
        "id": "Hz5g_GY5P5_D",
        "outputId": "2d3e9ee8-dbf9-4cc2-f368-8ee353cee624"
      },
      "execution_count": 9,
      "outputs": [
        {
          "output_type": "stream",
          "name": "stdout",
          "text": [
            "root\n",
            " |-- id: string (nullable = true)\n",
            " |-- materias: array (nullable = true)\n",
            " |    |-- element: string (containsNull = true)\n",
            "\n"
          ]
        }
      ]
    },
    {
      "cell_type": "code",
      "source": [
        "print(\"Usando posexplode_outer():\")\n",
        "posexplode_outer_df = spark_df.select(\"id\", posexplode_outer(\"materias\").alias(\"pos\", \"Disciplina\"))\n",
        "posexplode_outer_df.show(truncate=False)"
      ],
      "metadata": {
        "colab": {
          "base_uri": "https://localhost:8080/"
        },
        "id": "chM5gguwQChT",
        "outputId": "01b3f6ad-dddc-4f6f-cc10-3212651e1244"
      },
      "execution_count": 10,
      "outputs": [
        {
          "output_type": "stream",
          "name": "stdout",
          "text": [
            "Usando posexplode_outer():\n",
            "+---+----+----------+\n",
            "|id |pos |Disciplina|\n",
            "+---+----+----------+\n",
            "|1  |0   |Matematica|\n",
            "|1  |1   |fisica    |\n",
            "|1  |2   |Quimica   |\n",
            "|2  |0   |Ingles    |\n",
            "|2  |1   |Frances   |\n",
            "|2  |2   |Alemao    |\n",
            "|3  |0   |Portugues |\n",
            "|4  |NULL|NULL      |\n",
            "|5  |NULL|NULL      |\n",
            "+---+----+----------+\n",
            "\n"
          ]
        }
      ]
    },
    {
      "cell_type": "markdown",
      "source": [
        "Explicação:\n",
        "\n",
        "- posexplode_outer(\"Materias\"): para cada elemento do array da coluna Materias,cria uma nova linha com duas informações:\n",
        "\n",
        "   - O índice (posição) do elemento (pos)\n",
        "\n",
        "   - O valor do elemento (col)\n",
        "\n",
        "> Para linhas onde Materias é vazio ou nulo, retorna uma linha com null nessas colunas.\n",
        "\n",
        "O resultado é uma nova coluna Disciplina, que é uma struct com pos e col."
      ],
      "metadata": {
        "id": "6u2qkb2ZQokF"
      }
    },
    {
      "cell_type": "code",
      "source": [
        "posexplode_outer_df.printSchema()"
      ],
      "metadata": {
        "colab": {
          "base_uri": "https://localhost:8080/"
        },
        "id": "U2oBNhAzQbrV",
        "outputId": "6f69783f-ccac-4f38-c667-594acd5fb65a"
      },
      "execution_count": 11,
      "outputs": [
        {
          "output_type": "stream",
          "name": "stdout",
          "text": [
            "root\n",
            " |-- id: string (nullable = true)\n",
            " |-- pos: integer (nullable = true)\n",
            " |-- Disciplina: string (nullable = true)\n",
            "\n"
          ]
        }
      ]
    }
  ]
}