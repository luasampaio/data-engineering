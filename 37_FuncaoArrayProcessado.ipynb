{
  "nbformat": 4,
  "nbformat_minor": 0,
  "metadata": {
    "colab": {
      "provenance": [],
      "authorship_tag": "ABX9TyMxZ6q8M/9YQ+WtIIMdv9LB",
      "include_colab_link": true
    },
    "kernelspec": {
      "name": "python3",
      "display_name": "Python 3"
    },
    "language_info": {
      "name": "python"
    }
  },
  "cells": [
    {
      "cell_type": "markdown",
      "metadata": {
        "id": "view-in-github",
        "colab_type": "text"
      },
      "source": [
        "<a href=\"https://colab.research.google.com/github/luasampaio/data-engineering/blob/main/37_FuncaoArrayProcessado.ipynb\" target=\"_parent\"><img src=\"https://colab.research.google.com/assets/colab-badge.svg\" alt=\"Open In Colab\"/></a>"
      ]
    },
    {
      "cell_type": "markdown",
      "source": [
        "Funcao para processar a leitura de uma coluna do tipo array"
      ],
      "metadata": {
        "id": "KC6Jupg3FpDP"
      }
    },
    {
      "cell_type": "code",
      "execution_count": 8,
      "metadata": {
        "colab": {
          "base_uri": "https://localhost:8080/"
        },
        "id": "Yv20I7HaAxfn",
        "outputId": "9b743196-7409-4dc6-fd29-b2fbd5457e1a"
      },
      "outputs": [
        {
          "output_type": "stream",
          "name": "stdout",
          "text": [
            "Arquivo salvo em: /tmp/dados_locacao_imoveis.json\n",
            "root\n",
            " |-- dados_locacao: array (nullable = true)\n",
            " |    |-- element: struct (containsNull = true)\n",
            " |    |    |-- apartamento: string (nullable = true)\n",
            " |    |    |-- datas_combinadas_pagamento: array (nullable = true)\n",
            " |    |    |    |-- element: string (containsNull = true)\n",
            " |    |    |-- datas_de_pagamento: array (nullable = true)\n",
            " |    |    |    |-- element: string (containsNull = true)\n",
            " |    |    |-- valor_aluguel: array (nullable = true)\n",
            " |    |    |    |-- element: string (containsNull = true)\n",
            "\n",
            "+--------------------+\n",
            "|       dados_locacao|\n",
            "+--------------------+\n",
            "|[{A101 (blocoAP),...|\n",
            "+--------------------+\n",
            "\n"
          ]
        }
      ],
      "source": [
        "import requests\n",
        "import os\n",
        "from pyspark.sql import SparkSession\n",
        "\n",
        "# Criando sessão Spark\n",
        "spark = SparkSession.builder.appName(\"DataIngestion\").getOrCreate()\n",
        "\n",
        "def download_file(url, local_path):\n",
        "    response = requests.get(url)\n",
        "    if response.status_code == 200:\n",
        "        with open(local_path, \"wb\") as f:\n",
        "            f.write(response.content)\n",
        "        print(f\"Arquivo salvo em: {local_path}\")\n",
        "        return local_path\n",
        "    else:\n",
        "        print(f\"Erro ao baixar arquivo: {response.status_code}\")\n",
        "        return None\n",
        "\n",
        "def ingest_data(source_url: str, local_path: str, format: str = \"json\"):\n",
        "    try:\n",
        "        # Baixa o arquivo JSON\n",
        "        file_path = download_file(source_url, local_path)\n",
        "        if file_path:\n",
        "            # Lendo o arquivo JSON no Spark\n",
        "            df = spark.read.format(format).load(file_path)\n",
        "            return df\n",
        "        else:\n",
        "            return None\n",
        "    except Exception as e:\n",
        "        print(f\"Erro ao carregar dados: {e}\")\n",
        "        return None\n",
        "\n",
        "# Definir URL e caminho local temporário\n",
        "source_url = \"https://github.com/luasampaio/datasets/raw/main/dados_locacao_imoveis.json\"\n",
        "local_path = \"/tmp/dados_locacao_imoveis.json\"\n",
        "\n",
        "# Carregar os dados no Spark\n",
        "df = ingest_data(source_url, local_path)\n",
        "\n",
        "# Exibir esquema se a leitura for bem-sucedida\n",
        "if df:\n",
        "    df.printSchema()\n",
        "    df.show(5)\n"
      ]
    },
    {
      "cell_type": "code",
      "source": [
        "df.printSchema()"
      ],
      "metadata": {
        "colab": {
          "base_uri": "https://localhost:8080/"
        },
        "id": "m0NFGDagBAzu",
        "outputId": "3b5a6585-3e54-4bf1-9a77-87e3f10809f4"
      },
      "execution_count": 9,
      "outputs": [
        {
          "output_type": "stream",
          "name": "stdout",
          "text": [
            "root\n",
            " |-- dados_locacao: array (nullable = true)\n",
            " |    |-- element: struct (containsNull = true)\n",
            " |    |    |-- apartamento: string (nullable = true)\n",
            " |    |    |-- datas_combinadas_pagamento: array (nullable = true)\n",
            " |    |    |    |-- element: string (containsNull = true)\n",
            " |    |    |-- datas_de_pagamento: array (nullable = true)\n",
            " |    |    |    |-- element: string (containsNull = true)\n",
            " |    |    |-- valor_aluguel: array (nullable = true)\n",
            " |    |    |    |-- element: string (containsNull = true)\n",
            "\n"
          ]
        }
      ]
    },
    {
      "cell_type": "code",
      "source": [
        "from pyspark.sql.functions import explode\n",
        "\n",
        "df_exploded = df.select(explode(df[\"dados_locacao\"]).alias(\"detalhe\"))\n",
        "df_exploded.show()\n",
        "\n"
      ],
      "metadata": {
        "colab": {
          "base_uri": "https://localhost:8080/"
        },
        "id": "taItl4L6BIA7",
        "outputId": "af011e4a-2570-42f6-aa2e-26ca1fee26c0"
      },
      "execution_count": 13,
      "outputs": [
        {
          "output_type": "stream",
          "name": "stdout",
          "text": [
            "+--------------------+\n",
            "|             detalhe|\n",
            "+--------------------+\n",
            "|{A101 (blocoAP), ...|\n",
            "|{A102 (blocoAP), ...|\n",
            "|{B201 (blocoAP), ...|\n",
            "|{B202 (blocoAP), ...|\n",
            "|{C301 (blocoAP), ...|\n",
            "|{C302 (blocoAP), ...|\n",
            "|{D401 (blocoAP), ...|\n",
            "|{D402 (blocoAP), ...|\n",
            "|{E501 (blocoAP), ...|\n",
            "|{E502 (blocoAP), ...|\n",
            "|{F601 (blocoAP), ...|\n",
            "|{F602 (blocoAP), ...|\n",
            "|{G701 (blocoAP), ...|\n",
            "|{G702 (blocoAP), ...|\n",
            "|{H801 (blocoAP), ...|\n",
            "+--------------------+\n",
            "\n"
          ]
        }
      ]
    },
    {
      "cell_type": "code",
      "source": [
        "df_exploded = df_exploded.select(\"detalhe.*\")\n",
        "df_exploded.show()"
      ],
      "metadata": {
        "colab": {
          "base_uri": "https://localhost:8080/"
        },
        "id": "HUS30_iwDbVx",
        "outputId": "41a90f8e-e0b4-41a9-a5af-7ce77983835a"
      },
      "execution_count": 15,
      "outputs": [
        {
          "output_type": "stream",
          "name": "stdout",
          "text": [
            "+--------------+--------------------------+--------------------+--------------------+\n",
            "|   apartamento|datas_combinadas_pagamento|  datas_de_pagamento|       valor_aluguel|\n",
            "+--------------+--------------------------+--------------------+--------------------+\n",
            "|A101 (blocoAP)|      [01/06/2022, 01/0...|[05/06/2022, 03/0...|[$ 1000,0 reais, ...|\n",
            "|A102 (blocoAP)|      [02/06/2022, 02/0...|[02/06/2022, 06/0...|[$ 1100,0 reais, ...|\n",
            "|B201 (blocoAP)|      [03/06/2022, 03/0...|[07/06/2022, 03/0...|[$ 1200,0 reais, ...|\n",
            "|B202 (blocoAP)|      [04/06/2022, 04/0...|[07/06/2022, 05/0...|[$ 1300,0 reais, ...|\n",
            "|C301 (blocoAP)|      [05/06/2022, 05/0...|[10/06/2022, 09/0...|[$ 1400,0 reais, ...|\n",
            "|C302 (blocoAP)|      [06/06/2022, 06/0...|[08/06/2022, 12/0...|[$ 1500,0 reais, ...|\n",
            "|D401 (blocoAP)|      [07/06/2022, 07/0...|[07/06/2022, 09/0...|[$ 1600,0 reais, ...|\n",
            "|D402 (blocoAP)|      [08/06/2022, 08/0...|[10/06/2022, 14/0...|[$ 1700,0 reais, ...|\n",
            "|E501 (blocoAP)|      [09/06/2022, 09/0...|[10/06/2022, 09/0...|[$ 1800,0 reais, ...|\n",
            "|E502 (blocoAP)|      [10/06/2022, 10/0...|[16/06/2022, 12/0...|[$ 1900,0 reais, ...|\n",
            "|F601 (blocoAP)|      [11/06/2022, 11/0...|[17/06/2022, 13/0...|[$ 2000,0 reais, ...|\n",
            "|F602 (blocoAP)|      [12/06/2022, 12/0...|[15/06/2022, 12/0...|[$ 2100,0 reais, ...|\n",
            "|G701 (blocoAP)|      [13/06/2022, 13/0...|[19/06/2022, 20/0...|[$ 2200,0 reais, ...|\n",
            "|G702 (blocoAP)|      [14/06/2022, 14/0...|[15/06/2022, 17/0...|[$ 2300,0 reais, ...|\n",
            "|H801 (blocoAP)|      [15/06/2022, 15/0...|[18/06/2022, 16/0...|[$ 2400,0 reais, ...|\n",
            "+--------------+--------------------------+--------------------+--------------------+\n",
            "\n"
          ]
        }
      ]
    },
    {
      "cell_type": "code",
      "source": [
        "display(df_exploded)"
      ],
      "metadata": {
        "colab": {
          "base_uri": "https://localhost:8080/",
          "height": 34
        },
        "id": "NfST_JFKDjI9",
        "outputId": "a5ec13e7-6e0a-42b3-cba9-f441a8d3d3cc"
      },
      "execution_count": 16,
      "outputs": [
        {
          "output_type": "display_data",
          "data": {
            "text/plain": [
              "DataFrame[apartamento: string, datas_combinadas_pagamento: array<string>, datas_de_pagamento: array<string>, valor_aluguel: array<string>]"
            ]
          },
          "metadata": {}
        }
      ]
    },
    {
      "cell_type": "code",
      "source": [
        "df_exploded  = df_exploded.withColumnRenamed(\"bairro\", \"bairro_locacao\")\n",
        "df_exploded.show()"
      ],
      "metadata": {
        "colab": {
          "base_uri": "https://localhost:8080/"
        },
        "id": "3aH9qfm6DpCQ",
        "outputId": "a40c1182-9c8e-4d06-80ba-f0128e3532a9"
      },
      "execution_count": 18,
      "outputs": [
        {
          "output_type": "stream",
          "name": "stdout",
          "text": [
            "+--------------+--------------------------+--------------------+--------------------+\n",
            "|   apartamento|datas_combinadas_pagamento|  datas_de_pagamento|       valor_aluguel|\n",
            "+--------------+--------------------------+--------------------+--------------------+\n",
            "|A101 (blocoAP)|      [01/06/2022, 01/0...|[05/06/2022, 03/0...|[$ 1000,0 reais, ...|\n",
            "|A102 (blocoAP)|      [02/06/2022, 02/0...|[02/06/2022, 06/0...|[$ 1100,0 reais, ...|\n",
            "|B201 (blocoAP)|      [03/06/2022, 03/0...|[07/06/2022, 03/0...|[$ 1200,0 reais, ...|\n",
            "|B202 (blocoAP)|      [04/06/2022, 04/0...|[07/06/2022, 05/0...|[$ 1300,0 reais, ...|\n",
            "|C301 (blocoAP)|      [05/06/2022, 05/0...|[10/06/2022, 09/0...|[$ 1400,0 reais, ...|\n",
            "|C302 (blocoAP)|      [06/06/2022, 06/0...|[08/06/2022, 12/0...|[$ 1500,0 reais, ...|\n",
            "|D401 (blocoAP)|      [07/06/2022, 07/0...|[07/06/2022, 09/0...|[$ 1600,0 reais, ...|\n",
            "|D402 (blocoAP)|      [08/06/2022, 08/0...|[10/06/2022, 14/0...|[$ 1700,0 reais, ...|\n",
            "|E501 (blocoAP)|      [09/06/2022, 09/0...|[10/06/2022, 09/0...|[$ 1800,0 reais, ...|\n",
            "|E502 (blocoAP)|      [10/06/2022, 10/0...|[16/06/2022, 12/0...|[$ 1900,0 reais, ...|\n",
            "|F601 (blocoAP)|      [11/06/2022, 11/0...|[17/06/2022, 13/0...|[$ 2000,0 reais, ...|\n",
            "|F602 (blocoAP)|      [12/06/2022, 12/0...|[15/06/2022, 12/0...|[$ 2100,0 reais, ...|\n",
            "|G701 (blocoAP)|      [13/06/2022, 13/0...|[19/06/2022, 20/0...|[$ 2200,0 reais, ...|\n",
            "|G702 (blocoAP)|      [14/06/2022, 14/0...|[15/06/2022, 17/0...|[$ 2300,0 reais, ...|\n",
            "|H801 (blocoAP)|      [15/06/2022, 15/0...|[18/06/2022, 16/0...|[$ 2400,0 reais, ...|\n",
            "+--------------+--------------------------+--------------------+--------------------+\n",
            "\n"
          ]
        }
      ]
    },
    {
      "cell_type": "code",
      "source": [
        "df_exploded.printSchema()"
      ],
      "metadata": {
        "colab": {
          "base_uri": "https://localhost:8080/"
        },
        "id": "6Lg65UwjDwqf",
        "outputId": "bd24874c-9528-4fef-df9b-ba43a1a6eae5"
      },
      "execution_count": 19,
      "outputs": [
        {
          "output_type": "stream",
          "name": "stdout",
          "text": [
            "root\n",
            " |-- apartamento: string (nullable = true)\n",
            " |-- datas_combinadas_pagamento: array (nullable = true)\n",
            " |    |-- element: string (containsNull = true)\n",
            " |-- datas_de_pagamento: array (nullable = true)\n",
            " |    |-- element: string (containsNull = true)\n",
            " |-- valor_aluguel: array (nullable = true)\n",
            " |    |-- element: string (containsNull = true)\n",
            "\n"
          ]
        }
      ]
    },
    {
      "source": [
        "from pyspark.sql.functions import explode\n",
        "\n",
        "df_exploded2 = df_exploded.withColumn(\"valor_aluguel\", explode(df_exploded[\"valor_aluguel\"]))\n",
        "df_exploded2.show()"
      ],
      "cell_type": "code",
      "metadata": {
        "colab": {
          "base_uri": "https://localhost:8080/"
        },
        "id": "84y2AdGxEKcy",
        "outputId": "e1cd0a2b-6636-4296-fc57-4af6f0762a15"
      },
      "execution_count": 25,
      "outputs": [
        {
          "output_type": "stream",
          "name": "stdout",
          "text": [
            "+--------------+--------------------------+--------------------+--------------+\n",
            "|   apartamento|datas_combinadas_pagamento|  datas_de_pagamento| valor_aluguel|\n",
            "+--------------+--------------------------+--------------------+--------------+\n",
            "|A101 (blocoAP)|      [01/06/2022, 01/0...|[05/06/2022, 03/0...|$ 1000,0 reais|\n",
            "|A101 (blocoAP)|      [01/06/2022, 01/0...|[05/06/2022, 03/0...|$ 2500,0 reais|\n",
            "|A102 (blocoAP)|      [02/06/2022, 02/0...|[02/06/2022, 06/0...|$ 1100,0 reais|\n",
            "|A102 (blocoAP)|      [02/06/2022, 02/0...|[02/06/2022, 06/0...|$ 2600,0 reais|\n",
            "|B201 (blocoAP)|      [03/06/2022, 03/0...|[07/06/2022, 03/0...|$ 1200,0 reais|\n",
            "|B201 (blocoAP)|      [03/06/2022, 03/0...|[07/06/2022, 03/0...|$ 2700,0 reais|\n",
            "|B202 (blocoAP)|      [04/06/2022, 04/0...|[07/06/2022, 05/0...|$ 1300,0 reais|\n",
            "|B202 (blocoAP)|      [04/06/2022, 04/0...|[07/06/2022, 05/0...|$ 2800,0 reais|\n",
            "|C301 (blocoAP)|      [05/06/2022, 05/0...|[10/06/2022, 09/0...|$ 1400,0 reais|\n",
            "|C301 (blocoAP)|      [05/06/2022, 05/0...|[10/06/2022, 09/0...|$ 2900,0 reais|\n",
            "|C302 (blocoAP)|      [06/06/2022, 06/0...|[08/06/2022, 12/0...|$ 1500,0 reais|\n",
            "|C302 (blocoAP)|      [06/06/2022, 06/0...|[08/06/2022, 12/0...|$ 1200,0 reais|\n",
            "|D401 (blocoAP)|      [07/06/2022, 07/0...|[07/06/2022, 09/0...|$ 1600,0 reais|\n",
            "|D401 (blocoAP)|      [07/06/2022, 07/0...|[07/06/2022, 09/0...|$ 1300,0 reais|\n",
            "|D402 (blocoAP)|      [08/06/2022, 08/0...|[10/06/2022, 14/0...|$ 1700,0 reais|\n",
            "|D402 (blocoAP)|      [08/06/2022, 08/0...|[10/06/2022, 14/0...|$ 1400,0 reais|\n",
            "|E501 (blocoAP)|      [09/06/2022, 09/0...|[10/06/2022, 09/0...|$ 1800,0 reais|\n",
            "|E501 (blocoAP)|      [09/06/2022, 09/0...|[10/06/2022, 09/0...|$ 1500,0 reais|\n",
            "|E502 (blocoAP)|      [10/06/2022, 10/0...|[16/06/2022, 12/0...|$ 1900,0 reais|\n",
            "|E502 (blocoAP)|      [10/06/2022, 10/0...|[16/06/2022, 12/0...|$ 1600,0 reais|\n",
            "+--------------+--------------------------+--------------------+--------------+\n",
            "only showing top 20 rows\n",
            "\n"
          ]
        }
      ]
    },
    {
      "cell_type": "code",
      "source": [
        "from pyspark.sql.functions import col, explode\n",
        "\n",
        "def processar_coluna_array(df, coluna):\n",
        "    \"\"\"\n",
        "    Função para ler e manipular colunas do tipo array em um DataFrame do PySpark.\n",
        "\n",
        "    Parâmetros:\n",
        "        df (DataFrame): DataFrame do PySpark.\n",
        "        coluna (str): Nome da coluna que contém o array.\n",
        "\n",
        "    Retorno:\n",
        "        DataFrame processado com os elementos do array separados em linhas.\n",
        "    \"\"\"\n",
        "    # Verificar se a coluna existe\n",
        "    if coluna not in df.columns:\n",
        "        raise ValueError(f\"A coluna '{coluna}' não existe no DataFrame.\")\n",
        "\n",
        "    # Explodir os valores do array em linhas separadas\n",
        "    df_exploded = df.select(explode(col(coluna)).alias(f\"{coluna}_elemento\"))\n",
        "\n",
        "    return df_exploded\n"
      ],
      "metadata": {
        "id": "0Wcssbp6Et8x"
      },
      "execution_count": 26,
      "outputs": []
    },
    {
      "source": [
        "\n",
        "df_array_processado = processar_coluna_array(df_exploded, \"valor_aluguel\")"
      ],
      "cell_type": "code",
      "metadata": {
        "id": "kkI2IEryE9MJ"
      },
      "execution_count": 32,
      "outputs": []
    },
    {
      "cell_type": "code",
      "source": [
        "df_array_processado.show()"
      ],
      "metadata": {
        "colab": {
          "base_uri": "https://localhost:8080/"
        },
        "id": "-_WXGsnoE_aT",
        "outputId": "42923d0d-b80f-49b1-fddf-84c273c9242d"
      },
      "execution_count": 33,
      "outputs": [
        {
          "output_type": "stream",
          "name": "stdout",
          "text": [
            "+----------------------+\n",
            "|valor_aluguel_elemento|\n",
            "+----------------------+\n",
            "|        $ 1000,0 reais|\n",
            "|        $ 2500,0 reais|\n",
            "|        $ 1100,0 reais|\n",
            "|        $ 2600,0 reais|\n",
            "|        $ 1200,0 reais|\n",
            "|        $ 2700,0 reais|\n",
            "|        $ 1300,0 reais|\n",
            "|        $ 2800,0 reais|\n",
            "|        $ 1400,0 reais|\n",
            "|        $ 2900,0 reais|\n",
            "|        $ 1500,0 reais|\n",
            "|        $ 1200,0 reais|\n",
            "|        $ 1600,0 reais|\n",
            "|        $ 1300,0 reais|\n",
            "|        $ 1700,0 reais|\n",
            "|        $ 1400,0 reais|\n",
            "|        $ 1800,0 reais|\n",
            "|        $ 1500,0 reais|\n",
            "|        $ 1900,0 reais|\n",
            "|        $ 1600,0 reais|\n",
            "+----------------------+\n",
            "only showing top 20 rows\n",
            "\n"
          ]
        }
      ]
    },
    {
      "cell_type": "code",
      "source": [
        "# Exibir o resultado\n",
        "df_array_processado.show()"
      ],
      "metadata": {
        "colab": {
          "base_uri": "https://localhost:8080/"
        },
        "id": "sS-9JS0YFP-V",
        "outputId": "e4281a35-9af3-4afd-fddc-a69cb239ac97"
      },
      "execution_count": 34,
      "outputs": [
        {
          "output_type": "stream",
          "name": "stdout",
          "text": [
            "+----------------------+\n",
            "|valor_aluguel_elemento|\n",
            "+----------------------+\n",
            "|        $ 1000,0 reais|\n",
            "|        $ 2500,0 reais|\n",
            "|        $ 1100,0 reais|\n",
            "|        $ 2600,0 reais|\n",
            "|        $ 1200,0 reais|\n",
            "|        $ 2700,0 reais|\n",
            "|        $ 1300,0 reais|\n",
            "|        $ 2800,0 reais|\n",
            "|        $ 1400,0 reais|\n",
            "|        $ 2900,0 reais|\n",
            "|        $ 1500,0 reais|\n",
            "|        $ 1200,0 reais|\n",
            "|        $ 1600,0 reais|\n",
            "|        $ 1300,0 reais|\n",
            "|        $ 1700,0 reais|\n",
            "|        $ 1400,0 reais|\n",
            "|        $ 1800,0 reais|\n",
            "|        $ 1500,0 reais|\n",
            "|        $ 1900,0 reais|\n",
            "|        $ 1600,0 reais|\n",
            "+----------------------+\n",
            "only showing top 20 rows\n",
            "\n"
          ]
        }
      ]
    }
  ]
}