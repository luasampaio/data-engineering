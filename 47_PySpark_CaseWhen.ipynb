{
  "nbformat": 4,
  "nbformat_minor": 0,
  "metadata": {
    "colab": {
      "provenance": [],
      "authorship_tag": "ABX9TyMcPL4kGmDwk3fy3aCUVYb2",
      "include_colab_link": true
    },
    "kernelspec": {
      "name": "python3",
      "display_name": "Python 3"
    },
    "language_info": {
      "name": "python"
    }
  },
  "cells": [
    {
      "cell_type": "markdown",
      "metadata": {
        "id": "view-in-github",
        "colab_type": "text"
      },
      "source": [
        "<a href=\"https://colab.research.google.com/github/luasampaio/data-engineering/blob/main/47_PySpark_CaseWhen.ipynb\" target=\"_parent\"><img src=\"https://colab.research.google.com/assets/colab-badge.svg\" alt=\"Open In Colab\"/></a>"
      ]
    },
    {
      "cell_type": "code",
      "execution_count": null,
      "metadata": {
        "colab": {
          "base_uri": "https://localhost:8080/"
        },
        "id": "HmSy0ZeXzMgb",
        "outputId": "ddc6709b-ebb8-414c-ec09-6f11a8ae33cf"
      },
      "outputs": [
        {
          "output_type": "stream",
          "name": "stdout",
          "text": [
            "root\n",
            " |-- employee_name: string (nullable = true)\n",
            " |-- department: string (nullable = true)\n",
            " |-- state: string (nullable = true)\n",
            " |-- salary: long (nullable = true)\n",
            " |-- age: long (nullable = true)\n",
            " |-- bonus: long (nullable = true)\n",
            "\n",
            "+-------------+----------+-----+------+---+-----+\n",
            "|employee_name|department|state|salary|age|bonus|\n",
            "+-------------+----------+-----+------+---+-----+\n",
            "|Michael      |Sales     |NY   |90000 |34 |10000|\n",
            "|Michael      |Sales     |NY   |86000 |56 |20000|\n",
            "|Luciana      |Sales     |CA   |81000 |30 |23000|\n",
            "|Maria        |Finance   |CA   |90000 |24 |23000|\n",
            "|Arthur       |Finance   |CA   |99000 |40 |24000|\n",
            "|Scott        |Finance   |NY   |83000 |36 |19000|\n",
            "|Jen          |Finance   |NY   |79000 |53 |15000|\n",
            "|Jeff         |Marketing |CA   |80000 |25 |18000|\n",
            "|Kumar        |Marketing |NY   |91000 |50 |21000|\n",
            "+-------------+----------+-----+------+---+-----+\n",
            "\n",
            "2025-03-18 05:50:19.014435\n",
            "+-------------+----------+-----+------+------+-----+\n",
            "|employee_name|department|state|salary|   age|bonus|\n",
            "+-------------+----------+-----+------+------+-----+\n",
            "|      Michael|     Sales|   NY| 90000|adulto|10000|\n",
            "|      Michael|     Sales|   NY| 86000|adulto|20000|\n",
            "|      Luciana|     Sales|   CA| 81000|adulto|23000|\n",
            "|        Maria|   Finance|   CA| 90000|  NULL|23000|\n",
            "|       Arthur|   Finance|   CA| 99000|adulto|24000|\n",
            "|        Scott|   Finance|   NY| 83000|adulto|19000|\n",
            "|          Jen|   Finance|   NY| 79000|adulto|15000|\n",
            "|         Jeff| Marketing|   CA| 80000|  NULL|18000|\n",
            "|        Kumar| Marketing|   NY| 91000|adulto|21000|\n",
            "+-------------+----------+-----+------+------+-----+\n",
            "\n",
            "+-------------+----------+-----+------+---+-----+-----------+\n",
            "|employee_name|department|state|salary|age|bonus|DEFAULT_COL|\n",
            "+-------------+----------+-----+------+---+-----+-----------+\n",
            "|      Michael|     Sales|   NY| 90000| 34|10000|       NULL|\n",
            "|      Michael|     Sales|   NY| 86000| 56|20000|       NULL|\n",
            "|      Luciana|     Sales|   CA| 81000| 30|23000|       NULL|\n",
            "|        Maria|   Finance|   CA| 90000| 24|23000|       NULL|\n",
            "|       Arthur|   Finance|   CA| 99000| 40|24000|       NULL|\n",
            "|        Scott|   Finance|   NY| 83000| 36|19000|       NULL|\n",
            "|          Jen|   Finance|   NY| 79000| 53|15000|       NULL|\n",
            "|         Jeff| Marketing|   CA| 80000| 25|18000|       NULL|\n",
            "|        Kumar| Marketing|   NY| 91000| 50|21000|       NULL|\n",
            "+-------------+----------+-----+------+---+-----+-----------+\n",
            "\n",
            "+-------------+----------+-----+------+---+-----+--------------------+\n",
            "|employee_name|department|state|salary|age|bonus|         DEFAULT_COL|\n",
            "+-------------+----------+-----+------+---+-----+--------------------+\n",
            "|      Michael|     Sales|   NY| 90000| 34|10000|2025-03-18 05:50:...|\n",
            "|      Michael|     Sales|   NY| 86000| 56|20000|2025-03-18 05:50:...|\n",
            "|      Luciana|     Sales|   CA| 81000| 30|23000|2025-03-18 05:50:...|\n",
            "|        Maria|   Finance|   CA| 90000| 24|23000|2025-03-18 05:50:...|\n",
            "|       Arthur|   Finance|   CA| 99000| 40|24000|2025-03-18 05:50:...|\n",
            "|        Scott|   Finance|   NY| 83000| 36|19000|2025-03-18 05:50:...|\n",
            "|          Jen|   Finance|   NY| 79000| 53|15000|2025-03-18 05:50:...|\n",
            "|         Jeff| Marketing|   CA| 80000| 25|18000|2025-03-18 05:50:...|\n",
            "|        Kumar| Marketing|   NY| 91000| 50|21000|2025-03-18 05:50:...|\n",
            "+-------------+----------+-----+------+---+-----+--------------------+\n",
            "\n",
            "+----------+-----+-----------+----------+\n",
            "|department|state|sum(salary)|sum(bonus)|\n",
            "+----------+-----+-----------+----------+\n",
            "|     Sales|   CA|      81000|     23000|\n",
            "|   Finance|   CA|     189000|     47000|\n",
            "|     Sales|   NY|     176000|     30000|\n",
            "|   Finance|   NY|     162000|     34000|\n",
            "| Marketing|   NY|      91000|     21000|\n",
            "| Marketing|   CA|      80000|     18000|\n",
            "+----------+-----+-----------+----------+\n",
            "\n"
          ]
        }
      ],
      "source": [
        "\n",
        "\n",
        "#Create PySpark\n",
        "from pyspark.sql import SparkSession\n",
        "from pyspark.sql import SparkSession\n",
        "spark = SparkSession.builder.appName(\"Spark DataFrames\").getOrCreate()\n",
        "\n",
        "simpleData = [(\"Michael\",\"Sales\",\"NY\",90000,34,10000),\n",
        "    (\"Michael\",\"Sales\",\"NY\",86000,56,20000),\n",
        "    (\"Luciana\",\"Sales\",\"CA\",81000,30,23000),\n",
        "    (\"Maria\",\"Finance\",\"CA\",90000,24,23000),\n",
        "    (\"Arthur\",\"Finance\",\"CA\",99000,40,24000),\n",
        "    (\"Scott\",\"Finance\",\"NY\",83000,36,19000),\n",
        "    (\"Jen\",\"Finance\",\"NY\",79000,53,15000),\n",
        "    (\"Jeff\",\"Marketing\",\"CA\",80000,25,18000),\n",
        "    (\"Kumar\",\"Marketing\",\"NY\",91000,50,21000)\n",
        "  ]\n",
        "\n",
        "schema = [\"employee_name\",\"department\",\"state\",\"salary\",\"age\",\"bonus\"]\n",
        "df = spark.createDataFrame(data=simpleData, schema = schema)\n",
        "df.printSchema()\n",
        "df.show(truncate=False)\n",
        "\n",
        "import datetime\n",
        "dt = datetime.datetime.now()\n",
        "print(dt)\n",
        "\n",
        "\n",
        "from pyspark.sql.functions import lit\n",
        "from pyspark.sql.functions import when\n",
        "df.withColumn(\"age\", \\\n",
        "  when((df.age < 30), lit(None)) \\\n",
        "    .when((df.age >= 18) & (df.age <= 60), lit(\"adulto\")) \\\n",
        "    .otherwise(lit(\"idoso\")) \\\n",
        "  ).show()\n",
        "\n",
        "# Add New column with NULL\n",
        "df.withColumn(\"DEFAULT_COL\", lit(None)) \\\n",
        "  .show()\n",
        "\n",
        "# Add New column with NULL\n",
        "df.withColumn(\"DEFAULT_COL\", lit(dt)) \\\n",
        "  .show()\n",
        "\n",
        "from pyspark.sql.functions import sum,avg,max,min,mean,count\n",
        "#//GroupBy on multiple columns\n",
        "df.groupBy(\"department\",\"state\") \\\n",
        "    .sum(\"salary\",\"bonus\") \\\n",
        "    .show()\n",
        "\n",
        "#subtptal\n",
        "\n",
        "#df.groupBy(\"department\").sum(\"salary\").show(truncate=False)\n"
      ]
    },
    {
      "cell_type": "code",
      "source": [
        "import datetime\n",
        "dt = datetime.datetime.now()\n",
        "print(dt)"
      ],
      "metadata": {
        "id": "kvLZo0zVzh1j",
        "outputId": "9bbf3a7b-645c-4821-fcbd-2b29ef2e70b6",
        "colab": {
          "base_uri": "https://localhost:8080/"
        }
      },
      "execution_count": null,
      "outputs": [
        {
          "output_type": "stream",
          "name": "stdout",
          "text": [
            "2025-03-18 05:50:59.508279\n"
          ]
        }
      ]
    },
    {
      "cell_type": "markdown",
      "source": [],
      "metadata": {
        "id": "LxmCaXimuQ-V"
      }
    }
  ]
}