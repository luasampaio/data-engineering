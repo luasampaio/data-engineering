{
  "nbformat": 4,
  "nbformat_minor": 0,
  "metadata": {
    "colab": {
      "provenance": [],
      "authorship_tag": "ABX9TyOUSgy66MajdCQgiustbhdV",
      "include_colab_link": true
    },
    "kernelspec": {
      "name": "python3",
      "display_name": "Python 3"
    },
    "language_info": {
      "name": "python"
    }
  },
  "cells": [
    {
      "cell_type": "markdown",
      "metadata": {
        "id": "view-in-github",
        "colab_type": "text"
      },
      "source": [
        "<a href=\"https://colab.research.google.com/github/luasampaio/data-engineering/blob/main/1_AutomatizeFunctions.ipynb\" target=\"_parent\"><img src=\"https://colab.research.google.com/assets/colab-badge.svg\" alt=\"Open In Colab\"/></a>"
      ]
    },
    {
      "cell_type": "markdown",
      "source": [
        "# Removendo dados duplicados"
      ],
      "metadata": {
        "id": "KShD5kf3d43A"
      }
    },
    {
      "cell_type": "code",
      "source": [
        "import pandas as pd"
      ],
      "metadata": {
        "id": "Dw2gAy-Ud5aJ"
      },
      "execution_count": 2,
      "outputs": []
    },
    {
      "cell_type": "code",
      "execution_count": 3,
      "metadata": {
        "id": "5503XBDWclwX"
      },
      "outputs": [],
      "source": [
        "def remove_duplicates(df, subset=None):\n",
        "    return df.drop_duplicates(subset=subset)"
      ]
    },
    {
      "source": [
        "# Example dataset with duplicates, ensuring consistent lengths\n",
        "data = {'Name': ['Alice', 'Bob', 'Alice', 'David','Luciana','Angelica'],\n",
        "        'Age': [25, 30, 25, 22,23,32],\n",
        "        'Salary': [50000, 60000, 50000, 45000, 45000, 45000]}\n",
        "df = pd.DataFrame(data)"
      ],
      "cell_type": "code",
      "metadata": {
        "id": "RaM2jcmweBjz"
      },
      "execution_count": 5,
      "outputs": []
    },
    {
      "cell_type": "code",
      "source": [
        "data"
      ],
      "metadata": {
        "colab": {
          "base_uri": "https://localhost:8080/"
        },
        "id": "5jY1PkPDeFvH",
        "outputId": "326bdc5d-9661-42a9-c4f5-61ce95a7a327"
      },
      "execution_count": 6,
      "outputs": [
        {
          "output_type": "execute_result",
          "data": {
            "text/plain": [
              "{'Name': ['Alice', 'Bob', 'Alice', 'David', 'Luciana', 'Angelica'],\n",
              " 'Age': [25, 30, 25, 22, 23, 32],\n",
              " 'Salary': [50000, 60000, 50000, 45000, 45000, 45000]}"
            ]
          },
          "metadata": {},
          "execution_count": 6
        }
      ]
    },
    {
      "cell_type": "code",
      "source": [
        "cleaned_df = remove_duplicates(df, subset=['Name'])\n",
        "print(cleaned_df)"
      ],
      "metadata": {
        "colab": {
          "base_uri": "https://localhost:8080/"
        },
        "id": "SrxJRwnCeLyH",
        "outputId": "0bb20b30-fd29-4ed4-e91e-9a9582964442"
      },
      "execution_count": 7,
      "outputs": [
        {
          "output_type": "stream",
          "name": "stdout",
          "text": [
            "       Name  Age  Salary\n",
            "0     Alice   25   50000\n",
            "1       Bob   30   60000\n",
            "3     David   22   45000\n",
            "4   Luciana   23   45000\n",
            "5  Angelica   32   45000\n"
          ]
        }
      ]
    },
    {
      "cell_type": "markdown",
      "source": [
        "Automating Data Type Transformation"
      ],
      "metadata": {
        "id": "mEAH52Eah_nX"
      }
    },
    {
      "cell_type": "code",
      "source": [
        "def transform_data_types(df, col_types):\n",
        "    for col, dtype in col_types.items():\n",
        "        df[col] = df[col].astype(dtype)\n",
        "    return df"
      ],
      "metadata": {
        "id": "H1QsExI_elHv"
      },
      "execution_count": 8,
      "outputs": []
    },
    {
      "cell_type": "code",
      "source": [
        "print(df.dtypes)"
      ],
      "metadata": {
        "colab": {
          "base_uri": "https://localhost:8080/"
        },
        "id": "wKYvu-dhiVUH",
        "outputId": "1051da1a-0f67-42fe-bda5-3e8f9a2339d2"
      },
      "execution_count": 10,
      "outputs": [
        {
          "output_type": "stream",
          "name": "stdout",
          "text": [
            "Name      object\n",
            "Age        int64\n",
            "Salary     int64\n",
            "dtype: object\n"
          ]
        }
      ]
    },
    {
      "cell_type": "markdown",
      "source": [
        "### Definição de tipo de dados\n"
      ],
      "metadata": {
        "id": "_6AnOboMix9q"
      }
    },
    {
      "cell_type": "code",
      "source": [
        "col_types = {'Age': 'int', 'Salary': 'float'}"
      ],
      "metadata": {
        "id": "oCLJxO69iZUE"
      },
      "execution_count": 11,
      "outputs": []
    },
    {
      "cell_type": "code",
      "source": [
        "cleaned_df = transform_data_types(df, col_types)\n"
      ],
      "metadata": {
        "id": "5LNSmtHsigHu"
      },
      "execution_count": 13,
      "outputs": []
    },
    {
      "cell_type": "code",
      "source": [
        "print(cleaned_df.dtypes)"
      ],
      "metadata": {
        "colab": {
          "base_uri": "https://localhost:8080/"
        },
        "id": "KGq9ykAqioo6",
        "outputId": "a0f541a3-4da8-405f-f779-fe19afc0b3e8"
      },
      "execution_count": 15,
      "outputs": [
        {
          "output_type": "stream",
          "name": "stdout",
          "text": [
            "Name       object\n",
            "Age         int64\n",
            "Salary    float64\n",
            "dtype: object\n"
          ]
        }
      ]
    },
    {
      "cell_type": "markdown",
      "source": [
        "Função"
      ],
      "metadata": {
        "id": "z8ksGZ-yjSHJ"
      }
    },
    {
      "cell_type": "code",
      "source": [
        "import pandas as pd\n",
        "import numpy as np\n",
        "\n",
        "# Função para lidar com valores ausentes\n",
        "def handle_missing_values(df, method='mean', fill_value=None):\n",
        "    if method == 'mean':\n",
        "        for col in df.select_dtypes(include=[np.number]).columns:\n",
        "            df[col] = df[col].fillna(df[col].mean())\n",
        "    elif method == 'median':\n",
        "        for col in df.select_dtypes(include=[np.number]).columns:\n",
        "            df[col] = df[col].fillna(df[col].median())\n",
        "    elif method == 'mode':\n",
        "        for col in df.columns:\n",
        "            df[col] = df[col].fillna(df[col].mode()[0])\n",
        "    elif method == 'constant':\n",
        "        df = df.fillna(fill_value)\n",
        "    elif method == 'drop':\n",
        "        df = df.dropna()\n",
        "    else:\n",
        "        raise ValueError(\"Método inválido para lidar com valores ausentes.\")\n",
        "    return df\n",
        "\n",
        "# Função para remover duplicatas\n",
        "def remove_duplicates(df, subset=None):\n",
        "    return df.drop_duplicates(subset=subset)\n",
        "\n",
        "# Função para transformar tipos de dados\n",
        "def transform_data_types(df, col_types):\n",
        "    for col, dtype in col_types.items():\n",
        "        # Preencher valores ausentes com um valor padrão antes da conversão\n",
        "        if dtype == 'int':\n",
        "            df[col] = df[col].fillna(0).astype(dtype)\n",
        "        elif dtype == 'float':\n",
        "            df[col] = df[col].fillna(0.0).astype(dtype)\n",
        "        else:\n",
        "            df[col] = df[col].astype(dtype)\n",
        "    return df\n",
        "\n",
        "# Pipeline de limpeza de dados\n",
        "def data_cleaning_pipeline(df, missing_values_method='mean', fill_value=None, subset=None, col_types=None):\n",
        "    # Lidar com valores ausentes\n",
        "    df = handle_missing_values(df, method=missing_values_method, fill_value=fill_value)\n",
        "\n",
        "    # Remover duplicatas\n",
        "    df = remove_duplicates(df, subset=subset)\n",
        "\n",
        "    # Transformar tipos de dados\n",
        "    if col_types:\n",
        "        df = transform_data_types(df, col_types)\n",
        "\n",
        "    return df\n",
        "\n",
        "# Exemplo de conjunto de dados com vários problemas\n",
        "data = {\n",
        "    'Nome': ['Alice', 'Bob', None, 'Alice'],\n",
        "    'Idade': ['25', None, '30', '22'],\n",
        "    'Salário': [50000, 60000, None, 50000]\n",
        "}\n",
        "\n",
        "df = pd.DataFrame(data)\n",
        "\n",
        "# Defina os tipos de dados e execute o pipeline\n",
        "col_types = {'Idade': 'int', 'Salário': 'float'}\n",
        "cleaned_df = data_cleaning_pipeline(df, missing_values_method='mean', subset=['Nome'], col_types=col_types)\n",
        "\n",
        "print(cleaned_df)\n"
      ],
      "metadata": {
        "colab": {
          "base_uri": "https://localhost:8080/"
        },
        "id": "r4E1L9KNkdyN",
        "outputId": "acb2733f-6c88-40fc-dbab-6f0411222b4d"
      },
      "execution_count": 22,
      "outputs": [
        {
          "output_type": "stream",
          "name": "stdout",
          "text": [
            "    Nome  Idade       Salário\n",
            "0  Alice     25  50000.000000\n",
            "1    Bob      0  60000.000000\n",
            "2   None     30  53333.333333\n"
          ]
        },
        {
          "output_type": "stream",
          "name": "stderr",
          "text": [
            "<ipython-input-22-2bc0ecbd4b11>:32: SettingWithCopyWarning: \n",
            "A value is trying to be set on a copy of a slice from a DataFrame.\n",
            "Try using .loc[row_indexer,col_indexer] = value instead\n",
            "\n",
            "See the caveats in the documentation: https://pandas.pydata.org/pandas-docs/stable/user_guide/indexing.html#returning-a-view-versus-a-copy\n",
            "  df[col] = df[col].fillna(0).astype(dtype)\n",
            "<ipython-input-22-2bc0ecbd4b11>:34: SettingWithCopyWarning: \n",
            "A value is trying to be set on a copy of a slice from a DataFrame.\n",
            "Try using .loc[row_indexer,col_indexer] = value instead\n",
            "\n",
            "See the caveats in the documentation: https://pandas.pydata.org/pandas-docs/stable/user_guide/indexing.html#returning-a-view-versus-a-copy\n",
            "  df[col] = df[col].fillna(0.0).astype(dtype)\n"
          ]
        }
      ]
    },
    {
      "cell_type": "code",
      "source": [
        "import pandas as pd\n",
        "import numpy as np\n",
        "\n",
        "# Função para lidar com valores ausentes\n",
        "def handle_missing_values(df, method='mean', fill_value=None):\n",
        "    if method == 'mean':\n",
        "        for col in df.select_dtypes(include=[np.number]).columns:\n",
        "            df.loc[:, col] = df[col].fillna(df[col].mean())\n",
        "    elif method == 'median':\n",
        "        for col in df.select_dtypes(include=[np.number]).columns:\n",
        "            df.loc[:, col] = df[col].fillna(df[col].median())\n",
        "    elif method == 'mode':\n",
        "        for col in df.columns:\n",
        "            df.loc[:, col] = df[col].fillna(df[col].mode()[0])\n",
        "    elif method == 'constant':\n",
        "        df = df.fillna(fill_value)\n",
        "    elif method == 'drop':\n",
        "        df = df.dropna()\n",
        "    else:\n",
        "        raise ValueError(\"Método inválido para lidar com valores ausentes.\")\n",
        "    return df\n",
        "\n",
        "# Função para remover duplicatas\n",
        "def remove_duplicates(df, subset=None):\n",
        "    return df.drop_duplicates(subset=subset)\n",
        "\n",
        "# Função para transformar tipos de dados\n",
        "def transform_data_types(df, col_types):\n",
        "    for col, dtype in col_types.items():\n",
        "        # Preencher valores ausentes com um valor padrão antes da conversão\n",
        "        if dtype == 'int':\n",
        "            df.loc[:, col] = df[col].fillna(0).astype(dtype)\n",
        "        elif dtype == 'float':\n",
        "            df.loc[:, col] = df[col].fillna(0.0).astype(dtype)\n",
        "        else:\n",
        "            df.loc[:, col] = df[col].astype(dtype)\n",
        "    return df\n",
        "\n",
        "# Pipeline de limpeza de dados\n",
        "def data_cleaning_pipeline(df, missing_values_method='mean', fill_value=None, subset=None, col_types=None):\n",
        "    # Lidar com valores ausentes\n",
        "    df = handle_missing_values(df, method=missing_values_method, fill_value=fill_value)\n",
        "\n",
        "    # Remover duplicatas\n",
        "    df = remove_duplicates(df, subset=subset)\n",
        "\n",
        "    # Transformar tipos de dados\n",
        "    if col_types:\n",
        "        df = transform_data_types(df, col_types)\n",
        "\n",
        "    return df\n",
        "\n",
        "# Exemplo de conjunto de dados com vários problemas\n",
        "data = {\n",
        "    'Nome': ['Alice', 'Bob', None, 'Alice'],\n",
        "    'Idade': ['25', None, '30', '22'],\n",
        "    'Salário': [50000, 60000, None, 50000]\n",
        "}\n",
        "\n",
        "df = pd.DataFrame(data)\n",
        "\n",
        "# Defina os tipos de dados e execute o pipeline\n",
        "col_types = {'Idade': 'int', 'Salário': 'float'}\n",
        "cleaned_df = data_cleaning_pipeline(df, missing_values_method='mean', subset=['Nome'], col_types=col_types)\n",
        "\n",
        "print(cleaned_df)\n"
      ],
      "metadata": {
        "colab": {
          "base_uri": "https://localhost:8080/"
        },
        "id": "mTNxGuUWliaz",
        "outputId": "4ba3df03-7f72-477b-a787-509583502452"
      },
      "execution_count": 23,
      "outputs": [
        {
          "output_type": "stream",
          "name": "stdout",
          "text": [
            "    Nome Idade       Salário\n",
            "0  Alice    25  50000.000000\n",
            "1    Bob     0  60000.000000\n",
            "2   None    30  53333.333333\n"
          ]
        }
      ]
    },
    {
      "cell_type": "code",
      "source": [],
      "metadata": {
        "id": "SWyQTfPFmDoM"
      },
      "execution_count": null,
      "outputs": []
    }
  ]
}