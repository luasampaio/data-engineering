{
  "nbformat": 4,
  "nbformat_minor": 0,
  "metadata": {
    "colab": {
      "provenance": [],
      "authorship_tag": "ABX9TyNLTEHWREkH1TmmDw70pYzg",
      "include_colab_link": true
    },
    "kernelspec": {
      "name": "python3",
      "display_name": "Python 3"
    },
    "language_info": {
      "name": "python"
    }
  },
  "cells": [
    {
      "cell_type": "markdown",
      "metadata": {
        "id": "view-in-github",
        "colab_type": "text"
      },
      "source": [
        "<a href=\"https://colab.research.google.com/github/luasampaio/data-engineering/blob/main/15_ntb_analyticsSpark_Em_Desenvolvimento.ipynb\" target=\"_parent\"><img src=\"https://colab.research.google.com/assets/colab-badge.svg\" alt=\"Open In Colab\"/></a>"
      ]
    },
    {
      "cell_type": "markdown",
      "source": [
        "# Notebook em Desenvolvimento\n",
        "- 15.01.25\n",
        "- by Luciana Sampaio"
      ],
      "metadata": {
        "id": "UP_MBuBrBPc0"
      }
    },
    {
      "cell_type": "code",
      "execution_count": 1,
      "metadata": {
        "id": "o0sZ7GYOd90p"
      },
      "outputs": [],
      "source": [
        "from pyspark.sql import SparkSession\n",
        "import pyspark .sql.functions as F"
      ]
    },
    {
      "cell_type": "code",
      "source": [
        "\n",
        "spark = (\n",
        "    SparkSession.builder.appName('PySpark - LucianaSampaio')\n",
        "    .config('spark.sql.repl.eagerEval.enabled', True)\n",
        "    .getOrCreate()\n",
        ")"
      ],
      "metadata": {
        "id": "E38d1zFQe72i"
      },
      "execution_count": 2,
      "outputs": []
    },
    {
      "cell_type": "code",
      "source": [
        "import pandas as pd\n",
        "from google.colab import drive\n",
        "drive.mount('/content/drive')\n"
      ],
      "metadata": {
        "colab": {
          "base_uri": "https://localhost:8080/"
        },
        "id": "KozfBFZAe9k3",
        "outputId": "f15592d9-9586-4f31-d499-a53b6d575751"
      },
      "execution_count": 3,
      "outputs": [
        {
          "output_type": "stream",
          "name": "stdout",
          "text": [
            "Drive already mounted at /content/drive; to attempt to forcibly remount, call drive.mount(\"/content/drive\", force_remount=True).\n"
          ]
        }
      ]
    },
    {
      "cell_type": "code",
      "source": [
        "df = spark.read.csv('/content/drive/MyDrive/.Dataset/apps.csv', sep=',', encoding='UTF-8', header=True, inferSchema=True)\n",
        "df"
      ],
      "metadata": {
        "colab": {
          "base_uri": "https://localhost:8080/",
          "height": 529
        },
        "id": "C5WjGSp6fJHn",
        "outputId": "f07a2004-30aa-4699-da13-bdfe66cabdf8"
      },
      "execution_count": 4,
      "outputs": [
        {
          "output_type": "execute_result",
          "data": {
            "text/plain": [
              "+---+--------------------+--------------+------+-------+----+-----------+----+-----+--------------+--------------------+------------------+------------------+------------+\n",
              "|_c0|                 App|      Category|Rating|Reviews|Size|   Installs|Type|Price|Content Rating|              Genres|      Last Updated|       Current Ver| Android Ver|\n",
              "+---+--------------------+--------------+------+-------+----+-----------+----+-----+--------------+--------------------+------------------+------------------+------------+\n",
              "|  0|Photo Editor & Ca...|ART_AND_DESIGN|   4.1|    159|19.0|    10,000+|Free|    0|      Everyone|        Art & Design|   January 7, 2018|             1.0.0|4.0.3 and up|\n",
              "|  1| Coloring book moana|ART_AND_DESIGN|   3.9|    967|14.0|   500,000+|Free|    0|      Everyone|Art & Design;Pret...|  January 15, 2018|             2.0.0|4.0.3 and up|\n",
              "|  2|U Launcher Lite –...|ART_AND_DESIGN|   4.7|  87510| 8.7| 5,000,000+|Free|    0|      Everyone|        Art & Design|    August 1, 2018|             1.2.4|4.0.3 and up|\n",
              "|  3|Sketch - Draw & P...|ART_AND_DESIGN|   4.5| 215644|25.0|50,000,000+|Free|    0|          Teen|        Art & Design|      June 8, 2018|Varies with device|  4.2 and up|\n",
              "|  4|Pixel Draw - Numb...|ART_AND_DESIGN|   4.3|    967| 2.8|   100,000+|Free|    0|      Everyone|Art & Design;Crea...|     June 20, 2018|               1.1|  4.4 and up|\n",
              "|  5|Paper flowers ins...|ART_AND_DESIGN|   4.4|    167| 5.6|    50,000+|Free|    0|      Everyone|        Art & Design|    March 26, 2017|                 1|  2.3 and up|\n",
              "|  6|Smoke Effect Phot...|ART_AND_DESIGN|   3.8|    178|19.0|    50,000+|Free|    0|      Everyone|        Art & Design|    April 26, 2018|               1.1|4.0.3 and up|\n",
              "|  7|    Infinite Painter|ART_AND_DESIGN|   4.1|  36815|29.0| 1,000,000+|Free|    0|      Everyone|        Art & Design|     June 14, 2018|          6.1.61.1|  4.2 and up|\n",
              "|  8|Garden Coloring Book|ART_AND_DESIGN|   4.4|  13791|33.0| 1,000,000+|Free|    0|      Everyone|        Art & Design|September 20, 2017|             2.9.2|  3.0 and up|\n",
              "|  9|Kids Paint Free -...|ART_AND_DESIGN|   4.7|    121| 3.1|    10,000+|Free|    0|      Everyone|Art & Design;Crea...|      July 3, 2018|               2.8|4.0.3 and up|\n",
              "| 10|Text on Photo - F...|ART_AND_DESIGN|   4.4|  13880|28.0| 1,000,000+|Free|    0|      Everyone|        Art & Design|  October 27, 2017|             1.0.4|  4.1 and up|\n",
              "| 11|Name Art Photo Ed...|ART_AND_DESIGN|   4.4|   8788|12.0| 1,000,000+|Free|    0|      Everyone|        Art & Design|     July 31, 2018|            1.0.15|  4.0 and up|\n",
              "| 12|Tattoo Name On My...|ART_AND_DESIGN|   4.2|  44829|20.0|10,000,000+|Free|    0|          Teen|        Art & Design|     April 2, 2018|               3.8|  4.1 and up|\n",
              "| 13|Mandala Coloring ...|ART_AND_DESIGN|   4.6|   4326|21.0|   100,000+|Free|    0|      Everyone|        Art & Design|     June 26, 2018|             1.0.4|  4.4 and up|\n",
              "| 14|3D Color Pixel by...|ART_AND_DESIGN|   4.4|   1518|37.0|   100,000+|Free|    0|      Everyone|        Art & Design|    August 3, 2018|             1.2.3|  2.3 and up|\n",
              "| 15|Learn To Draw Kaw...|ART_AND_DESIGN|   3.2|     55| 2.7|     5,000+|Free|    0|      Everyone|        Art & Design|      June 6, 2018|              NULL|  4.2 and up|\n",
              "| 16|Photo Designer - ...|ART_AND_DESIGN|   4.7|   3632| 5.5|   500,000+|Free|    0|      Everyone|        Art & Design|     July 31, 2018|               3.1|  4.1 and up|\n",
              "| 17|350 Diy Room Deco...|ART_AND_DESIGN|   4.5|     27|17.0|    10,000+|Free|    0|      Everyone|        Art & Design|  November 7, 2017|                 1|  2.3 and up|\n",
              "| 18|FlipaClip - Carto...|ART_AND_DESIGN|   4.3| 194216|39.0| 5,000,000+|Free|    0|      Everyone|        Art & Design|    August 3, 2018|             2.2.5|4.0.3 and up|\n",
              "| 19|        ibis Paint X|ART_AND_DESIGN|   4.6| 224399|31.0|10,000,000+|Free|    0|      Everyone|        Art & Design|     July 30, 2018|             5.5.4|  4.1 and up|\n",
              "+---+--------------------+--------------+------+-------+----+-----------+----+-----+--------------+--------------------+------------------+------------------+------------+\n",
              "only showing top 20 rows"
            ],
            "text/html": [
              "<table border='1'>\n",
              "<tr><th>_c0</th><th>App</th><th>Category</th><th>Rating</th><th>Reviews</th><th>Size</th><th>Installs</th><th>Type</th><th>Price</th><th>Content Rating</th><th>Genres</th><th>Last Updated</th><th>Current Ver</th><th>Android Ver</th></tr>\n",
              "<tr><td>0</td><td>Photo Editor &amp; Ca...</td><td>ART_AND_DESIGN</td><td>4.1</td><td>159</td><td>19.0</td><td>10,000+</td><td>Free</td><td>0</td><td>Everyone</td><td>Art &amp; Design</td><td>January 7, 2018</td><td>1.0.0</td><td>4.0.3 and up</td></tr>\n",
              "<tr><td>1</td><td>Coloring book moana</td><td>ART_AND_DESIGN</td><td>3.9</td><td>967</td><td>14.0</td><td>500,000+</td><td>Free</td><td>0</td><td>Everyone</td><td>Art &amp; Design;Pret...</td><td>January 15, 2018</td><td>2.0.0</td><td>4.0.3 and up</td></tr>\n",
              "<tr><td>2</td><td>U Launcher Lite &ndash;...</td><td>ART_AND_DESIGN</td><td>4.7</td><td>87510</td><td>8.7</td><td>5,000,000+</td><td>Free</td><td>0</td><td>Everyone</td><td>Art &amp; Design</td><td>August 1, 2018</td><td>1.2.4</td><td>4.0.3 and up</td></tr>\n",
              "<tr><td>3</td><td>Sketch - Draw &amp; P...</td><td>ART_AND_DESIGN</td><td>4.5</td><td>215644</td><td>25.0</td><td>50,000,000+</td><td>Free</td><td>0</td><td>Teen</td><td>Art &amp; Design</td><td>June 8, 2018</td><td>Varies with device</td><td>4.2 and up</td></tr>\n",
              "<tr><td>4</td><td>Pixel Draw - Numb...</td><td>ART_AND_DESIGN</td><td>4.3</td><td>967</td><td>2.8</td><td>100,000+</td><td>Free</td><td>0</td><td>Everyone</td><td>Art &amp; Design;Crea...</td><td>June 20, 2018</td><td>1.1</td><td>4.4 and up</td></tr>\n",
              "<tr><td>5</td><td>Paper flowers ins...</td><td>ART_AND_DESIGN</td><td>4.4</td><td>167</td><td>5.6</td><td>50,000+</td><td>Free</td><td>0</td><td>Everyone</td><td>Art &amp; Design</td><td>March 26, 2017</td><td>1</td><td>2.3 and up</td></tr>\n",
              "<tr><td>6</td><td>Smoke Effect Phot...</td><td>ART_AND_DESIGN</td><td>3.8</td><td>178</td><td>19.0</td><td>50,000+</td><td>Free</td><td>0</td><td>Everyone</td><td>Art &amp; Design</td><td>April 26, 2018</td><td>1.1</td><td>4.0.3 and up</td></tr>\n",
              "<tr><td>7</td><td>Infinite Painter</td><td>ART_AND_DESIGN</td><td>4.1</td><td>36815</td><td>29.0</td><td>1,000,000+</td><td>Free</td><td>0</td><td>Everyone</td><td>Art &amp; Design</td><td>June 14, 2018</td><td>6.1.61.1</td><td>4.2 and up</td></tr>\n",
              "<tr><td>8</td><td>Garden Coloring Book</td><td>ART_AND_DESIGN</td><td>4.4</td><td>13791</td><td>33.0</td><td>1,000,000+</td><td>Free</td><td>0</td><td>Everyone</td><td>Art &amp; Design</td><td>September 20, 2017</td><td>2.9.2</td><td>3.0 and up</td></tr>\n",
              "<tr><td>9</td><td>Kids Paint Free -...</td><td>ART_AND_DESIGN</td><td>4.7</td><td>121</td><td>3.1</td><td>10,000+</td><td>Free</td><td>0</td><td>Everyone</td><td>Art &amp; Design;Crea...</td><td>July 3, 2018</td><td>2.8</td><td>4.0.3 and up</td></tr>\n",
              "<tr><td>10</td><td>Text on Photo - F...</td><td>ART_AND_DESIGN</td><td>4.4</td><td>13880</td><td>28.0</td><td>1,000,000+</td><td>Free</td><td>0</td><td>Everyone</td><td>Art &amp; Design</td><td>October 27, 2017</td><td>1.0.4</td><td>4.1 and up</td></tr>\n",
              "<tr><td>11</td><td>Name Art Photo Ed...</td><td>ART_AND_DESIGN</td><td>4.4</td><td>8788</td><td>12.0</td><td>1,000,000+</td><td>Free</td><td>0</td><td>Everyone</td><td>Art &amp; Design</td><td>July 31, 2018</td><td>1.0.15</td><td>4.0 and up</td></tr>\n",
              "<tr><td>12</td><td>Tattoo Name On My...</td><td>ART_AND_DESIGN</td><td>4.2</td><td>44829</td><td>20.0</td><td>10,000,000+</td><td>Free</td><td>0</td><td>Teen</td><td>Art &amp; Design</td><td>April 2, 2018</td><td>3.8</td><td>4.1 and up</td></tr>\n",
              "<tr><td>13</td><td>Mandala Coloring ...</td><td>ART_AND_DESIGN</td><td>4.6</td><td>4326</td><td>21.0</td><td>100,000+</td><td>Free</td><td>0</td><td>Everyone</td><td>Art &amp; Design</td><td>June 26, 2018</td><td>1.0.4</td><td>4.4 and up</td></tr>\n",
              "<tr><td>14</td><td>3D Color Pixel by...</td><td>ART_AND_DESIGN</td><td>4.4</td><td>1518</td><td>37.0</td><td>100,000+</td><td>Free</td><td>0</td><td>Everyone</td><td>Art &amp; Design</td><td>August 3, 2018</td><td>1.2.3</td><td>2.3 and up</td></tr>\n",
              "<tr><td>15</td><td>Learn To Draw Kaw...</td><td>ART_AND_DESIGN</td><td>3.2</td><td>55</td><td>2.7</td><td>5,000+</td><td>Free</td><td>0</td><td>Everyone</td><td>Art &amp; Design</td><td>June 6, 2018</td><td>NULL</td><td>4.2 and up</td></tr>\n",
              "<tr><td>16</td><td>Photo Designer - ...</td><td>ART_AND_DESIGN</td><td>4.7</td><td>3632</td><td>5.5</td><td>500,000+</td><td>Free</td><td>0</td><td>Everyone</td><td>Art &amp; Design</td><td>July 31, 2018</td><td>3.1</td><td>4.1 and up</td></tr>\n",
              "<tr><td>17</td><td>350 Diy Room Deco...</td><td>ART_AND_DESIGN</td><td>4.5</td><td>27</td><td>17.0</td><td>10,000+</td><td>Free</td><td>0</td><td>Everyone</td><td>Art &amp; Design</td><td>November 7, 2017</td><td>1</td><td>2.3 and up</td></tr>\n",
              "<tr><td>18</td><td>FlipaClip - Carto...</td><td>ART_AND_DESIGN</td><td>4.3</td><td>194216</td><td>39.0</td><td>5,000,000+</td><td>Free</td><td>0</td><td>Everyone</td><td>Art &amp; Design</td><td>August 3, 2018</td><td>2.2.5</td><td>4.0.3 and up</td></tr>\n",
              "<tr><td>19</td><td>ibis Paint X</td><td>ART_AND_DESIGN</td><td>4.6</td><td>224399</td><td>31.0</td><td>10,000,000+</td><td>Free</td><td>0</td><td>Everyone</td><td>Art &amp; Design</td><td>July 30, 2018</td><td>5.5.4</td><td>4.1 and up</td></tr>\n",
              "</table>\n",
              "only showing top 20 rows\n"
            ]
          },
          "metadata": {},
          "execution_count": 4
        }
      ]
    },
    {
      "cell_type": "code",
      "source": [
        "df.count()"
      ],
      "metadata": {
        "colab": {
          "base_uri": "https://localhost:8080/"
        },
        "id": "2GtU31xIfZrI",
        "outputId": "a0778e60-3710-4665-f011-6236bb4b811c"
      },
      "execution_count": 5,
      "outputs": [
        {
          "output_type": "execute_result",
          "data": {
            "text/plain": [
              "9659"
            ]
          },
          "metadata": {},
          "execution_count": 5
        }
      ]
    },
    {
      "cell_type": "code",
      "source": [
        "df.printSchema()"
      ],
      "metadata": {
        "colab": {
          "base_uri": "https://localhost:8080/"
        },
        "id": "y-5WWIMQfcFh",
        "outputId": "fb563998-c267-4435-f4e0-b42dd15359c8"
      },
      "execution_count": 6,
      "outputs": [
        {
          "output_type": "stream",
          "name": "stdout",
          "text": [
            "root\n",
            " |-- _c0: integer (nullable = true)\n",
            " |-- App: string (nullable = true)\n",
            " |-- Category: string (nullable = true)\n",
            " |-- Rating: string (nullable = true)\n",
            " |-- Reviews: string (nullable = true)\n",
            " |-- Size: string (nullable = true)\n",
            " |-- Installs: string (nullable = true)\n",
            " |-- Type: string (nullable = true)\n",
            " |-- Price: string (nullable = true)\n",
            " |-- Content Rating: string (nullable = true)\n",
            " |-- Genres: string (nullable = true)\n",
            " |-- Last Updated: string (nullable = true)\n",
            " |-- Current Ver: string (nullable = true)\n",
            " |-- Android Ver: string (nullable = true)\n",
            "\n"
          ]
        }
      ]
    },
    {
      "source": [
        "print('Tamanho dataset = ', df.count())"
      ],
      "cell_type": "code",
      "metadata": {
        "colab": {
          "base_uri": "https://localhost:8080/"
        },
        "id": "teBgwYobfnjd",
        "outputId": "b758f45f-621b-4776-a200-9e7ba5b6c3a0"
      },
      "execution_count": 7,
      "outputs": [
        {
          "output_type": "stream",
          "name": "stdout",
          "text": [
            "Tamanho dataset =  9659\n"
          ]
        }
      ]
    }
  ]
}