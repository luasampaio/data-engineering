{
  "nbformat": 4,
  "nbformat_minor": 0,
  "metadata": {
    "colab": {
      "provenance": [],
      "authorship_tag": "ABX9TyMgyvi8bdl7H+rUgLnWACKf",
      "include_colab_link": true
    },
    "kernelspec": {
      "name": "python3",
      "display_name": "Python 3"
    },
    "language_info": {
      "name": "python"
    }
  },
  "cells": [
    {
      "cell_type": "markdown",
      "metadata": {
        "id": "view-in-github",
        "colab_type": "text"
      },
      "source": [
        "<a href=\"https://colab.research.google.com/github/luasampaio/data-engineering/blob/main/55_ntb_prettytable.ipynb\" target=\"_parent\"><img src=\"https://colab.research.google.com/assets/colab-badge.svg\" alt=\"Open In Colab\"/></a>"
      ]
    },
    {
      "cell_type": "code",
      "execution_count": 1,
      "metadata": {
        "id": "NtkWs6eXhM5p",
        "outputId": "8e8a3e2d-e098-47cd-8acc-955b1a4f5a43",
        "colab": {
          "base_uri": "https://localhost:8080/"
        }
      },
      "outputs": [
        {
          "output_type": "stream",
          "name": "stdout",
          "text": [
            "Requirement already satisfied: prettytable in /usr/local/lib/python3.11/dist-packages (3.16.0)\n",
            "Requirement already satisfied: wcwidth in /usr/local/lib/python3.11/dist-packages (from prettytable) (0.2.13)\n"
          ]
        }
      ],
      "source": [
        "%pip install prettytable"
      ]
    },
    {
      "cell_type": "code",
      "source": [
        "from prettytable import PrettyTable\n",
        "\n",
        "# Criar uma tabela\n",
        "tabela = PrettyTable()\n",
        "\n",
        "# Adicionar colunas\n",
        "tabela.field_names = [\"Nome\", \"Idade\", \"Profissão\"]\n",
        "\n",
        "# Adicionar linhas\n",
        "tabela.add_row([\"Luciana\", 32, \"Engenheira de Dados\"])\n",
        "tabela.add_row([\"Carlos\", 29, \"Analista de Sistemas\"])\n",
        "tabela.add_row([\"Marina\", 35, \"Cientista de Dados\"])\n",
        "\n",
        "# Exibir a tabela\n",
        "print(tabela)\n"
      ],
      "metadata": {
        "id": "N7trc8wRhQpH",
        "colab": {
          "base_uri": "https://localhost:8080/"
        },
        "outputId": "68e50658-2aea-4bb0-e780-9a13591606f1"
      },
      "execution_count": 2,
      "outputs": [
        {
          "output_type": "stream",
          "name": "stdout",
          "text": [
            "+---------+-------+----------------------+\n",
            "|   Nome  | Idade |      Profissão       |\n",
            "+---------+-------+----------------------+\n",
            "| Luciana |   32  | Engenheira de Dados  |\n",
            "|  Carlos |   29  | Analista de Sistemas |\n",
            "|  Marina |   35  |  Cientista de Dados  |\n",
            "+---------+-------+----------------------+\n"
          ]
        }
      ]
    },
    {
      "cell_type": "code",
      "source": [
        "from prettytable import PrettyTable\n",
        "\n",
        "# Criar tabela e definir nomes das colunas\n",
        "tabela = PrettyTable()\n",
        "tabela.field_names = [\"Nome\", \"Idade\", \"Profissão\"]\n",
        "\n",
        "# Adicionar linhas\n",
        "tabela.add_rows([\n",
        "    [\"Luciana\", 32, \"Engenheira de Dados\"],\n",
        "    [\"Carlos\", 29, \"Analista de Sistemas\"],\n",
        "    [\"Marina\", 35, \"Cientista de Dados\"],\n",
        "    [\"André\", 28, \"Desenvolvedor Python\"],\n",
        "])\n",
        "\n",
        "# Alinhamento por coluna\n",
        "tabela.align[\"Nome\"] = \"l\"         # Alinhar à esquerda\n",
        "tabela.align[\"Profissão\"] = \"r\"    # Alinhar à direita\n",
        "tabela.align[\"Idade\"] = \"c\"        # Centralizar\n",
        "\n",
        "# Ordenar pela idade\n",
        "tabela.sortby = \"Idade\"\n",
        "\n",
        "# Mostrar tabela\n",
        "print(tabela)\n"
      ],
      "metadata": {
        "colab": {
          "base_uri": "https://localhost:8080/"
        },
        "id": "hbz_FHARrY4v",
        "outputId": "5e5b2a29-b6e5-4524-a693-2885576a3619"
      },
      "execution_count": 3,
      "outputs": [
        {
          "output_type": "stream",
          "name": "stdout",
          "text": [
            "+---------+-------+----------------------+\n",
            "| Nome    | Idade |            Profissão |\n",
            "+---------+-------+----------------------+\n",
            "| André   |   28  | Desenvolvedor Python |\n",
            "| Carlos  |   29  | Analista de Sistemas |\n",
            "| Luciana |   32  |  Engenheira de Dados |\n",
            "| Marina  |   35  |   Cientista de Dados |\n",
            "+---------+-------+----------------------+\n"
          ]
        }
      ]
    },
    {
      "cell_type": "code",
      "source": [
        "import pyspark\n",
        "from pyspark.sql import SparkSession\n",
        "from pyspark.sql import types\n",
        "\n",
        "spark = SparkSession.builder.master(\"local[*]\").appName('test').getOrCreate()\n",
        "\n",
        "green_schema = types.StructType([\n",
        "    types.StructField(\"VendorID\", types.IntegerType(), True),\n",
        "    types.StructField(\"lpep_pickup_datetime\", types.TimestampType(), True),\n",
        "    types.StructField(\"lpep_dropoff_datetime\", types.TimestampType(), True),\n",
        "    types.StructField(\"store_and_fwd_flag\", types.StringType(), True),\n",
        "    types.StructField(\"RatecodeID\", types.IntegerType(), True),\n",
        "    types.StructField(\"PULocationID\", types.IntegerType(), True),\n",
        "    types.StructField(\"DOLocationID\", types.IntegerType(), True),\n",
        "    types.StructField(\"passenger_count\", types.IntegerType(), True),\n",
        "    types.StructField(\"trip_distance\", types.DoubleType(), True),\n",
        "    types.StructField(\"fare_amount\", types.DoubleType(), True),\n",
        "    types.StructField(\"extra\", types.DoubleType(), True),\n",
        "    types.StructField(\"mta_tax\", types.DoubleType(), True),\n",
        "    types.StructField(\"tip_amount\", types.DoubleType(), True),\n",
        "    types.StructField(\"tolls_amount\", types.DoubleType(), True),\n",
        "    types.StructField(\"ehail_fee\", types.DoubleType(), True),\n",
        "    types.StructField(\"improvement_surcharge\", types.DoubleType(), True),\n",
        "    types.StructField(\"total_amount\", types.DoubleType(), True),\n",
        "    types.StructField(\"payment_type\", types.IntegerType(), True),\n",
        "    types.StructField(\"trip_type\", types.IntegerType(), True),\n",
        "    types.StructField(\"congestion_surcharge\", types.DoubleType(), True)\n",
        "])\n",
        "\n",
        "\n",
        "years = [2020,2021]\n",
        "\n",
        "for year in years:\n",
        "    for month in range(1, 13):\n",
        "        print(f'processing data for {year}/{month}')\n",
        "\n",
        "        input_path = f'data/raw/green/{year}/{month:02d}/'\n",
        "        output_path = f'data/pq/green/{year}/{month:02d}/'\n",
        "\n"
      ],
      "metadata": {
        "id": "DoxC8ck6syF-",
        "colab": {
          "base_uri": "https://localhost:8080/"
        },
        "outputId": "2a918f0c-f39c-4df9-d3a1-329c15387140"
      },
      "execution_count": 5,
      "outputs": [
        {
          "output_type": "stream",
          "name": "stdout",
          "text": [
            "processing data for 2020/1\n",
            "processing data for 2020/2\n",
            "processing data for 2020/3\n",
            "processing data for 2020/4\n",
            "processing data for 2020/5\n",
            "processing data for 2020/6\n",
            "processing data for 2020/7\n",
            "processing data for 2020/8\n",
            "processing data for 2020/9\n",
            "processing data for 2020/10\n",
            "processing data for 2020/11\n",
            "processing data for 2020/12\n",
            "processing data for 2021/1\n",
            "processing data for 2021/2\n",
            "processing data for 2021/3\n",
            "processing data for 2021/4\n",
            "processing data for 2021/5\n",
            "processing data for 2021/6\n",
            "processing data for 2021/7\n",
            "processing data for 2021/8\n",
            "processing data for 2021/9\n",
            "processing data for 2021/10\n",
            "processing data for 2021/11\n",
            "processing data for 2021/12\n"
          ]
        }
      ]
    },
    {
      "cell_type": "code",
      "source": [
        "print(green_schema)"
      ],
      "metadata": {
        "colab": {
          "base_uri": "https://localhost:8080/"
        },
        "id": "D3DvLuP_kbq6",
        "outputId": "ab0ebea6-78f3-494d-a0cb-c76c31d52f81"
      },
      "execution_count": 6,
      "outputs": [
        {
          "output_type": "stream",
          "name": "stdout",
          "text": [
            "StructType([StructField('VendorID', IntegerType(), True), StructField('lpep_pickup_datetime', TimestampType(), True), StructField('lpep_dropoff_datetime', TimestampType(), True), StructField('store_and_fwd_flag', StringType(), True), StructField('RatecodeID', IntegerType(), True), StructField('PULocationID', IntegerType(), True), StructField('DOLocationID', IntegerType(), True), StructField('passenger_count', IntegerType(), True), StructField('trip_distance', DoubleType(), True), StructField('fare_amount', DoubleType(), True), StructField('extra', DoubleType(), True), StructField('mta_tax', DoubleType(), True), StructField('tip_amount', DoubleType(), True), StructField('tolls_amount', DoubleType(), True), StructField('ehail_fee', DoubleType(), True), StructField('improvement_surcharge', DoubleType(), True), StructField('total_amount', DoubleType(), True), StructField('payment_type', IntegerType(), True), StructField('trip_type', IntegerType(), True), StructField('congestion_surcharge', DoubleType(), True)])\n"
          ]
        }
      ]
    },
    {
      "cell_type": "code",
      "source": [],
      "metadata": {
        "id": "lDNHCI98kjBF"
      },
      "execution_count": null,
      "outputs": []
    }
  ]
}