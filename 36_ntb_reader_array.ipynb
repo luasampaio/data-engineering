{
  "nbformat": 4,
  "nbformat_minor": 0,
  "metadata": {
    "colab": {
      "provenance": [],
      "authorship_tag": "ABX9TyOzehDKKmUm/X9IPtFL1J/t",
      "include_colab_link": true
    },
    "kernelspec": {
      "name": "python3",
      "display_name": "Python 3"
    },
    "language_info": {
      "name": "python"
    }
  },
  "cells": [
    {
      "cell_type": "markdown",
      "metadata": {
        "id": "view-in-github",
        "colab_type": "text"
      },
      "source": [
        "<a href=\"https://colab.research.google.com/github/luasampaio/data-engineering/blob/main/36_ntb_reader_array.ipynb\" target=\"_parent\"><img src=\"https://colab.research.google.com/assets/colab-badge.svg\" alt=\"Open In Colab\"/></a>"
      ]
    },
    {
      "cell_type": "code",
      "execution_count": null,
      "metadata": {
        "id": "4g4LBBUs6N25"
      },
      "outputs": [],
      "source": [
        "from pyspark.sql import SparkSession\n",
        "from pyspark.sql.functions import explode, col\n",
        "\n",
        "# Cria a SparkSession\n",
        "spark = SparkSession.builder.appName(\"LerArrayExemplo\").getOrCreate()\n",
        "\n",
        "# Leitura do arquivo JSON (ajuste o caminho conforme necessário)\n",
        "df = spark.read.json(\"caminho/do/seu_arquivo.json\")\n",
        "\n",
        "# Exibe o schema para verificar a estrutura dos dados\n",
        "df.printSchema()\n",
        "# Exemplo de saída:\n",
        "# root\n",
        "#  |-- object: struct (nullable = true)\n",
        "#  |    |-- coding: array (nullable = true)\n",
        "#  |    |    |-- element: struct (containsNull = true)\n",
        "#  |    |         |-- code: string (nullable = true)\n",
        "#  |    |         |-- display: string (nullable = true)\n",
        "#  |    |         |-- system: string (nullable = true)\n",
        "#  |    |         |-- userSelected: string (nullable = true)\n",
        "#  |    |-- text: string (nullable = true)\n",
        "\n",
        "# Seleciona os campos do objeto e explode o array \"coding\"\n",
        "df_object = df.select(\"object.*\")\n",
        "df_exploded = df_object.withColumn(\"coding_exploded\", explode(\"coding\"))\n",
        "\n",
        "# Se desejar, selecione os campos da estrutura explodida junto com o campo \"text\"\n",
        "df_final = df_exploded.select(\n",
        "    col(\"coding_exploded.system\").alias(\"system\"),\n",
        "    col(\"coding_exploded.code\").alias(\"code\"),\n",
        "    col(\"coding_exploded.display\").alias(\"display\"),\n",
        "    col(\"coding_exploded.userSelected\").alias(\"userSelected\"),\n",
        "    col(\"text\")\n",
        ")\n",
        "\n",
        "# Exibe o resultado final\n",
        "df_final.show(truncate=False)\n"
      ]
    }
  ]
}