{
  "nbformat": 4,
  "nbformat_minor": 0,
  "metadata": {
    "colab": {
      "provenance": [],
      "authorship_tag": "ABX9TyOTos/IP6cYcjERLXm4npY4",
      "include_colab_link": true
    },
    "kernelspec": {
      "name": "python3",
      "display_name": "Python 3"
    },
    "language_info": {
      "name": "python"
    }
  },
  "cells": [
    {
      "cell_type": "markdown",
      "metadata": {
        "id": "view-in-github",
        "colab_type": "text"
      },
      "source": [
        "<a href=\"https://colab.research.google.com/github/luasampaio/data-engineering/blob/main/43_funcaoLit.ipynb\" target=\"_parent\"><img src=\"https://colab.research.google.com/assets/colab-badge.svg\" alt=\"Open In Colab\"/></a>"
      ]
    },
    {
      "source": [
        "from pyspark.sql import SparkSession, Row\n",
        "from pyspark.sql.functions import desc\n",
        "\n",
        "# Create a SparkSession\n",
        "spark = SparkSession.builder.appName(\"MySparkApp\").getOrCreate()\n",
        "\n",
        "df = spark.createDataFrame([(2, \"Alice\"), (5, \"Bob\")]).toDF(\"age\", \"name\")\n",
        "df2 = spark.createDataFrame([Row(height=80, name=\"Tom\"), Row(height=85, name=\"Bob\")])\n",
        "df3 = spark.createDataFrame([Row(age=2, name=\"Alice\"), Row(age=5, name=\"Bob\")])\n",
        "df4 = spark.createDataFrame([\n",
        "    Row(age=10, height=80, name=\"Alice\"),\n",
        "    Row(age=5, height=None, name=\"Bob\"),\n",
        "    Row(age=None, height=None, name=\"Tom\"),\n",
        "    Row(age=None, height=None, name=None),\n",
        "])"
      ],
      "cell_type": "code",
      "metadata": {
        "id": "iXEs2KG6U3k-"
      },
      "execution_count": null,
      "outputs": []
    },
    {
      "cell_type": "code",
      "source": [
        "df2.show()"
      ],
      "metadata": {
        "colab": {
          "base_uri": "https://localhost:8080/"
        },
        "id": "7XhBpBzVVGMB",
        "outputId": "bbf0edc7-a931-4471-ccbc-c4a8773a5436"
      },
      "execution_count": null,
      "outputs": [
        {
          "output_type": "stream",
          "name": "stdout",
          "text": [
            "+------+----+\n",
            "|height|name|\n",
            "+------+----+\n",
            "|    80| Tom|\n",
            "|    85| Bob|\n",
            "+------+----+\n",
            "\n"
          ]
        }
      ]
    },
    {
      "cell_type": "markdown",
      "source": [
        "### Funcao Lit"
      ],
      "metadata": {
        "id": "k5Q_x5FVZuSw"
      }
    },
    {
      "cell_type": "code",
      "source": [
        "from pyspark.sql import SparkSession\n",
        "from pyspark.sql.functions import lit\n",
        "\n",
        "spark = SparkSession.builder.appName(\"ExemploLit\").getOrCreate()\n",
        "\n",
        "# Criando um DataFrame de exemplo\n",
        "data = [(\"Renato\", 25), (\"JoaoSantoCristo\", 30)]\n",
        "df = spark.createDataFrame(data, [\"Nome\", \"Idade\"])\n",
        "\n",
        "# Adicionando uma nova coluna com um valor fixo\n",
        "df_novo = df.withColumn(\"País\", lit(\"Brasil\"))\n",
        "df_novo = df_novo.withColumn(\"Cidade\", lit(\"São Paulo\"))\n",
        "\n",
        "df_novo.show()"
      ],
      "metadata": {
        "colab": {
          "base_uri": "https://localhost:8080/"
        },
        "id": "wOFHM4MzZpyY",
        "outputId": "0912a6d2-4071-425e-c347-9b47eb9c0cc8"
      },
      "execution_count": null,
      "outputs": [
        {
          "output_type": "stream",
          "name": "stdout",
          "text": [
            "+---------------+-----+------+---------+\n",
            "|           Nome|Idade|  País|   Cidade|\n",
            "+---------------+-----+------+---------+\n",
            "|         Renato|   25|Brasil|São Paulo|\n",
            "|JoaoSantoCristo|   30|Brasil|São Paulo|\n",
            "+---------------+-----+------+---------+\n",
            "\n"
          ]
        }
      ]
    },
    {
      "cell_type": "code",
      "source": [
        "from pyspark.sql import SparkSession\n",
        "from pyspark.sql.functions import col, lit\n",
        "\n",
        "\n",
        "spark = SparkSession.builder.appName(\"A\").getOrCreate()\n",
        "\n",
        "# Criando um DataFrame de exemplo"
      ],
      "metadata": {
        "id": "ZRPJX70lZ9Xg"
      },
      "execution_count": null,
      "outputs": []
    },
    {
      "cell_type": "code",
      "source": [
        "from pyspark.sql import SparkSession\n",
        "spark = SparkSession.builder.getOrCreate()\n",
        "spark.range(10).show()"
      ],
      "metadata": {
        "colab": {
          "base_uri": "https://localhost:8080/"
        },
        "id": "SdE_bcA1ZaRA",
        "outputId": "78473e8d-d101-4bed-ec2f-4dbbb85fa9f0"
      },
      "execution_count": null,
      "outputs": [
        {
          "output_type": "stream",
          "name": "stdout",
          "text": [
            "+---+\n",
            "| id|\n",
            "+---+\n",
            "|  0|\n",
            "|  1|\n",
            "|  2|\n",
            "|  3|\n",
            "|  4|\n",
            "|  5|\n",
            "|  6|\n",
            "|  7|\n",
            "|  8|\n",
            "|  9|\n",
            "+---+\n",
            "\n"
          ]
        }
      ]
    },
    {
      "cell_type": "markdown",
      "source": [],
      "metadata": {
        "id": "S5qsQpW4bsBr"
      }
    },
    {
      "source": [
        "from pyspark.sql import SparkSession, Row\n",
        "from pyspark.sql.functions import desc, col, when, lit, coalesce\n",
        "\n",
        "# Create a SparkSession\n",
        "spark = SparkSession.builder.appName(\"app\").getOrCreate()\n",
        "\n",
        "# Define the data for the DataFrame\n",
        "data = [\n",
        "    Row(nome=\"Luciana\", pago=1),\n",
        "    Row(nome=\"JoaoSantoCristo\", pago=2),\n",
        "    Row(nome=\"CharlieBrow\", pago=3),\n",
        "]\n",
        "\n",
        "# Create the DataFrame\n",
        "df = spark.createDataFrame(data)\n",
        "\n",
        "# Apply the transformations\n",
        "df.select(\n",
        "    col('nome'),\n",
        "    when(col('pago') == 1, 'pago')\n",
        "    .when(col('pago') == 2, 'não pago')\n",
        "    .otherwise('sem transacao')\n",
        "    .alias('statusPagamento')\n",
        ").show()"
      ],
      "cell_type": "code",
      "metadata": {
        "colab": {
          "base_uri": "https://localhost:8080/"
        },
        "id": "_DKRd3tNbCyE",
        "outputId": "a228f131-2e5a-4595-8614-e503be5333b9"
      },
      "execution_count": null,
      "outputs": [
        {
          "output_type": "stream",
          "name": "stdout",
          "text": [
            "+---------------+---------------+\n",
            "|           nome|statusPagamento|\n",
            "+---------------+---------------+\n",
            "|          Alice|           pago|\n",
            "|JoaoSantoCristo|       não pago|\n",
            "|    CharlieBrow|  sem transacao|\n",
            "+---------------+---------------+\n",
            "\n"
          ]
        }
      ]
    },
    {
      "cell_type": "code",
      "source": [],
      "metadata": {
        "id": "UATK29sfkfjq"
      },
      "execution_count": null,
      "outputs": []
    }
  ]
}