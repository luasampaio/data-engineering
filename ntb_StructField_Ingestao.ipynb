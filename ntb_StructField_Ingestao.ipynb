{
  "nbformat": 4,
  "nbformat_minor": 0,
  "metadata": {
    "colab": {
      "provenance": [],
      "authorship_tag": "ABX9TyMkp/BTU/lVwlbGbYRUwvNd",
      "include_colab_link": true
    },
    "kernelspec": {
      "name": "python3",
      "display_name": "Python 3"
    },
    "language_info": {
      "name": "python"
    }
  },
  "cells": [
    {
      "cell_type": "markdown",
      "metadata": {
        "id": "view-in-github",
        "colab_type": "text"
      },
      "source": [
        "<a href=\"https://colab.research.google.com/github/luasampaio/data-engineering/blob/main/ntb_StructField_Ingestao.ipynb\" target=\"_parent\"><img src=\"https://colab.research.google.com/assets/colab-badge.svg\" alt=\"Open In Colab\"/></a>"
      ]
    },
    {
      "cell_type": "markdown",
      "source": [
        " - Trabalhando com StructFields\n",
        " -"
      ],
      "metadata": {
        "id": "zftwQWNuEdWn"
      }
    },
    {
      "cell_type": "code",
      "execution_count": 7,
      "metadata": {
        "colab": {
          "base_uri": "https://localhost:8080/"
        },
        "id": "E-mG4pDuEVgG",
        "outputId": "0a4cd852-6bca-4bb8-b27a-df06c1fe7ddb"
      },
      "outputs": [
        {
          "output_type": "stream",
          "name": "stdout",
          "text": [
            "+-------+----------+-----+------+---+-----+\n",
            "|   name|department|state|salary|age|bonus|\n",
            "+-------+----------+-----+------+---+-----+\n",
            "|Michael|     Sales|   NY| 90000| 34|10000|\n",
            "|Michael|     Sales|   NY| 86000| 56|20000|\n",
            "|Luciana|     Sales|   CA| 81000| 30|23000|\n",
            "|  Maria|   Finance|   CA| 90000| 24|23000|\n",
            "| Arthur|   Finance|   CA| 99000| 40|24000|\n",
            "|  Scott|   Finance|   NY| 83000| 36|19000|\n",
            "|    Jen|   Finance|   NY| 79000| 53|15000|\n",
            "|   Jeff| Marketing|   CA| 80000| 25|18000|\n",
            "|  Kumar| Marketing|   NY| 91000| 50|21000|\n",
            "+-------+----------+-----+------+---+-----+\n",
            "\n"
          ]
        }
      ],
      "source": [
        "#Create PySpark\n",
        "from pyspark.sql import SparkSession\n",
        "from pyspark.sql import SparkSession\n",
        "spark = SparkSession.builder.appName(\"Spark DataFrames\").getOrCreate()\n",
        "\n",
        "simpleData = [(\"Michael\",\"Sales\",\"NY\",90000,34,10000),\n",
        "    (\"Michael\",\"Sales\",\"NY\",86000,56,20000),\n",
        "    (\"Luciana\",\"Sales\",\"CA\",81000,30,23000),\n",
        "    (\"Maria\",\"Finance\",\"CA\",90000,24,23000),\n",
        "    (\"Arthur\",\"Finance\",\"CA\",99000,40,24000),\n",
        "    (\"Scott\",\"Finance\",\"NY\",83000,36,19000),\n",
        "    (\"Jen\",\"Finance\",\"NY\",79000,53,15000),\n",
        "    (\"Jeff\",\"Marketing\",\"CA\",80000,25,18000),\n",
        "    (\"Kumar\",\"Marketing\",\"NY\",91000,50,21000)\n",
        "  ]\n",
        "\n",
        "# Define schema for the DataFrame\n",
        "from pyspark.sql.types import StructType, StructField, StringType, IntegerType\n",
        "\n",
        "schema = StructType([\n",
        "    StructField(\"name\", StringType(), True),\n",
        "    StructField(\"department\", StringType(), True),\n",
        "    StructField(\"state\", StringType(), True),\n",
        "    StructField(\"salary\", IntegerType(), True),\n",
        "    StructField(\"age\", IntegerType(), True),\n",
        "    StructField(\"bonus\", IntegerType(), True)\n",
        "])\n",
        "\n",
        "# Create a PySpark DataFrame\n",
        "df = spark.createDataFrame(data=simpleData, schema=schema)\n",
        "\n",
        "# Now you can use .show()\n",
        "df.show()"
      ]
    },
    {
      "cell_type": "code",
      "source": [
        "from pyspark.sql.functions import monotonically_increasing_id\n",
        "\n",
        "df = df.withColumn(\"id\", monotonically_increasing_id())\n",
        "display(df)"
      ],
      "metadata": {
        "colab": {
          "base_uri": "https://localhost:8080/",
          "height": 34
        },
        "id": "h1VCLr7ZHMRc",
        "outputId": "e7f9532d-176e-42c8-bd42-499986a7b830"
      },
      "execution_count": 8,
      "outputs": [
        {
          "output_type": "display_data",
          "data": {
            "text/plain": [
              "DataFrame[name: string, department: string, state: string, salary: int, age: int, bonus: int, id: bigint]"
            ]
          },
          "metadata": {}
        }
      ]
    },
    {
      "cell_type": "code",
      "source": [
        "df.show(truncate=False)"
      ],
      "metadata": {
        "colab": {
          "base_uri": "https://localhost:8080/"
        },
        "id": "7V5UJpNnExGa",
        "outputId": "74ed8b4f-1140-4283-f164-91476a9288df"
      },
      "execution_count": 9,
      "outputs": [
        {
          "output_type": "stream",
          "name": "stdout",
          "text": [
            "+-------+----------+-----+------+---+-----+----------+\n",
            "|name   |department|state|salary|age|bonus|id        |\n",
            "+-------+----------+-----+------+---+-----+----------+\n",
            "|Michael|Sales     |NY   |90000 |34 |10000|0         |\n",
            "|Michael|Sales     |NY   |86000 |56 |20000|1         |\n",
            "|Luciana|Sales     |CA   |81000 |30 |23000|2         |\n",
            "|Maria  |Finance   |CA   |90000 |24 |23000|3         |\n",
            "|Arthur |Finance   |CA   |99000 |40 |24000|8589934592|\n",
            "|Scott  |Finance   |NY   |83000 |36 |19000|8589934593|\n",
            "|Jen    |Finance   |NY   |79000 |53 |15000|8589934594|\n",
            "|Jeff   |Marketing |CA   |80000 |25 |18000|8589934595|\n",
            "|Kumar  |Marketing |NY   |91000 |50 |21000|8589934596|\n",
            "+-------+----------+-----+------+---+-----+----------+\n",
            "\n"
          ]
        }
      ]
    },
    {
      "cell_type": "code",
      "source": [
        "## Resetar o id\n",
        "\n",
        "from pyspark.sql.functions import row_number\n",
        "from pyspark.sql.window import Window\n",
        "\n",
        "df = df.withColumn(\"id\", row_number().over(Window.orderBy(\"name\")))\n",
        "display(df)\n",
        "df.show(truncate=False)\n"
      ],
      "metadata": {
        "colab": {
          "base_uri": "https://localhost:8080/",
          "height": 277
        },
        "id": "BWtoztAYHc8G",
        "outputId": "2fab9dbf-dcfe-41bd-ccb2-f0a094d9574f"
      },
      "execution_count": 10,
      "outputs": [
        {
          "output_type": "display_data",
          "data": {
            "text/plain": [
              "DataFrame[name: string, department: string, state: string, salary: int, age: int, bonus: int, id: int]"
            ]
          },
          "metadata": {}
        },
        {
          "output_type": "stream",
          "name": "stdout",
          "text": [
            "+-------+----------+-----+------+---+-----+---+\n",
            "|name   |department|state|salary|age|bonus|id |\n",
            "+-------+----------+-----+------+---+-----+---+\n",
            "|Arthur |Finance   |CA   |99000 |40 |24000|1  |\n",
            "|Jeff   |Marketing |CA   |80000 |25 |18000|2  |\n",
            "|Jen    |Finance   |NY   |79000 |53 |15000|3  |\n",
            "|Kumar  |Marketing |NY   |91000 |50 |21000|4  |\n",
            "|Luciana|Sales     |CA   |81000 |30 |23000|5  |\n",
            "|Maria  |Finance   |CA   |90000 |24 |23000|6  |\n",
            "|Michael|Sales     |NY   |90000 |34 |10000|7  |\n",
            "|Michael|Sales     |NY   |86000 |56 |20000|8  |\n",
            "|Scott  |Finance   |NY   |83000 |36 |19000|9  |\n",
            "+-------+----------+-----+------+---+-----+---+\n",
            "\n"
          ]
        }
      ]
    },
    {
      "cell_type": "code",
      "source": [
        "\n",
        "\n",
        "from pyspark.sql.functions import monotonically_increasing_id, row_number\n",
        "from pyspark.sql.window import Window\n",
        "\n",
        "# Adiciona uma coluna \"id\" com valores únicos e ordenados\n",
        "df = df.withColumn(\"id\", row_number().over(Window.orderBy(monotonically_increasing_id())))\n",
        "\n",
        "# Move a coluna \"id\" para a primeira posição\n",
        "columns = df.columns\n",
        "columns.remove(\"id\")\n",
        "columns.insert(0, \"id\")\n",
        "df = df.select(columns)\n",
        "\n",
        "display(df)\n",
        "df.show(truncate=False)\n"
      ],
      "metadata": {
        "colab": {
          "base_uri": "https://localhost:8080/",
          "height": 277
        },
        "id": "1cCs0k5LHo5O",
        "outputId": "073171eb-d4e0-4f9f-b4aa-7faf96c26e47"
      },
      "execution_count": 11,
      "outputs": [
        {
          "output_type": "display_data",
          "data": {
            "text/plain": [
              "DataFrame[id: int, name: string, department: string, state: string, salary: int, age: int, bonus: int]"
            ]
          },
          "metadata": {}
        },
        {
          "output_type": "stream",
          "name": "stdout",
          "text": [
            "+---+-------+----------+-----+------+---+-----+\n",
            "|id |name   |department|state|salary|age|bonus|\n",
            "+---+-------+----------+-----+------+---+-----+\n",
            "|1  |Michael|Sales     |NY   |90000 |34 |10000|\n",
            "|2  |Michael|Sales     |NY   |86000 |56 |20000|\n",
            "|3  |Luciana|Sales     |CA   |81000 |30 |23000|\n",
            "|4  |Maria  |Finance   |CA   |90000 |24 |23000|\n",
            "|5  |Arthur |Finance   |CA   |99000 |40 |24000|\n",
            "|6  |Scott  |Finance   |NY   |83000 |36 |19000|\n",
            "|7  |Jen    |Finance   |NY   |79000 |53 |15000|\n",
            "|8  |Jeff   |Marketing |CA   |80000 |25 |18000|\n",
            "|9  |Kumar  |Marketing |NY   |91000 |50 |21000|\n",
            "+---+-------+----------+-----+------+---+-----+\n",
            "\n"
          ]
        }
      ]
    },
    {
      "cell_type": "markdown",
      "source": [
        "## Verificando as colunas"
      ],
      "metadata": {
        "id": "iGxYQWObID6t"
      }
    },
    {
      "cell_type": "code",
      "source": [
        "df.columns"
      ],
      "metadata": {
        "colab": {
          "base_uri": "https://localhost:8080/"
        },
        "id": "ZWEWQrQpH9rA",
        "outputId": "c0953560-a3ec-4a09-ccff-273b387381dc"
      },
      "execution_count": 13,
      "outputs": [
        {
          "output_type": "execute_result",
          "data": {
            "text/plain": [
              "['id', 'name', 'department', 'state', 'salary', 'age', 'bonus']"
            ]
          },
          "metadata": {},
          "execution_count": 13
        }
      ]
    },
    {
      "cell_type": "code",
      "source": [
        "import datetime\n",
        "dt = datetime.datetime.now()\n",
        "print(dt)"
      ],
      "metadata": {
        "colab": {
          "base_uri": "https://localhost:8080/"
        },
        "id": "tlu8M1SwE0KL",
        "outputId": "1500a9b6-94a7-4a9a-826c-d434846bb172"
      },
      "execution_count": 14,
      "outputs": [
        {
          "output_type": "stream",
          "name": "stdout",
          "text": [
            "2025-01-31 20:49:26.608022\n"
          ]
        }
      ]
    },
    {
      "cell_type": "code",
      "source": [],
      "metadata": {
        "id": "LE2n1BrRIIJt"
      },
      "execution_count": null,
      "outputs": []
    },
    {
      "cell_type": "code",
      "source": [
        "df.printSchema()"
      ],
      "metadata": {
        "colab": {
          "base_uri": "https://localhost:8080/"
        },
        "id": "fkZ_JH-JE2w6",
        "outputId": "0115b906-db95-419c-c1bb-d151e63af17c"
      },
      "execution_count": 4,
      "outputs": [
        {
          "output_type": "stream",
          "name": "stdout",
          "text": [
            "root\n",
            " |-- name: string (nullable = true)\n",
            " |-- department: string (nullable = true)\n",
            " |-- state: string (nullable = true)\n",
            " |-- salary: integer (nullable = true)\n",
            " |-- age: integer (nullable = true)\n",
            " |-- bonus: integer (nullable = true)\n",
            "\n"
          ]
        }
      ]
    },
    {
      "cell_type": "code",
      "source": [
        "from pyspark.sql.functions import lit\n",
        "from pyspark.sql.functions import when\n",
        "\n",
        "df.withColumn(\"age\", \\\n",
        "  when((df.age < 30), lit(None)) \\\n",
        "    .when((df.age >= 18) & (df.age <= 60), lit(\"adulto\")) \\\n",
        "    .otherwise(lit(\"idoso\")) \\\n",
        "  ).show()"
      ],
      "metadata": {
        "colab": {
          "base_uri": "https://localhost:8080/"
        },
        "id": "RiP5DTl6E_Lv",
        "outputId": "10274a43-9956-4799-a574-eb83b27a7ff1"
      },
      "execution_count": 5,
      "outputs": [
        {
          "output_type": "stream",
          "name": "stdout",
          "text": [
            "+-------+----------+-----+------+------+-----+\n",
            "|   name|department|state|salary|   age|bonus|\n",
            "+-------+----------+-----+------+------+-----+\n",
            "|Michael|     Sales|   NY| 90000|adulto|10000|\n",
            "|Michael|     Sales|   NY| 86000|adulto|20000|\n",
            "|Luciana|     Sales|   CA| 81000|adulto|23000|\n",
            "|  Maria|   Finance|   CA| 90000|  NULL|23000|\n",
            "| Arthur|   Finance|   CA| 99000|adulto|24000|\n",
            "|  Scott|   Finance|   NY| 83000|adulto|19000|\n",
            "|    Jen|   Finance|   NY| 79000|adulto|15000|\n",
            "|   Jeff| Marketing|   CA| 80000|  NULL|18000|\n",
            "|  Kumar| Marketing|   NY| 91000|adulto|21000|\n",
            "+-------+----------+-----+------+------+-----+\n",
            "\n"
          ]
        }
      ]
    },
    {
      "cell_type": "code",
      "source": [
        "display(df)"
      ],
      "metadata": {
        "colab": {
          "base_uri": "https://localhost:8080/",
          "height": 34
        },
        "id": "wAmNi4bbFr_t",
        "outputId": "55bb6594-ca99-4575-8182-33ba93168515"
      },
      "execution_count": 6,
      "outputs": [
        {
          "output_type": "display_data",
          "data": {
            "text/plain": [
              "DataFrame[name: string, department: string, state: string, salary: int, age: int, bonus: int]"
            ]
          },
          "metadata": {}
        }
      ]
    },
    {
      "cell_type": "code",
      "source": [],
      "metadata": {
        "id": "TQ7dgCQpHBxF"
      },
      "execution_count": null,
      "outputs": []
    }
  ]
}