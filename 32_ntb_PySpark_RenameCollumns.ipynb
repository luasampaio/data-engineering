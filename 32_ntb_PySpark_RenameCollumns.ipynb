{
  "nbformat": 4,
  "nbformat_minor": 0,
  "metadata": {
    "colab": {
      "provenance": [],
      "authorship_tag": "ABX9TyMxYeYOPR7zNPFWf1RcsSEP",
      "include_colab_link": true
    },
    "kernelspec": {
      "name": "python3",
      "display_name": "Python 3"
    },
    "language_info": {
      "name": "python"
    }
  },
  "cells": [
    {
      "cell_type": "markdown",
      "metadata": {
        "id": "view-in-github",
        "colab_type": "text"
      },
      "source": [
        "<a href=\"https://colab.research.google.com/github/luasampaio/data-engineering/blob/main/32_ntb_PySpark_RenameCollumns.ipynb\" target=\"_parent\"><img src=\"https://colab.research.google.com/assets/colab-badge.svg\" alt=\"Open In Colab\"/></a>"
      ]
    },
    {
      "cell_type": "markdown",
      "source": [
        "\n",
        "###  Renomeando de forma dinâmica as colunas com PySpark\n",
        " > Uso Dicionário para renomar\n",
        "\n",
        "\n",
        "- Criado em 28.01.25\n",
        "\n",
        "- Por: Luciana Sampaio\n",
        "- Email: luciana.sampaio84@gmail.com\n",
        "- LinkedIn: Luciana Sampaio"
      ],
      "metadata": {
        "id": "M2xuWtTWgxo0"
      }
    },
    {
      "cell_type": "markdown",
      "source": [
        "   - testando modularizar code\n",
        "   "
      ],
      "metadata": {
        "id": "88sPhCTCTMv5"
      }
    },
    {
      "source": [
        "#Example to load csv\n",
        "import pandas as pd\n",
        "# Import necessary libraries\n",
        "from pyspark.sql import SparkSession\n",
        "\n",
        "# Create a SparkSession\n",
        "spark = SparkSession.builder.appName(\"CSVLoad\").getOrCreate()\n",
        "\n",
        "sdf = spark.createDataFrame(pd.read_csv(\"https://raw.githubusercontent.com/fivethirtyeight/data/master/airline-safety/airline-safety.csv\"))"
      ],
      "cell_type": "code",
      "metadata": {
        "id": "ecMV9nm1kpxR"
      },
      "execution_count": null,
      "outputs": []
    },
    {
      "cell_type": "code",
      "source": [
        "import requests\n",
        "\n",
        "def get_response(url):\n",
        "    try:\n",
        "        response = requests.get(url)\n",
        "        return response\n",
        "    except Exception as e:\n",
        "        print(e)\n",
        "        raise\n"
      ],
      "metadata": {
        "id": "bI3VVrh1kj8x"
      },
      "execution_count": null,
      "outputs": []
    },
    {
      "cell_type": "code",
      "source": [
        "sdf.show()"
      ],
      "metadata": {
        "colab": {
          "base_uri": "https://localhost:8080/"
        },
        "id": "vmQpYZIgqA_L",
        "outputId": "a3a20b58-c114-43a9-ee88-87e9b4da1df1"
      },
      "execution_count": null,
      "outputs": [
        {
          "output_type": "stream",
          "name": "stdout",
          "text": [
            "+--------------------+----------------------+---------------+---------------------+----------------+---------------+---------------------+----------------+\n",
            "|             airline|avail_seat_km_per_week|incidents_85_99|fatal_accidents_85_99|fatalities_85_99|incidents_00_14|fatal_accidents_00_14|fatalities_00_14|\n",
            "+--------------------+----------------------+---------------+---------------------+----------------+---------------+---------------------+----------------+\n",
            "|          Aer Lingus|             320906734|              2|                    0|               0|              0|                    0|               0|\n",
            "|           Aeroflot*|            1197672318|             76|                   14|             128|              6|                    1|              88|\n",
            "|Aerolineas Argent...|             385803648|              6|                    0|               0|              1|                    0|               0|\n",
            "|         Aeromexico*|             596871813|              3|                    1|              64|              5|                    0|               0|\n",
            "|          Air Canada|            1865253802|              2|                    0|               0|              2|                    0|               0|\n",
            "|          Air France|            3004002661|             14|                    4|              79|              6|                    2|             337|\n",
            "|          Air India*|             869253552|              2|                    1|             329|              4|                    1|             158|\n",
            "|    Air New Zealand*|             710174817|              3|                    0|               0|              5|                    1|               7|\n",
            "|    Alaska Airlines*|             965346773|              5|                    0|               0|              5|                    1|              88|\n",
            "|            Alitalia|             698012498|              7|                    2|              50|              4|                    0|               0|\n",
            "|  All Nippon Airways|            1841234177|              3|                    1|               1|              7|                    0|               0|\n",
            "|           American*|            5228357340|             21|                    5|             101|             17|                    3|             416|\n",
            "|   Austrian Airlines|             358239823|              1|                    0|               0|              1|                    0|               0|\n",
            "|             Avianca|             396922563|              5|                    3|             323|              0|                    0|               0|\n",
            "|    British Airways*|            3179760952|              4|                    0|               0|              6|                    0|               0|\n",
            "|     Cathay Pacific*|            2582459303|              0|                    0|               0|              2|                    0|               0|\n",
            "|      China Airlines|             813216487|             12|                    6|             535|              2|                    1|             225|\n",
            "|              Condor|             417982610|              2|                    1|              16|              0|                    0|               0|\n",
            "|                COPA|             550491507|              3|                    1|              47|              0|                    0|               0|\n",
            "|  Delta / Northwest*|            6525658894|             24|                   12|             407|             24|                    2|              51|\n",
            "+--------------------+----------------------+---------------+---------------------+----------------+---------------+---------------------+----------------+\n",
            "only showing top 20 rows\n",
            "\n"
          ]
        }
      ]
    },
    {
      "source": [
        "# Dicionário de renomeação (coluna_atual -> novo_nome)\n",
        "rename_dict = {\n",
        "    \"airline\": \"Companhia\",\n",
        "    \"fatal_accidents_85_99\": \"acidentes_fatais_85_99\",\n",
        "    \"incidents_00_14\": \"incidentes_00_14\",\n",
        "    \"avail_seat_km_per_week\": \"assento_disponível_km_por_semana\",\n",
        "    \"fatalities_00_14\": \"fatais_00_14\"\n",
        "\n",
        "}\n",
        "\n",
        "\n",
        "# Aplicando renomeação usando loop\n",
        "# Changed 'df' to 'sdf' to work with the Spark DataFrame\n",
        "for old_col, new_col in rename_dict.items():\n",
        "    sdf = sdf.withColumnRenamed(old_col, new_col)\n",
        "# Assigning the final DataFrame to 'df' for consistency\n",
        "df = sdf"
      ],
      "cell_type": "code",
      "metadata": {
        "id": "xBd2-HZqunq_"
      },
      "execution_count": null,
      "outputs": []
    },
    {
      "cell_type": "code",
      "source": [
        "df.show(7)"
      ],
      "metadata": {
        "colab": {
          "base_uri": "https://localhost:8080/"
        },
        "id": "HFdMqFvCsBFl",
        "outputId": "d2369d3d-a02e-4e95-d0f3-36e2ea2ae38f"
      },
      "execution_count": null,
      "outputs": [
        {
          "output_type": "stream",
          "name": "stdout",
          "text": [
            "+--------------------+--------------------------------+---------------+----------------------+----------------+----------------+---------------------+------------+\n",
            "|           Companhia|assento_disponível_km_por_semana|incidents_85_99|acidentes_fatais_85_99|fatalities_85_99|incidentes_00_14|fatal_accidents_00_14|fatais_00_14|\n",
            "+--------------------+--------------------------------+---------------+----------------------+----------------+----------------+---------------------+------------+\n",
            "|          Aer Lingus|                       320906734|              2|                     0|               0|               0|                    0|           0|\n",
            "|           Aeroflot*|                      1197672318|             76|                    14|             128|               6|                    1|          88|\n",
            "|Aerolineas Argent...|                       385803648|              6|                     0|               0|               1|                    0|           0|\n",
            "|         Aeromexico*|                       596871813|              3|                     1|              64|               5|                    0|           0|\n",
            "|          Air Canada|                      1865253802|              2|                     0|               0|               2|                    0|           0|\n",
            "|          Air France|                      3004002661|             14|                     4|              79|               6|                    2|         337|\n",
            "|          Air India*|                       869253552|              2|                     1|             329|               4|                    1|         158|\n",
            "+--------------------+--------------------------------+---------------+----------------------+----------------+----------------+---------------------+------------+\n",
            "only showing top 7 rows\n",
            "\n"
          ]
        }
      ]
    },
    {
      "cell_type": "code",
      "source": [
        "# Convertendo nomes das colunas para maiusculas\n",
        "df = df.toDF(*[col.upper() for col in df.columns])"
      ],
      "metadata": {
        "id": "0lZgjOZNs1g0"
      },
      "execution_count": null,
      "outputs": []
    },
    {
      "cell_type": "code",
      "source": [
        "df.show(7)"
      ],
      "metadata": {
        "colab": {
          "base_uri": "https://localhost:8080/"
        },
        "id": "axGcn-1MtJ85",
        "outputId": "91e937d3-ab43-40e7-c989-461ff9e43025"
      },
      "execution_count": null,
      "outputs": [
        {
          "output_type": "stream",
          "name": "stdout",
          "text": [
            "+--------------------+--------------------------------+---------------+----------------------+----------------+----------------+---------------------+------------+\n",
            "|           COMPANHIA|ASSENTO_DISPONÍVEL_KM_POR_SEMANA|INCIDENTS_85_99|ACIDENTES_FATAIS_85_99|FATALITIES_85_99|INCIDENTES_00_14|FATAL_ACCIDENTS_00_14|FATAIS_00_14|\n",
            "+--------------------+--------------------------------+---------------+----------------------+----------------+----------------+---------------------+------------+\n",
            "|          Aer Lingus|                       320906734|              2|                     0|               0|               0|                    0|           0|\n",
            "|           Aeroflot*|                      1197672318|             76|                    14|             128|               6|                    1|          88|\n",
            "|Aerolineas Argent...|                       385803648|              6|                     0|               0|               1|                    0|           0|\n",
            "|         Aeromexico*|                       596871813|              3|                     1|              64|               5|                    0|           0|\n",
            "|          Air Canada|                      1865253802|              2|                     0|               0|               2|                    0|           0|\n",
            "|          Air France|                      3004002661|             14|                     4|              79|               6|                    2|         337|\n",
            "|          Air India*|                       869253552|              2|                     1|             329|               4|                    1|         158|\n",
            "+--------------------+--------------------------------+---------------+----------------------+----------------+----------------+---------------------+------------+\n",
            "only showing top 7 rows\n",
            "\n"
          ]
        }
      ]
    },
    {
      "cell_type": "code",
      "source": [
        "# lista das empresas aerea\n",
        "\n",
        "df.select(\"COMPANHIA\").rdd.flatMap(lambda x: x).collect()\n"
      ],
      "metadata": {
        "colab": {
          "base_uri": "https://localhost:8080/"
        },
        "id": "aunfxrSFtTcg",
        "outputId": "f63602cd-452f-4de8-d262-f11378f08724"
      },
      "execution_count": null,
      "outputs": [
        {
          "output_type": "execute_result",
          "data": {
            "text/plain": [
              "['Aer Lingus',\n",
              " 'Aeroflot*',\n",
              " 'Aerolineas Argentinas',\n",
              " 'Aeromexico*',\n",
              " 'Air Canada',\n",
              " 'Air France',\n",
              " 'Air India*',\n",
              " 'Air New Zealand*',\n",
              " 'Alaska Airlines*',\n",
              " 'Alitalia',\n",
              " 'All Nippon Airways',\n",
              " 'American*',\n",
              " 'Austrian Airlines',\n",
              " 'Avianca',\n",
              " 'British Airways*',\n",
              " 'Cathay Pacific*',\n",
              " 'China Airlines',\n",
              " 'Condor',\n",
              " 'COPA',\n",
              " 'Delta / Northwest*',\n",
              " 'Egyptair',\n",
              " 'El Al',\n",
              " 'Ethiopian Airlines',\n",
              " 'Finnair',\n",
              " 'Garuda Indonesia',\n",
              " 'Gulf Air',\n",
              " 'Hawaiian Airlines',\n",
              " 'Iberia',\n",
              " 'Japan Airlines',\n",
              " 'Kenya Airways',\n",
              " 'KLM*',\n",
              " 'Korean Air',\n",
              " 'LAN Airlines',\n",
              " 'Lufthansa*',\n",
              " 'Malaysia Airlines',\n",
              " 'Pakistan International',\n",
              " 'Philippine Airlines',\n",
              " 'Qantas*',\n",
              " 'Royal Air Maroc',\n",
              " 'SAS*',\n",
              " 'Saudi Arabian',\n",
              " 'Singapore Airlines',\n",
              " 'South African',\n",
              " 'Southwest Airlines',\n",
              " 'Sri Lankan / AirLanka',\n",
              " 'SWISS*',\n",
              " 'TACA',\n",
              " 'TAM',\n",
              " 'TAP - Air Portugal',\n",
              " 'Thai Airways',\n",
              " 'Turkish Airlines',\n",
              " 'United / Continental*',\n",
              " 'US Airways / America West*',\n",
              " 'Vietnam Airlines',\n",
              " 'Virgin Atlantic',\n",
              " 'Xiamen Airlines']"
            ]
          },
          "metadata": {},
          "execution_count": 9
        }
      ]
    },
    {
      "cell_type": "code",
      "source": [
        "df.printSchema()"
      ],
      "metadata": {
        "colab": {
          "base_uri": "https://localhost:8080/"
        },
        "id": "1ZKzzk3Vx0PS",
        "outputId": "e1301b52-febc-41ed-acb8-13b2353b0c60"
      },
      "execution_count": null,
      "outputs": [
        {
          "output_type": "stream",
          "name": "stdout",
          "text": [
            "root\n",
            " |-- COMPANHIA: string (nullable = true)\n",
            " |-- ASSENTO_DISPONÍVEL_KM_POR_SEMANA: long (nullable = true)\n",
            " |-- INCIDENTS_85_99: long (nullable = true)\n",
            " |-- ACIDENTES_FATAIS_85_99: long (nullable = true)\n",
            " |-- FATALITIES_85_99: long (nullable = true)\n",
            " |-- INCIDENTES_00_14: long (nullable = true)\n",
            " |-- FATAL_ACCIDENTS_00_14: long (nullable = true)\n",
            " |-- FATAIS_00_14: long (nullable = true)\n",
            "\n"
          ]
        }
      ]
    },
    {
      "cell_type": "code",
      "source": [],
      "metadata": {
        "id": "8YKicE8TyKP5"
      },
      "execution_count": null,
      "outputs": []
    }
  ]
}