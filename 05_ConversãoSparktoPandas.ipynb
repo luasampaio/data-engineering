{
  "nbformat": 4,
  "nbformat_minor": 0,
  "metadata": {
    "colab": {
      "provenance": [],
      "authorship_tag": "ABX9TyOivYb3CmAVdn82FsQ8Uwt6",
      "include_colab_link": true
    },
    "kernelspec": {
      "name": "python3",
      "display_name": "Python 3"
    },
    "language_info": {
      "name": "python"
    }
  },
  "cells": [
    {
      "cell_type": "markdown",
      "metadata": {
        "id": "view-in-github",
        "colab_type": "text"
      },
      "source": [
        "<a href=\"https://colab.research.google.com/github/luasampaio/data-engineering/blob/main/05_Convers%C3%A3oSparktoPandas.ipynb\" target=\"_parent\"><img src=\"https://colab.research.google.com/assets/colab-badge.svg\" alt=\"Open In Colab\"/></a>"
      ]
    },
    {
      "cell_type": "markdown",
      "source": [
        "Demostração para converter dataframe em spark para Pandas\n"
      ],
      "metadata": {
        "id": "onPR3oOaduE-"
      }
    },
    {
      "cell_type": "code",
      "execution_count": 1,
      "metadata": {
        "id": "KS6nfmUkdUrr"
      },
      "outputs": [],
      "source": [
        "from pyspark.sql import SparkSession\n",
        "import pyspark .sql.functions as F"
      ]
    },
    {
      "cell_type": "code",
      "source": [
        "spark = (\n",
        "    SparkSession.builder.appName('PySpark - LucianaSampaio')\n",
        "    .config('spark.sql.repl.eagerEval.enabled', True)\n",
        "    .getOrCreate()\n",
        ")"
      ],
      "metadata": {
        "id": "DI_LSCXvd5HZ"
      },
      "execution_count": 2,
      "outputs": []
    },
    {
      "cell_type": "markdown",
      "source": [
        "Montando Drive e carregando"
      ],
      "metadata": {
        "id": "pJZ_-tmZfXke"
      }
    },
    {
      "source": [
        "# Mount Google Drive to Colab runtime (if applicable)\n",
        "from google.colab import drive\n",
        "drive.mount('/content/drive')\n",
        "\n",
        "# Read the CSV file using Spark\n",
        "df = spark.read.csv('/content/drive/MyDrive/.Dataset/orders_full.csv', sep=',', encoding='UTF-8', header=True, inferSchema=True)\n",
        "df.show() # Display the DataFrame to verify if it's loaded correctly"
      ],
      "cell_type": "code",
      "metadata": {
        "colab": {
          "base_uri": "https://localhost:8080/"
        },
        "id": "_PW2f-mRfOht",
        "outputId": "5dda602b-b6bd-4816-bff1-df0baf19524c"
      },
      "execution_count": 3,
      "outputs": [
        {
          "output_type": "stream",
          "name": "stdout",
          "text": [
            "Drive already mounted at /content/drive; to attempt to forcibly remount, call drive.mount(\"/content/drive\", force_remount=True).\n",
            "+--------+--------------------+-----------+------------+--------+\n",
            "|ORDER_ID|      ORDER_DATETIME|CUSTOMER_ID|ORDER_STATUS|STORE_ID|\n",
            "+--------+--------------------+-----------+------------+--------+\n",
            "|     447|06-JAN-22 09.35.4...|        355|    COMPLETE|       1|\n",
            "|     448|06-JAN-22 10.23.1...|        155|    COMPLETE|       1|\n",
            "|     449|06-JAN-22 01.21.5...|        242|    COMPLETE|       1|\n",
            "|     450|06-JAN-22 05.57.0...|         49|    COMPLETE|       1|\n",
            "|     451|06-JAN-22 10.39.0...|        204|    COMPLETE|       1|\n",
            "|     452|07-JAN-22 01.11.4...|        216|    COMPLETE|       1|\n",
            "|     453|07-JAN-22 06.53.0...|          4|    COMPLETE|       4|\n",
            "|     454|07-JAN-22 03.55.1...|        388|    COMPLETE|       1|\n",
            "|     455|07-JAN-22 06.38.3...|        291|    COMPLETE|       1|\n",
            "|     456|08-JAN-22 12.52.1...|        272|    COMPLETE|       1|\n",
            "|     457|08-JAN-22 10.13.3...|        307|    COMPLETE|       1|\n",
            "|     458|08-JAN-22 11.03.3...|         42|    COMPLETE|       1|\n",
            "|     459|09-JAN-22 02.35.1...|        390|    COMPLETE|       1|\n",
            "|     460|09-JAN-22 03.35.5...|        235|    COMPLETE|       1|\n",
            "|     461|09-JAN-22 12.54.1...|        302|    COMPLETE|       1|\n",
            "|     462|09-JAN-22 02.44.4...|        357|    COMPLETE|       1|\n",
            "|     463|09-JAN-22 02.54.3...|        271|    COMPLETE|       1|\n",
            "|     464|09-JAN-22 05.16.1...|         79|    COMPLETE|       1|\n",
            "|     465|09-JAN-22 09.42.5...|        280|    COMPLETE|       1|\n",
            "|     466|10-JAN-22 07.42.0...|        210|    COMPLETE|       7|\n",
            "+--------+--------------------+-----------+------------+--------+\n",
            "only showing top 20 rows\n",
            "\n"
          ]
        }
      ]
    },
    {
      "cell_type": "code",
      "source": [
        "df.printSchema()"
      ],
      "metadata": {
        "colab": {
          "base_uri": "https://localhost:8080/"
        },
        "id": "_8Fn7mnXfdb6",
        "outputId": "bba2c33e-2567-4a12-f3a7-4e8eab615962"
      },
      "execution_count": 4,
      "outputs": [
        {
          "output_type": "stream",
          "name": "stdout",
          "text": [
            "root\n",
            " |-- ORDER_ID: integer (nullable = true)\n",
            " |-- ORDER_DATETIME: string (nullable = true)\n",
            " |-- CUSTOMER_ID: integer (nullable = true)\n",
            " |-- ORDER_STATUS: string (nullable = true)\n",
            " |-- STORE_ID: integer (nullable = true)\n",
            "\n"
          ]
        }
      ]
    },
    {
      "cell_type": "markdown",
      "source": [
        "CONVERTE PARA DATETIME"
      ],
      "metadata": {
        "id": "onB330U-gn09"
      }
    },
    {
      "cell_type": "code",
      "source": [
        "dtypedf = df.dtypes\n",
        "print(dtypedf)"
      ],
      "metadata": {
        "colab": {
          "base_uri": "https://localhost:8080/"
        },
        "id": "-trrigPnhFeb",
        "outputId": "ccb79261-c8b7-4602-98b2-b10305266209"
      },
      "execution_count": 5,
      "outputs": [
        {
          "output_type": "stream",
          "name": "stdout",
          "text": [
            "[('ORDER_ID', 'int'), ('ORDER_DATETIME', 'string'), ('CUSTOMER_ID', 'int'), ('ORDER_STATUS', 'string'), ('STORE_ID', 'int')]\n"
          ]
        }
      ]
    },
    {
      "cell_type": "code",
      "source": [
        "type(dtypedf)"
      ],
      "metadata": {
        "colab": {
          "base_uri": "https://localhost:8080/"
        },
        "id": "VFI8Ac2zhLsf",
        "outputId": "a53bfddf-eeb5-4722-b2e9-85d774a3b6ee"
      },
      "execution_count": 6,
      "outputs": [
        {
          "output_type": "execute_result",
          "data": {
            "text/plain": [
              "list"
            ]
          },
          "metadata": {},
          "execution_count": 6
        }
      ]
    },
    {
      "cell_type": "code",
      "source": [
        "df.select('ORDER_DATETIME').dtypes"
      ],
      "metadata": {
        "colab": {
          "base_uri": "https://localhost:8080/"
        },
        "id": "mV6f8EpYi1Hf",
        "outputId": "7f2a3c63-9d9e-4d98-9de2-922789b9c400"
      },
      "execution_count": 7,
      "outputs": [
        {
          "output_type": "execute_result",
          "data": {
            "text/plain": [
              "[('ORDER_DATETIME', 'string')]"
            ]
          },
          "metadata": {},
          "execution_count": 7
        }
      ]
    },
    {
      "cell_type": "code",
      "source": [
        "#verificando o tipo dataframe\n",
        "print(type(df))"
      ],
      "metadata": {
        "colab": {
          "base_uri": "https://localhost:8080/"
        },
        "id": "yiOBfsUui_F-",
        "outputId": "73f16f53-7077-4b81-8b1c-0e73c20eaea6"
      },
      "execution_count": 8,
      "outputs": [
        {
          "output_type": "stream",
          "name": "stdout",
          "text": [
            "<class 'pyspark.sql.dataframe.DataFrame'>\n"
          ]
        }
      ]
    },
    {
      "cell_type": "code",
      "source": [
        "df.show(7)"
      ],
      "metadata": {
        "colab": {
          "base_uri": "https://localhost:8080/"
        },
        "id": "W6m7o6_hj5ZW",
        "outputId": "4921f5d3-d8bf-40bf-cc52-37df0e071031"
      },
      "execution_count": 9,
      "outputs": [
        {
          "output_type": "stream",
          "name": "stdout",
          "text": [
            "+--------+--------------------+-----------+------------+--------+\n",
            "|ORDER_ID|      ORDER_DATETIME|CUSTOMER_ID|ORDER_STATUS|STORE_ID|\n",
            "+--------+--------------------+-----------+------------+--------+\n",
            "|     447|06-JAN-22 09.35.4...|        355|    COMPLETE|       1|\n",
            "|     448|06-JAN-22 10.23.1...|        155|    COMPLETE|       1|\n",
            "|     449|06-JAN-22 01.21.5...|        242|    COMPLETE|       1|\n",
            "|     450|06-JAN-22 05.57.0...|         49|    COMPLETE|       1|\n",
            "|     451|06-JAN-22 10.39.0...|        204|    COMPLETE|       1|\n",
            "|     452|07-JAN-22 01.11.4...|        216|    COMPLETE|       1|\n",
            "|     453|07-JAN-22 06.53.0...|          4|    COMPLETE|       4|\n",
            "+--------+--------------------+-----------+------------+--------+\n",
            "only showing top 7 rows\n",
            "\n"
          ]
        }
      ]
    },
    {
      "cell_type": "code",
      "source": [
        "# Converter para Pandas\n",
        "df_pandas = df.toPandas()"
      ],
      "metadata": {
        "id": "3FAEySy_kAeJ"
      },
      "execution_count": 10,
      "outputs": []
    },
    {
      "cell_type": "code",
      "source": [
        "#verificando o tipo dataframe\n",
        "print(type(df_pandas))"
      ],
      "metadata": {
        "colab": {
          "base_uri": "https://localhost:8080/"
        },
        "id": "VuVnIAWTkpon",
        "outputId": "1f40ff52-73a0-433b-a263-56327990a847"
      },
      "execution_count": 12,
      "outputs": [
        {
          "output_type": "stream",
          "name": "stdout",
          "text": [
            "<class 'pandas.core.frame.DataFrame'>\n"
          ]
        }
      ]
    },
    {
      "cell_type": "markdown",
      "source": [
        "Validando a conversão to pandas"
      ],
      "metadata": {
        "id": "FmkYSnqKlVZz"
      }
    },
    {
      "cell_type": "code",
      "source": [
        "df_pandas.head(6)"
      ],
      "metadata": {
        "colab": {
          "base_uri": "https://localhost:8080/",
          "height": 238
        },
        "id": "7JiOocJylOyt",
        "outputId": "24ca9aea-0c4d-4f60-b29d-aa13c7235945"
      },
      "execution_count": 14,
      "outputs": [
        {
          "output_type": "execute_result",
          "data": {
            "text/plain": [
              "   ORDER_ID         ORDER_DATETIME  CUSTOMER_ID ORDER_STATUS  STORE_ID\n",
              "0       447  06-JAN-22 09.35.42.00          355     COMPLETE         1\n",
              "1       448  06-JAN-22 10.23.14.00          155     COMPLETE         1\n",
              "2       449  06-JAN-22 01.21.54.00          242     COMPLETE         1\n",
              "3       450  06-JAN-22 05.57.04.00           49     COMPLETE         1\n",
              "4       451  06-JAN-22 10.39.07.00          204     COMPLETE         1\n",
              "5       452  07-JAN-22 01.11.46.00          216     COMPLETE         1"
            ],
            "text/html": [
              "\n",
              "  <div id=\"df-53e7a6ee-2cc8-4444-ba5f-fef802a7f8fc\" class=\"colab-df-container\">\n",
              "    <div>\n",
              "<style scoped>\n",
              "    .dataframe tbody tr th:only-of-type {\n",
              "        vertical-align: middle;\n",
              "    }\n",
              "\n",
              "    .dataframe tbody tr th {\n",
              "        vertical-align: top;\n",
              "    }\n",
              "\n",
              "    .dataframe thead th {\n",
              "        text-align: right;\n",
              "    }\n",
              "</style>\n",
              "<table border=\"1\" class=\"dataframe\">\n",
              "  <thead>\n",
              "    <tr style=\"text-align: right;\">\n",
              "      <th></th>\n",
              "      <th>ORDER_ID</th>\n",
              "      <th>ORDER_DATETIME</th>\n",
              "      <th>CUSTOMER_ID</th>\n",
              "      <th>ORDER_STATUS</th>\n",
              "      <th>STORE_ID</th>\n",
              "    </tr>\n",
              "  </thead>\n",
              "  <tbody>\n",
              "    <tr>\n",
              "      <th>0</th>\n",
              "      <td>447</td>\n",
              "      <td>06-JAN-22 09.35.42.00</td>\n",
              "      <td>355</td>\n",
              "      <td>COMPLETE</td>\n",
              "      <td>1</td>\n",
              "    </tr>\n",
              "    <tr>\n",
              "      <th>1</th>\n",
              "      <td>448</td>\n",
              "      <td>06-JAN-22 10.23.14.00</td>\n",
              "      <td>155</td>\n",
              "      <td>COMPLETE</td>\n",
              "      <td>1</td>\n",
              "    </tr>\n",
              "    <tr>\n",
              "      <th>2</th>\n",
              "      <td>449</td>\n",
              "      <td>06-JAN-22 01.21.54.00</td>\n",
              "      <td>242</td>\n",
              "      <td>COMPLETE</td>\n",
              "      <td>1</td>\n",
              "    </tr>\n",
              "    <tr>\n",
              "      <th>3</th>\n",
              "      <td>450</td>\n",
              "      <td>06-JAN-22 05.57.04.00</td>\n",
              "      <td>49</td>\n",
              "      <td>COMPLETE</td>\n",
              "      <td>1</td>\n",
              "    </tr>\n",
              "    <tr>\n",
              "      <th>4</th>\n",
              "      <td>451</td>\n",
              "      <td>06-JAN-22 10.39.07.00</td>\n",
              "      <td>204</td>\n",
              "      <td>COMPLETE</td>\n",
              "      <td>1</td>\n",
              "    </tr>\n",
              "    <tr>\n",
              "      <th>5</th>\n",
              "      <td>452</td>\n",
              "      <td>07-JAN-22 01.11.46.00</td>\n",
              "      <td>216</td>\n",
              "      <td>COMPLETE</td>\n",
              "      <td>1</td>\n",
              "    </tr>\n",
              "  </tbody>\n",
              "</table>\n",
              "</div>\n",
              "    <div class=\"colab-df-buttons\">\n",
              "\n",
              "  <div class=\"colab-df-container\">\n",
              "    <button class=\"colab-df-convert\" onclick=\"convertToInteractive('df-53e7a6ee-2cc8-4444-ba5f-fef802a7f8fc')\"\n",
              "            title=\"Convert this dataframe to an interactive table.\"\n",
              "            style=\"display:none;\">\n",
              "\n",
              "  <svg xmlns=\"http://www.w3.org/2000/svg\" height=\"24px\" viewBox=\"0 -960 960 960\">\n",
              "    <path d=\"M120-120v-720h720v720H120Zm60-500h600v-160H180v160Zm220 220h160v-160H400v160Zm0 220h160v-160H400v160ZM180-400h160v-160H180v160Zm440 0h160v-160H620v160ZM180-180h160v-160H180v160Zm440 0h160v-160H620v160Z\"/>\n",
              "  </svg>\n",
              "    </button>\n",
              "\n",
              "  <style>\n",
              "    .colab-df-container {\n",
              "      display:flex;\n",
              "      gap: 12px;\n",
              "    }\n",
              "\n",
              "    .colab-df-convert {\n",
              "      background-color: #E8F0FE;\n",
              "      border: none;\n",
              "      border-radius: 50%;\n",
              "      cursor: pointer;\n",
              "      display: none;\n",
              "      fill: #1967D2;\n",
              "      height: 32px;\n",
              "      padding: 0 0 0 0;\n",
              "      width: 32px;\n",
              "    }\n",
              "\n",
              "    .colab-df-convert:hover {\n",
              "      background-color: #E2EBFA;\n",
              "      box-shadow: 0px 1px 2px rgba(60, 64, 67, 0.3), 0px 1px 3px 1px rgba(60, 64, 67, 0.15);\n",
              "      fill: #174EA6;\n",
              "    }\n",
              "\n",
              "    .colab-df-buttons div {\n",
              "      margin-bottom: 4px;\n",
              "    }\n",
              "\n",
              "    [theme=dark] .colab-df-convert {\n",
              "      background-color: #3B4455;\n",
              "      fill: #D2E3FC;\n",
              "    }\n",
              "\n",
              "    [theme=dark] .colab-df-convert:hover {\n",
              "      background-color: #434B5C;\n",
              "      box-shadow: 0px 1px 3px 1px rgba(0, 0, 0, 0.15);\n",
              "      filter: drop-shadow(0px 1px 2px rgba(0, 0, 0, 0.3));\n",
              "      fill: #FFFFFF;\n",
              "    }\n",
              "  </style>\n",
              "\n",
              "    <script>\n",
              "      const buttonEl =\n",
              "        document.querySelector('#df-53e7a6ee-2cc8-4444-ba5f-fef802a7f8fc button.colab-df-convert');\n",
              "      buttonEl.style.display =\n",
              "        google.colab.kernel.accessAllowed ? 'block' : 'none';\n",
              "\n",
              "      async function convertToInteractive(key) {\n",
              "        const element = document.querySelector('#df-53e7a6ee-2cc8-4444-ba5f-fef802a7f8fc');\n",
              "        const dataTable =\n",
              "          await google.colab.kernel.invokeFunction('convertToInteractive',\n",
              "                                                    [key], {});\n",
              "        if (!dataTable) return;\n",
              "\n",
              "        const docLinkHtml = 'Like what you see? Visit the ' +\n",
              "          '<a target=\"_blank\" href=https://colab.research.google.com/notebooks/data_table.ipynb>data table notebook</a>'\n",
              "          + ' to learn more about interactive tables.';\n",
              "        element.innerHTML = '';\n",
              "        dataTable['output_type'] = 'display_data';\n",
              "        await google.colab.output.renderOutput(dataTable, element);\n",
              "        const docLink = document.createElement('div');\n",
              "        docLink.innerHTML = docLinkHtml;\n",
              "        element.appendChild(docLink);\n",
              "      }\n",
              "    </script>\n",
              "  </div>\n",
              "\n",
              "\n",
              "<div id=\"df-5cef5057-f300-4dcb-841e-824e3513539e\">\n",
              "  <button class=\"colab-df-quickchart\" onclick=\"quickchart('df-5cef5057-f300-4dcb-841e-824e3513539e')\"\n",
              "            title=\"Suggest charts\"\n",
              "            style=\"display:none;\">\n",
              "\n",
              "<svg xmlns=\"http://www.w3.org/2000/svg\" height=\"24px\"viewBox=\"0 0 24 24\"\n",
              "     width=\"24px\">\n",
              "    <g>\n",
              "        <path d=\"M19 3H5c-1.1 0-2 .9-2 2v14c0 1.1.9 2 2 2h14c1.1 0 2-.9 2-2V5c0-1.1-.9-2-2-2zM9 17H7v-7h2v7zm4 0h-2V7h2v10zm4 0h-2v-4h2v4z\"/>\n",
              "    </g>\n",
              "</svg>\n",
              "  </button>\n",
              "\n",
              "<style>\n",
              "  .colab-df-quickchart {\n",
              "      --bg-color: #E8F0FE;\n",
              "      --fill-color: #1967D2;\n",
              "      --hover-bg-color: #E2EBFA;\n",
              "      --hover-fill-color: #174EA6;\n",
              "      --disabled-fill-color: #AAA;\n",
              "      --disabled-bg-color: #DDD;\n",
              "  }\n",
              "\n",
              "  [theme=dark] .colab-df-quickchart {\n",
              "      --bg-color: #3B4455;\n",
              "      --fill-color: #D2E3FC;\n",
              "      --hover-bg-color: #434B5C;\n",
              "      --hover-fill-color: #FFFFFF;\n",
              "      --disabled-bg-color: #3B4455;\n",
              "      --disabled-fill-color: #666;\n",
              "  }\n",
              "\n",
              "  .colab-df-quickchart {\n",
              "    background-color: var(--bg-color);\n",
              "    border: none;\n",
              "    border-radius: 50%;\n",
              "    cursor: pointer;\n",
              "    display: none;\n",
              "    fill: var(--fill-color);\n",
              "    height: 32px;\n",
              "    padding: 0;\n",
              "    width: 32px;\n",
              "  }\n",
              "\n",
              "  .colab-df-quickchart:hover {\n",
              "    background-color: var(--hover-bg-color);\n",
              "    box-shadow: 0 1px 2px rgba(60, 64, 67, 0.3), 0 1px 3px 1px rgba(60, 64, 67, 0.15);\n",
              "    fill: var(--button-hover-fill-color);\n",
              "  }\n",
              "\n",
              "  .colab-df-quickchart-complete:disabled,\n",
              "  .colab-df-quickchart-complete:disabled:hover {\n",
              "    background-color: var(--disabled-bg-color);\n",
              "    fill: var(--disabled-fill-color);\n",
              "    box-shadow: none;\n",
              "  }\n",
              "\n",
              "  .colab-df-spinner {\n",
              "    border: 2px solid var(--fill-color);\n",
              "    border-color: transparent;\n",
              "    border-bottom-color: var(--fill-color);\n",
              "    animation:\n",
              "      spin 1s steps(1) infinite;\n",
              "  }\n",
              "\n",
              "  @keyframes spin {\n",
              "    0% {\n",
              "      border-color: transparent;\n",
              "      border-bottom-color: var(--fill-color);\n",
              "      border-left-color: var(--fill-color);\n",
              "    }\n",
              "    20% {\n",
              "      border-color: transparent;\n",
              "      border-left-color: var(--fill-color);\n",
              "      border-top-color: var(--fill-color);\n",
              "    }\n",
              "    30% {\n",
              "      border-color: transparent;\n",
              "      border-left-color: var(--fill-color);\n",
              "      border-top-color: var(--fill-color);\n",
              "      border-right-color: var(--fill-color);\n",
              "    }\n",
              "    40% {\n",
              "      border-color: transparent;\n",
              "      border-right-color: var(--fill-color);\n",
              "      border-top-color: var(--fill-color);\n",
              "    }\n",
              "    60% {\n",
              "      border-color: transparent;\n",
              "      border-right-color: var(--fill-color);\n",
              "    }\n",
              "    80% {\n",
              "      border-color: transparent;\n",
              "      border-right-color: var(--fill-color);\n",
              "      border-bottom-color: var(--fill-color);\n",
              "    }\n",
              "    90% {\n",
              "      border-color: transparent;\n",
              "      border-bottom-color: var(--fill-color);\n",
              "    }\n",
              "  }\n",
              "</style>\n",
              "\n",
              "  <script>\n",
              "    async function quickchart(key) {\n",
              "      const quickchartButtonEl =\n",
              "        document.querySelector('#' + key + ' button');\n",
              "      quickchartButtonEl.disabled = true;  // To prevent multiple clicks.\n",
              "      quickchartButtonEl.classList.add('colab-df-spinner');\n",
              "      try {\n",
              "        const charts = await google.colab.kernel.invokeFunction(\n",
              "            'suggestCharts', [key], {});\n",
              "      } catch (error) {\n",
              "        console.error('Error during call to suggestCharts:', error);\n",
              "      }\n",
              "      quickchartButtonEl.classList.remove('colab-df-spinner');\n",
              "      quickchartButtonEl.classList.add('colab-df-quickchart-complete');\n",
              "    }\n",
              "    (() => {\n",
              "      let quickchartButtonEl =\n",
              "        document.querySelector('#df-5cef5057-f300-4dcb-841e-824e3513539e button');\n",
              "      quickchartButtonEl.style.display =\n",
              "        google.colab.kernel.accessAllowed ? 'block' : 'none';\n",
              "    })();\n",
              "  </script>\n",
              "</div>\n",
              "\n",
              "    </div>\n",
              "  </div>\n"
            ],
            "application/vnd.google.colaboratory.intrinsic+json": {
              "type": "dataframe",
              "variable_name": "df_pandas",
              "summary": "{\n  \"name\": \"df_pandas\",\n  \"rows\": 1950,\n  \"fields\": [\n    {\n      \"column\": \"ORDER_ID\",\n      \"properties\": {\n        \"dtype\": \"int32\",\n        \"num_unique_values\": 1950,\n        \"samples\": [\n          1615,\n          1406,\n          312\n        ],\n        \"semantic_type\": \"\",\n        \"description\": \"\"\n      }\n    },\n    {\n      \"column\": \"ORDER_DATETIME\",\n      \"properties\": {\n        \"dtype\": \"string\",\n        \"num_unique_values\": 1950,\n        \"samples\": [\n          \"10-AUG-22 01.37.41.00\",\n          \"10-JUL-22 10.47.29.00\",\n          \"02-DEC-21 03.40.13.00\"\n        ],\n        \"semantic_type\": \"\",\n        \"description\": \"\"\n      }\n    },\n    {\n      \"column\": \"CUSTOMER_ID\",\n      \"properties\": {\n        \"dtype\": \"int32\",\n        \"num_unique_values\": 392,\n        \"samples\": [\n          130,\n          165,\n          12\n        ],\n        \"semantic_type\": \"\",\n        \"description\": \"\"\n      }\n    },\n    {\n      \"column\": \"ORDER_STATUS\",\n      \"properties\": {\n        \"dtype\": \"category\",\n        \"num_unique_values\": 3,\n        \"samples\": [\n          \"COMPLETE\",\n          \"CANCELLED\",\n          \"REFUNDED\"\n        ],\n        \"semantic_type\": \"\",\n        \"description\": \"\"\n      }\n    },\n    {\n      \"column\": \"STORE_ID\",\n      \"properties\": {\n        \"dtype\": \"int32\",\n        \"num_unique_values\": 23,\n        \"samples\": [\n          16,\n          10,\n          1\n        ],\n        \"semantic_type\": \"\",\n        \"description\": \"\"\n      }\n    }\n  ]\n}"
            }
          },
          "metadata": {},
          "execution_count": 14
        }
      ]
    },
    {
      "cell_type": "code",
      "source": [],
      "metadata": {
        "id": "B-QREzc9lUqZ"
      },
      "execution_count": null,
      "outputs": []
    }
  ]
}