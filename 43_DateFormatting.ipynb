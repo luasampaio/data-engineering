{
  "nbformat": 4,
  "nbformat_minor": 0,
  "metadata": {
    "colab": {
      "provenance": [],
      "authorship_tag": "ABX9TyMKLNR4I1arZCbjys2UxH7m",
      "include_colab_link": true
    },
    "kernelspec": {
      "name": "python3",
      "display_name": "Python 3"
    },
    "language_info": {
      "name": "python"
    }
  },
  "cells": [
    {
      "cell_type": "markdown",
      "metadata": {
        "id": "view-in-github",
        "colab_type": "text"
      },
      "source": [
        "<a href=\"https://colab.research.google.com/github/luasampaio/data-engineering/blob/main/43_DateFormatting.ipynb\" target=\"_parent\"><img src=\"https://colab.research.google.com/assets/colab-badge.svg\" alt=\"Open In Colab\"/></a>"
      ]
    },
    {
      "source": [
        "from pyspark.sql import SparkSession\n",
        "from pyspark.sql.functions import date_format, col\n",
        "\n",
        "# Create a SparkSession\n",
        "spark = SparkSession.builder.appName(\"DateFormatting\").getOrCreate()\n",
        "\n",
        "# Sample data - replace with your actual data loading process\n",
        "data = [(\"2023-12-31\",), (\"2023-01-15\",)]\n",
        "data1 = spark.createDataFrame(data, [\"date1\"])\n",
        "\n",
        "# Now you can use data1\n",
        "data1.select(\n",
        "    date_format(col('date1'), 'dd-MM-yyyy').alias(\"formatted_date\")\n",
        ").show()"
      ],
      "cell_type": "code",
      "metadata": {
        "colab": {
          "base_uri": "https://localhost:8080/"
        },
        "id": "5LEdXUv9MjbF",
        "outputId": "ed826d48-0654-4a47-faf9-cdd51f4a0ac2"
      },
      "execution_count": null,
      "outputs": [
        {
          "output_type": "stream",
          "name": "stdout",
          "text": [
            "+--------------+\n",
            "|formatted_date|\n",
            "+--------------+\n",
            "|    31-12-2023|\n",
            "|    15-01-2023|\n",
            "+--------------+\n",
            "\n"
          ]
        }
      ]
    },
    {
      "cell_type": "code",
      "source": [
        "from pyspark.sql.functions import current_timestamp\n",
        "def add_ingestion_date(input_df):\n",
        "  output_df = input_df.withColumn(\"ingestion_date\", current_timestamp())\n",
        "  return output_df_"
      ],
      "metadata": {
        "id": "HQ8ClyAOMliX"
      },
      "execution_count": null,
      "outputs": []
    },
    {
      "cell_type": "code",
      "source": [],
      "metadata": {
        "id": "64Yf_928SS1k"
      },
      "execution_count": null,
      "outputs": []
    }
  ]
}