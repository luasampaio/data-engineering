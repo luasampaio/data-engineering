{
  "nbformat": 4,
  "nbformat_minor": 0,
  "metadata": {
    "colab": {
      "provenance": [],
      "authorship_tag": "ABX9TyNSmTIk3oxrPnliZjuZAbRL",
      "include_colab_link": true
    },
    "kernelspec": {
      "name": "python3",
      "display_name": "Python 3"
    },
    "language_info": {
      "name": "python"
    }
  },
  "cells": [
    {
      "cell_type": "markdown",
      "metadata": {
        "id": "view-in-github",
        "colab_type": "text"
      },
      "source": [
        "<a href=\"https://colab.research.google.com/github/luasampaio/data-engineering/blob/main/40_Broadcast.ipynb\" target=\"_parent\"><img src=\"https://colab.research.google.com/assets/colab-badge.svg\" alt=\"Open In Colab\"/></a>"
      ]
    },
    {
      "cell_type": "markdown",
      "source": [
        "Broadcasting DataFrames  em  PySpark\n",
        "\n",
        "- Criado por : Luciana Sampaio\n",
        "- 11.03.25\n",
        "\n"
      ],
      "metadata": {
        "id": "svkmaYYxkH1f"
      }
    },
    {
      "cell_type": "code",
      "execution_count": 25,
      "metadata": {
        "colab": {
          "base_uri": "https://localhost:8080/"
        },
        "id": "v--VuX_WhGb1",
        "outputId": "5bb63138-52c9-452e-8eba-190c044b35f0"
      },
      "outputs": [
        {
          "output_type": "stream",
          "name": "stdout",
          "text": [
            "CPU times: user 2 µs, sys: 0 ns, total: 2 µs\n",
            "Wall time: 6.44 µs\n",
            "+---+\n",
            "| id|\n",
            "+---+\n",
            "|  1|\n",
            "|  2|\n",
            "|  3|\n",
            "|  4|\n",
            "|  5|\n",
            "+---+\n",
            "\n"
          ]
        }
      ],
      "source": [
        "%time\n",
        "\n",
        "from pyspark.sql import SparkSession\n",
        "from pyspark.sql.functions import col, udf\n",
        "from pyspark.sql.types import BooleanType\n",
        "\n",
        "# Initialize Spark session\n",
        "spark = SparkSession.builder.appName(\"Exemplo 01\").getOrCreate()\n",
        "\n",
        "# Sample large DataFrame\n",
        "large_df = spark.range(100)\n",
        "\n",
        "# Broadcast variable example\n",
        "broadcast_var = spark.sparkContext.broadcast([1, 2, 3, 4, 5])\n",
        "\n",
        "# Function to filter data using broadcast variable\n",
        "def filter_data(value):\n",
        "    return value in broadcast_var.value\n",
        "\n",
        "# Register UDF\n",
        "filter_data_udf = udf(filter_data, BooleanType())\n",
        "\n",
        "# Apply filter operation with broadcast variable\n",
        "filtered_data = large_df.filter(filter_data_udf(col(\"id\")))\n",
        "filtered_data.show()"
      ]
    },
    {
      "cell_type": "code",
      "source": [
        "%time\n",
        "\n",
        "from pyspark.sql import SparkSession\n",
        "from pyspark.sql.functions import broadcast\n",
        "\n",
        "# Initialize Spark session\n",
        "spark = SparkSession.builder.appName(\"Broadcast Join Example\").getOrCreate()\n",
        "\n",
        "# Sample small DataFrame\n",
        "small_df = spark.createDataFrame([(1, \"A\"), (2, \"B\"), (3, \"C\")], [\"id\", \"value\"])\n",
        "\n",
        "# Sample large DataFrame\n",
        "large_df = spark.range(1000).toDF(\"id\")\n",
        "\n",
        "# Perform broadcast join\n",
        "joined_df = large_df.join(broadcast(small_df), \"id\")\n",
        "\n",
        "# Show the results\n",
        "joined_df.show()"
      ],
      "metadata": {
        "colab": {
          "base_uri": "https://localhost:8080/"
        },
        "id": "yOG0zNfThUJ9",
        "outputId": "aab01b76-51dd-401a-ba13-619d625c1ec5"
      },
      "execution_count": 26,
      "outputs": [
        {
          "output_type": "stream",
          "name": "stdout",
          "text": [
            "CPU times: user 3 µs, sys: 0 ns, total: 3 µs\n",
            "Wall time: 6.2 µs\n",
            "+---+-----+\n",
            "| id|value|\n",
            "+---+-----+\n",
            "|  1|    A|\n",
            "|  2|    B|\n",
            "|  3|    C|\n",
            "+---+-----+\n",
            "\n"
          ]
        }
      ]
    },
    {
      "cell_type": "code",
      "source": [
        "large_df.count()"
      ],
      "metadata": {
        "colab": {
          "base_uri": "https://localhost:8080/"
        },
        "id": "x9d3uxBpjDgy",
        "outputId": "2d09aa60-b031-47e2-a417-223865f34c44"
      },
      "execution_count": 8,
      "outputs": [
        {
          "output_type": "execute_result",
          "data": {
            "text/plain": [
              "1000"
            ]
          },
          "metadata": {},
          "execution_count": 8
        }
      ]
    },
    {
      "cell_type": "code",
      "source": [
        "large_df.printSchema()"
      ],
      "metadata": {
        "colab": {
          "base_uri": "https://localhost:8080/"
        },
        "id": "vmF2AcHmjGd0",
        "outputId": "698394d9-f0ee-4cfd-f8f9-3e22f3aa77be"
      },
      "execution_count": 9,
      "outputs": [
        {
          "output_type": "stream",
          "name": "stdout",
          "text": [
            "root\n",
            " |-- id: long (nullable = false)\n",
            "\n"
          ]
        }
      ]
    },
    {
      "cell_type": "code",
      "source": [
        "large_df.show(3)"
      ],
      "metadata": {
        "colab": {
          "base_uri": "https://localhost:8080/"
        },
        "id": "wCDgEjz7jIxI",
        "outputId": "68841684-715c-40a4-df12-f6e1cc3a997b"
      },
      "execution_count": 11,
      "outputs": [
        {
          "output_type": "stream",
          "name": "stdout",
          "text": [
            "+---+\n",
            "| id|\n",
            "+---+\n",
            "|  0|\n",
            "|  1|\n",
            "|  2|\n",
            "+---+\n",
            "only showing top 3 rows\n",
            "\n"
          ]
        }
      ]
    },
    {
      "cell_type": "code",
      "source": [
        "from pyspark.sql import SparkSession\n",
        "\n",
        "spark = SparkSession.builder.appName(\"Broadcasting Example\").getOrCreate()\n",
        "\n",
        "# Create a small DataFrame with product categories and discounts\n",
        "category_data = [(\"A\", 10), (\"B\", 20), (\"C\", 30)]\n",
        "category_df = spark.createDataFrame(category_data, [\"category\", \"discount\"])"
      ],
      "metadata": {
        "id": "XdeI1TpejIJF"
      },
      "execution_count": 14,
      "outputs": []
    },
    {
      "cell_type": "code",
      "source": [
        "from pyspark.sql.functions import broadcast\n",
        "\n",
        "broadcast_category_df = broadcast(category_df)"
      ],
      "metadata": {
        "id": "HAYIt-onzlkd"
      },
      "execution_count": 15,
      "outputs": []
    },
    {
      "cell_type": "code",
      "source": [
        "broadcast_category_df.show()"
      ],
      "metadata": {
        "colab": {
          "base_uri": "https://localhost:8080/"
        },
        "id": "rcuNeETqzrk1",
        "outputId": "9ddfd646-dc1d-4f03-fff2-e997956572b4"
      },
      "execution_count": 16,
      "outputs": [
        {
          "output_type": "stream",
          "name": "stdout",
          "text": [
            "+--------+--------+\n",
            "|category|discount|\n",
            "+--------+--------+\n",
            "|       A|      10|\n",
            "|       B|      20|\n",
            "|       C|      30|\n",
            "+--------+--------+\n",
            "\n"
          ]
        }
      ]
    },
    {
      "cell_type": "markdown",
      "source": [
        "Agora usando efetivamente o broadcast"
      ],
      "metadata": {
        "id": "vnjjL6LwzzeZ"
      }
    },
    {
      "cell_type": "code",
      "source": [
        "# Create a larger DataFrame with sales data\n",
        "sales_data = [(\"product1\", \"A\", 100), (\"product2\", \"B\", 200), (\"product3\", \"C\", 300)]\n",
        "sales_df = spark.createDataFrame(sales_data, [\"product\", \"category\", \"revenue\"])\n",
        "\n",
        "# Join the sales DataFrame with the broadcasted category DataFrame\n",
        "result_df = sales_df.join(broadcast_category_df, on=\"category\")"
      ],
      "metadata": {
        "id": "tFEic4kTzvNU"
      },
      "execution_count": 17,
      "outputs": []
    },
    {
      "cell_type": "code",
      "source": [
        "result_df.show()"
      ],
      "metadata": {
        "colab": {
          "base_uri": "https://localhost:8080/"
        },
        "id": "HZjGYqxGz_R0",
        "outputId": "e97d7912-f062-401e-d54f-cc06854e0443"
      },
      "execution_count": 18,
      "outputs": [
        {
          "output_type": "stream",
          "name": "stdout",
          "text": [
            "+--------+--------+-------+--------+\n",
            "|category| product|revenue|discount|\n",
            "+--------+--------+-------+--------+\n",
            "|       A|product1|    100|      10|\n",
            "|       B|product2|    200|      20|\n",
            "|       C|product3|    300|      30|\n",
            "+--------+--------+-------+--------+\n",
            "\n"
          ]
        }
      ]
    },
    {
      "cell_type": "code",
      "source": [
        "sales_df.show()"
      ],
      "metadata": {
        "colab": {
          "base_uri": "https://localhost:8080/"
        },
        "id": "cN8LtSl80IGH",
        "outputId": "82b90ce7-38a9-487b-8f15-1ac3649402ae"
      },
      "execution_count": 19,
      "outputs": [
        {
          "output_type": "stream",
          "name": "stdout",
          "text": [
            "+--------+--------+-------+\n",
            "| product|category|revenue|\n",
            "+--------+--------+-------+\n",
            "|product1|       A|    100|\n",
            "|product2|       B|    200|\n",
            "|product3|       C|    300|\n",
            "+--------+--------+-------+\n",
            "\n"
          ]
        }
      ]
    },
    {
      "cell_type": "code",
      "source": [
        "broadcast_category_df.show()"
      ],
      "metadata": {
        "colab": {
          "base_uri": "https://localhost:8080/"
        },
        "id": "ZXB7HqPT0J-H",
        "outputId": "26b67515-830f-45c3-e6bf-10235fb81e85"
      },
      "execution_count": 21,
      "outputs": [
        {
          "output_type": "stream",
          "name": "stdout",
          "text": [
            "+--------+--------+\n",
            "|category|discount|\n",
            "+--------+--------+\n",
            "|       A|      10|\n",
            "|       B|      20|\n",
            "|       C|      30|\n",
            "+--------+--------+\n",
            "\n"
          ]
        }
      ]
    }
  ]
}